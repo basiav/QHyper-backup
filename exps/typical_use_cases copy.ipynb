{
 "cells": [
  {
   "cell_type": "markdown",
   "metadata": {},
   "source": [
    "# Typical use cases"
   ]
  },
  {
   "cell_type": "markdown",
   "metadata": {},
   "source": [
    "## Problem\n",
    "\n",
    "In this notebook, we provide examples of different solver configurations a for sample Knapsack Problem with three items. The goal is to put the selected items in the knapsack to achieve the maximal cost with total weight not exceeding the `max_weight`.  The `items_weights` and `items_values` fields specify the weight and cost of each item, respectively.\n",
    "\n",
    "```yaml\n",
    "problem:\n",
    "  type: knapsack\n",
    "  max_weight: 2\n",
    "  items_weights: [1, 1, 1]\n",
    "  items_values: [2, 2, 1]\n",
    "```"
   ]
  },
  {
   "cell_type": "code",
   "execution_count": null,
   "metadata": {},
   "outputs": [],
   "source": [
    "qaqa_config_yaml = \"\"\"\n",
    "problem:\n",
    "  type: knapsack\n",
    "  max_weight: 2\n",
    "  item_weights: [1, 1, 1]\n",
    "  item_values: [2, 2, 1]\n",
    "solver:\n",
    "  name: advantage\n",
    "    \n",
    "\"\"\""
   ]
  },
  {
   "cell_type": "code",
   "execution_count": 12,
   "metadata": {},
   "outputs": [
    {
     "ename": "SolverNotFoundError",
     "evalue": "No solver with name='Advantage_system5.4' available",
     "output_type": "error",
     "traceback": [
      "\u001b[1;31m---------------------------------------------------------------------------\u001b[0m",
      "\u001b[1;31mSolverError\u001b[0m                               Traceback (most recent call last)",
      "File \u001b[1;32mc:\\Users\\basia\\anaconda3\\envs\\qomm_env\\lib\\site-packages\\dwave\\cloud\\client\\base.py:694\u001b[0m, in \u001b[0;36mClient._fetch_solvers\u001b[1;34m(self, name)\u001b[0m\n\u001b[0;32m    693\u001b[0m \u001b[38;5;28;01mtry\u001b[39;00m:\n\u001b[1;32m--> 694\u001b[0m     data \u001b[38;5;241m=\u001b[39m \u001b[43mClient\u001b[49m\u001b[38;5;241;43m.\u001b[39;49m\u001b[43m_sapi_request\u001b[49m\u001b[43m(\u001b[49m\u001b[38;5;28;43mself\u001b[39;49m\u001b[38;5;241;43m.\u001b[39;49m\u001b[43msession\u001b[49m\u001b[38;5;241;43m.\u001b[39;49m\u001b[43mget\u001b[49m\u001b[43m,\u001b[49m\u001b[43m \u001b[49m\u001b[43murl\u001b[49m\u001b[43m)\u001b[49m\n\u001b[0;32m    695\u001b[0m \u001b[38;5;28;01mexcept\u001b[39;00m SAPIError \u001b[38;5;28;01mas\u001b[39;00m exc:\n",
      "File \u001b[1;32mc:\\Users\\basia\\anaconda3\\envs\\qomm_env\\lib\\site-packages\\dwave\\cloud\\client\\base.py:1735\u001b[0m, in \u001b[0;36mClient._sapi_request\u001b[1;34m(meth, *args, **kwargs)\u001b[0m\n\u001b[0;32m   1734\u001b[0m \u001b[38;5;66;03m# NOTE: for backwards compat only. Change to: SAPIError\u001b[39;00m\n\u001b[1;32m-> 1735\u001b[0m \u001b[38;5;28;01mraise\u001b[39;00m SolverError(error_msg\u001b[38;5;241m=\u001b[39merror_msg, error_code\u001b[38;5;241m=\u001b[39merror_code)\n",
      "\u001b[1;31mSolverError\u001b[0m: Solver does not exist or apitoken does not have access.",
      "\nDuring handling of the above exception, another exception occurred:\n",
      "\u001b[1;31mSolverNotFoundError\u001b[0m                       Traceback (most recent call last)",
      "Cell \u001b[1;32mIn[12], line 6\u001b[0m\n\u001b[0;32m      2\u001b[0m \u001b[38;5;28;01mfrom\u001b[39;00m \u001b[38;5;21;01mQHyper\u001b[39;00m\u001b[38;5;21;01m.\u001b[39;00m\u001b[38;5;21;01msolvers\u001b[39;00m \u001b[38;5;28;01mimport\u001b[39;00m solver_from_config\n\u001b[0;32m      4\u001b[0m config \u001b[38;5;241m=\u001b[39m yaml\u001b[38;5;241m.\u001b[39msafe_load(qaqa_config_yaml)\n\u001b[1;32m----> 6\u001b[0m solver \u001b[38;5;241m=\u001b[39m \u001b[43msolver_from_config\u001b[49m\u001b[43m(\u001b[49m\u001b[43mconfig\u001b[49m\u001b[43m)\u001b[49m\n",
      "File \u001b[1;32m~\\Desktop\\Praca_Inzynierska_2024\\QHyper\\QHyper\\solvers\\__init__.py:226\u001b[0m, in \u001b[0;36msolver_from_config\u001b[1;34m(config)\u001b[0m\n\u001b[0;32m    223\u001b[0m \u001b[38;5;28;01mexcept\u001b[39;00m \u001b[38;5;167;01mKeyError\u001b[39;00m:\n\u001b[0;32m    224\u001b[0m     \u001b[38;5;28;01mraise\u001b[39;00m SolverConfigException(error_msg)\n\u001b[1;32m--> 226\u001b[0m solver \u001b[38;5;241m=\u001b[39m \u001b[43msolver_class\u001b[49m\u001b[38;5;241;43m.\u001b[39;49m\u001b[43mfrom_config\u001b[49m\u001b[43m(\u001b[49m\u001b[43mproblem\u001b[49m\u001b[43m,\u001b[49m\u001b[43m \u001b[49m\u001b[43msolver_config\u001b[49m\u001b[43m)\u001b[49m\n\u001b[0;32m    228\u001b[0m hyper_optimizer_config \u001b[38;5;241m=\u001b[39m config\u001b[38;5;241m.\u001b[39mpop(\u001b[38;5;124m'\u001b[39m\u001b[38;5;124mhyper_optimizer\u001b[39m\u001b[38;5;124m'\u001b[39m, \u001b[38;5;28;01mNone\u001b[39;00m)\n\u001b[0;32m    230\u001b[0m \u001b[38;5;28;01mif\u001b[39;00m hyper_optimizer_config:\n",
      "File \u001b[1;32m~\\Desktop\\Praca_Inzynierska_2024\\QHyper\\QHyper\\solvers\\base.py:64\u001b[0m, in \u001b[0;36mSolver.from_config\u001b[1;34m(cls, problem, config)\u001b[0m\n\u001b[0;32m     62\u001b[0m \u001b[38;5;129m@classmethod\u001b[39m\n\u001b[0;32m     63\u001b[0m \u001b[38;5;28;01mdef\u001b[39;00m \u001b[38;5;21mfrom_config\u001b[39m(\u001b[38;5;28mcls\u001b[39m, problem: Problem, config: \u001b[38;5;28mdict\u001b[39m[\u001b[38;5;28mstr\u001b[39m, Any]) \u001b[38;5;241m-\u001b[39m\u001b[38;5;241m>\u001b[39m \u001b[38;5;124m'\u001b[39m\u001b[38;5;124mSolver\u001b[39m\u001b[38;5;124m'\u001b[39m:\n\u001b[1;32m---> 64\u001b[0m     \u001b[38;5;28;01mreturn\u001b[39;00m \u001b[38;5;28mcls\u001b[39m(problem, \u001b[38;5;241m*\u001b[39m\u001b[38;5;241m*\u001b[39mconfig)\n",
      "File \u001b[1;32m~\\Desktop\\Praca_Inzynierska_2024\\QHyper\\QHyper\\solvers\\quantum_annealing\\dwave\\advantage.py:71\u001b[0m, in \u001b[0;36mAdvantage.__init__\u001b[1;34m(self, problem, penalty_weights, version, region, num_reads, chain_strength, use_clique_embedding, token)\u001b[0m\n\u001b[0;32m     69\u001b[0m \u001b[38;5;28mself\u001b[39m\u001b[38;5;241m.\u001b[39mchain_strength \u001b[38;5;241m=\u001b[39m chain_strength\n\u001b[0;32m     70\u001b[0m \u001b[38;5;28mself\u001b[39m\u001b[38;5;241m.\u001b[39muse_clique_embedding \u001b[38;5;241m=\u001b[39m use_clique_embedding\n\u001b[1;32m---> 71\u001b[0m \u001b[38;5;28mself\u001b[39m\u001b[38;5;241m.\u001b[39msampler \u001b[38;5;241m=\u001b[39m \u001b[43mDWaveSampler\u001b[49m\u001b[43m(\u001b[49m\n\u001b[0;32m     72\u001b[0m \u001b[43m    \u001b[49m\u001b[43msolver\u001b[49m\u001b[38;5;241;43m=\u001b[39;49m\u001b[38;5;28;43mself\u001b[39;49m\u001b[38;5;241;43m.\u001b[39;49m\u001b[43mversion\u001b[49m\u001b[43m,\u001b[49m\u001b[43m \u001b[49m\u001b[43mregion\u001b[49m\u001b[38;5;241;43m=\u001b[39;49m\u001b[38;5;28;43mself\u001b[39;49m\u001b[38;5;241;43m.\u001b[39;49m\u001b[43mregion\u001b[49m\u001b[43m,\u001b[49m\n\u001b[0;32m     73\u001b[0m \u001b[43m    \u001b[49m\u001b[43mtoken\u001b[49m\u001b[38;5;241;43m=\u001b[39;49m\u001b[43mtoken\u001b[49m\u001b[43m \u001b[49m\u001b[38;5;129;43;01mor\u001b[39;49;00m\u001b[43m \u001b[49m\u001b[43mDWAVE_API_TOKEN\u001b[49m\u001b[43m)\u001b[49m\n\u001b[0;32m     74\u001b[0m \u001b[38;5;28mself\u001b[39m\u001b[38;5;241m.\u001b[39mtoken \u001b[38;5;241m=\u001b[39m token\n\u001b[0;32m     76\u001b[0m \u001b[38;5;28;01mif\u001b[39;00m use_clique_embedding:\n",
      "File \u001b[1;32mc:\\Users\\basia\\anaconda3\\envs\\qomm_env\\lib\\site-packages\\dwave\\system\\samplers\\dwave_sampler.py:184\u001b[0m, in \u001b[0;36mDWaveSampler.__init__\u001b[1;34m(self, failover, retry_interval, **config)\u001b[0m\n\u001b[0;32m    181\u001b[0m \u001b[38;5;28mself\u001b[39m\u001b[38;5;241m.\u001b[39m_solver_penalty \u001b[38;5;241m=\u001b[39m defaultdict(\u001b[38;5;28mint\u001b[39m)\n\u001b[0;32m    183\u001b[0m \u001b[38;5;28mself\u001b[39m\u001b[38;5;241m.\u001b[39mclient \u001b[38;5;241m=\u001b[39m Client\u001b[38;5;241m.\u001b[39mfrom_config(\u001b[38;5;241m*\u001b[39m\u001b[38;5;241m*\u001b[39mconfig)\n\u001b[1;32m--> 184\u001b[0m \u001b[38;5;28mself\u001b[39m\u001b[38;5;241m.\u001b[39msolver \u001b[38;5;241m=\u001b[39m \u001b[38;5;28;43mself\u001b[39;49m\u001b[38;5;241;43m.\u001b[39;49m\u001b[43m_get_solver\u001b[49m\u001b[43m(\u001b[49m\u001b[43mpenalty\u001b[49m\u001b[38;5;241;43m=\u001b[39;49m\u001b[38;5;28;43mself\u001b[39;49m\u001b[38;5;241;43m.\u001b[39;49m\u001b[43m_solver_penalty\u001b[49m\u001b[43m)\u001b[49m\n",
      "File \u001b[1;32mc:\\Users\\basia\\anaconda3\\envs\\qomm_env\\lib\\site-packages\\dwave\\system\\samplers\\dwave_sampler.py:199\u001b[0m, in \u001b[0;36mDWaveSampler._get_solver\u001b[1;34m(self, refresh, penalty)\u001b[0m\n\u001b[0;32m    197\u001b[0m filters \u001b[38;5;241m=\u001b[39m copy\u001b[38;5;241m.\u001b[39mdeepcopy(\u001b[38;5;28mself\u001b[39m\u001b[38;5;241m.\u001b[39mclient\u001b[38;5;241m.\u001b[39mconfig\u001b[38;5;241m.\u001b[39msolver)\n\u001b[0;32m    198\u001b[0m order_by \u001b[38;5;241m=\u001b[39m filters\u001b[38;5;241m.\u001b[39mpop(\u001b[38;5;124m'\u001b[39m\u001b[38;5;124morder_by\u001b[39m\u001b[38;5;124m'\u001b[39m, \u001b[38;5;124m'\u001b[39m\u001b[38;5;124mavg_load\u001b[39m\u001b[38;5;124m'\u001b[39m)\n\u001b[1;32m--> 199\u001b[0m solvers \u001b[38;5;241m=\u001b[39m \u001b[38;5;28mself\u001b[39m\u001b[38;5;241m.\u001b[39mclient\u001b[38;5;241m.\u001b[39mget_solvers(refresh\u001b[38;5;241m=\u001b[39mrefresh, order_by\u001b[38;5;241m=\u001b[39morder_by, \u001b[38;5;241m*\u001b[39m\u001b[38;5;241m*\u001b[39mfilters)\n\u001b[0;32m    201\u001b[0m \u001b[38;5;66;03m# we now just need to de-prioritize penalized solvers\u001b[39;00m\n\u001b[0;32m    202\u001b[0m solvers\u001b[38;5;241m.\u001b[39msort(key\u001b[38;5;241m=\u001b[39m\u001b[38;5;28;01mlambda\u001b[39;00m solver: penalty\u001b[38;5;241m.\u001b[39mget(solver\u001b[38;5;241m.\u001b[39mid, \u001b[38;5;241m0\u001b[39m))\n",
      "File \u001b[1;32mc:\\Users\\basia\\anaconda3\\envs\\qomm_env\\lib\\site-packages\\dwave\\cloud\\events.py:105\u001b[0m, in \u001b[0;36mdispatches_events.__call__.<locals>.wrapped\u001b[1;34m(*pargs, **kwargs)\u001b[0m\n\u001b[0;32m    103\u001b[0m dispatch_event(\u001b[38;5;28mself\u001b[39m\u001b[38;5;241m.\u001b[39mbefore_eventname, obj\u001b[38;5;241m=\u001b[39mobj, args\u001b[38;5;241m=\u001b[39margs)\n\u001b[0;32m    104\u001b[0m \u001b[38;5;28;01mtry\u001b[39;00m:\n\u001b[1;32m--> 105\u001b[0m     rval \u001b[38;5;241m=\u001b[39m fn(\u001b[38;5;241m*\u001b[39mpargs, \u001b[38;5;241m*\u001b[39m\u001b[38;5;241m*\u001b[39mkwargs)\n\u001b[0;32m    106\u001b[0m \u001b[38;5;28;01mexcept\u001b[39;00m \u001b[38;5;167;01mException\u001b[39;00m \u001b[38;5;28;01mas\u001b[39;00m exc:\n\u001b[0;32m    107\u001b[0m     dispatch_event(\u001b[38;5;28mself\u001b[39m\u001b[38;5;241m.\u001b[39mafter_eventname, obj\u001b[38;5;241m=\u001b[39mobj, args\u001b[38;5;241m=\u001b[39margs, exception\u001b[38;5;241m=\u001b[39mexc)\n",
      "File \u001b[1;32mc:\\Users\\basia\\anaconda3\\envs\\qomm_env\\lib\\site-packages\\dwave\\cloud\\client\\base.py:1057\u001b[0m, in \u001b[0;36mClient.get_solvers\u001b[1;34m(self, refresh, order_by, **filters)\u001b[0m\n\u001b[0;32m   1054\u001b[0m     query[\u001b[38;5;124m'\u001b[39m\u001b[38;5;124mname\u001b[39m\u001b[38;5;124m'\u001b[39m] \u001b[38;5;241m=\u001b[39m filters[\u001b[38;5;124m'\u001b[39m\u001b[38;5;124mname__eq\u001b[39m\u001b[38;5;124m'\u001b[39m]\n\u001b[0;32m   1056\u001b[0m \u001b[38;5;66;03m# filter\u001b[39;00m\n\u001b[1;32m-> 1057\u001b[0m solvers \u001b[38;5;241m=\u001b[39m \u001b[38;5;28mself\u001b[39m\u001b[38;5;241m.\u001b[39m_fetch_solvers(\u001b[38;5;241m*\u001b[39m\u001b[38;5;241m*\u001b[39mquery)\n\u001b[0;32m   1058\u001b[0m solvers \u001b[38;5;241m=\u001b[39m [s \u001b[38;5;28;01mfor\u001b[39;00m s \u001b[38;5;129;01min\u001b[39;00m solvers \u001b[38;5;28;01mif\u001b[39;00m \u001b[38;5;28mall\u001b[39m(p(s) \u001b[38;5;28;01mfor\u001b[39;00m p \u001b[38;5;129;01min\u001b[39;00m predicates)]\n\u001b[0;32m   1060\u001b[0m \u001b[38;5;66;03m# sort: undefined (None) key values go last\u001b[39;00m\n",
      "File \u001b[1;32mc:\\Users\\basia\\anaconda3\\envs\\qomm_env\\lib\\site-packages\\dwave\\cloud\\utils\\decorators.py:264\u001b[0m, in \u001b[0;36mcached.__call__.<locals>.wrapper\u001b[1;34m(*args, **kwargs)\u001b[0m\n\u001b[0;32m    262\u001b[0m     found \u001b[38;5;241m=\u001b[39m \u001b[38;5;28;01mTrue\u001b[39;00m\n\u001b[0;32m    263\u001b[0m \u001b[38;5;28;01melse\u001b[39;00m:\n\u001b[1;32m--> 264\u001b[0m     val \u001b[38;5;241m=\u001b[39m fn(\u001b[38;5;241m*\u001b[39margs, \u001b[38;5;241m*\u001b[39m\u001b[38;5;241m*\u001b[39mkwargs)\n\u001b[0;32m    265\u001b[0m     \u001b[38;5;28mself\u001b[39m\u001b[38;5;241m.\u001b[39mstore[key] \u001b[38;5;241m=\u001b[39m \u001b[38;5;28mdict\u001b[39m(created\u001b[38;5;241m=\u001b[39mnow, val\u001b[38;5;241m=\u001b[39mval)\n\u001b[0;32m    267\u001b[0m logger\u001b[38;5;241m.\u001b[39mtrace(\u001b[38;5;124m\"\u001b[39m\u001b[38;5;124m[\u001b[39m\u001b[38;5;132;01m%s\u001b[39;00m\u001b[38;5;124m] call(...) = \u001b[39m\u001b[38;5;132;01m%r\u001b[39;00m\u001b[38;5;124m (cache \u001b[39m\u001b[38;5;132;01m%s\u001b[39;00m\u001b[38;5;124m)\u001b[39m\u001b[38;5;124m\"\u001b[39m, callee, val,\n\u001b[0;32m    268\u001b[0m              \u001b[38;5;124m'\u001b[39m\u001b[38;5;124mhit\u001b[39m\u001b[38;5;124m'\u001b[39m \u001b[38;5;28;01mif\u001b[39;00m found \u001b[38;5;28;01melse\u001b[39;00m \u001b[38;5;124m'\u001b[39m\u001b[38;5;124mmiss\u001b[39m\u001b[38;5;124m'\u001b[39m)\n",
      "File \u001b[1;32mc:\\Users\\basia\\anaconda3\\envs\\qomm_env\\lib\\site-packages\\dwave\\cloud\\client\\base.py:697\u001b[0m, in \u001b[0;36mClient._fetch_solvers\u001b[1;34m(self, name)\u001b[0m\n\u001b[0;32m    695\u001b[0m \u001b[38;5;28;01mexcept\u001b[39;00m SAPIError \u001b[38;5;28;01mas\u001b[39;00m exc:\n\u001b[0;32m    696\u001b[0m     \u001b[38;5;28;01mif\u001b[39;00m name \u001b[38;5;129;01mis\u001b[39;00m \u001b[38;5;129;01mnot\u001b[39;00m \u001b[38;5;28;01mNone\u001b[39;00m \u001b[38;5;129;01mand\u001b[39;00m exc\u001b[38;5;241m.\u001b[39merror_code \u001b[38;5;241m==\u001b[39m \u001b[38;5;241m404\u001b[39m:\n\u001b[1;32m--> 697\u001b[0m         \u001b[38;5;28;01mraise\u001b[39;00m SolverNotFoundError(\u001b[38;5;124m\"\u001b[39m\u001b[38;5;124mNo solver with name=\u001b[39m\u001b[38;5;132;01m{!r}\u001b[39;00m\u001b[38;5;124m available\u001b[39m\u001b[38;5;124m\"\u001b[39m\u001b[38;5;241m.\u001b[39mformat(name))\n\u001b[0;32m    698\u001b[0m     \u001b[38;5;28;01melse\u001b[39;00m:\n\u001b[0;32m    699\u001b[0m         \u001b[38;5;28;01mraise\u001b[39;00m\n",
      "\u001b[1;31mSolverNotFoundError\u001b[0m: No solver with name='Advantage_system5.4' available"
     ]
    }
   ],
   "source": [
    "import yaml\n",
    "from QHyper.solvers import solver_from_config\n",
    "\n",
    "config = yaml.safe_load(qaqa_config_yaml)\n",
    "\n",
    "solver = solver_from_config(config)"
   ]
  },
  {
   "cell_type": "code",
   "execution_count": 27,
   "metadata": {},
   "outputs": [
    {
     "data": {
      "text/plain": [
       "rec.array([(1, 1, 0, 0, 1, 0.54, -4.), (0, 1, 1, 0, 1, 0.03, -3.),\n",
       "           (1, 1, 1, 1, 1, 0.06, -3.), (1, 1, 1, 0, 1, 0.11, -3.),\n",
       "           (1, 0, 1, 0, 1, 0.07, -3.), (1, 0, 0, 1, 0, 0.04, -2.),\n",
       "           (1, 1, 0, 1, 0, 0.05, -2.), (0, 1, 0, 1, 0, 0.05, -2.),\n",
       "           (0, 0, 1, 1, 0, 0.02, -1.), (0, 1, 1, 1, 0, 0.01, -1.),\n",
       "           (1, 0, 1, 1, 0, 0.01, -1.), (0, 0, 0, 1, 0, 0.01,  2.)],\n",
       "          dtype=[('x0', '<i4'), ('x1', '<i4'), ('x2', '<i4'), ('x3', '<i4'), ('x4', '<i4'), ('probability', '<f8'), ('energy', '<f8')])"
      ]
     },
     "execution_count": 27,
     "metadata": {},
     "output_type": "execute_result"
    }
   ],
   "source": [
    "results = solver.solve()\n",
    "results.probabilities"
   ]
  },
  {
   "cell_type": "code",
   "execution_count": 29,
   "metadata": {},
   "outputs": [
    {
     "data": {
      "text/plain": [
       "{'weights': array([1, 2, 2])}"
      ]
     },
     "execution_count": 29,
     "metadata": {},
     "output_type": "execute_result"
    }
   ],
   "source": [
    "results.params"
   ]
  },
  {
   "cell_type": "code",
   "execution_count": 21,
   "metadata": {},
   "outputs": [
    {
     "data": {
      "text/plain": [
       "rec.array([(1, 1, 0, 0, 1, 0.5 , -4.), (1, 1, 1, 1, 1, 0.12, -3.),\n",
       "           (0, 1, 1, 0, 1, 0.06, -3.), (1, 0, 1, 0, 1, 0.09, -3.),\n",
       "           (1, 1, 1, 0, 1, 0.06, -3.), (0, 1, 0, 1, 0, 0.08, -2.),\n",
       "           (1, 0, 0, 1, 0, 0.03, -2.), (1, 1, 0, 1, 0, 0.03, -2.),\n",
       "           (0, 0, 1, 1, 0, 0.02, -1.), (0, 0, 0, 1, 0, 0.01,  2.)],\n",
       "          dtype=[('x0', '<i4'), ('x1', '<i4'), ('x2', '<i4'), ('x3', '<i4'), ('x4', '<i4'), ('probability', '<f8'), ('energy', '<f8')])"
      ]
     },
     "execution_count": 21,
     "metadata": {},
     "output_type": "execute_result"
    }
   ],
   "source": [
    "results.probabilities"
   ]
  },
  {
   "cell_type": "markdown",
   "metadata": {},
   "source": [
    "## Configuration for D-Wave Advantage\n",
    "\n",
    "Configuration for a grid search hyperoptimizer. The objective function penalties (`hyper_args`) are searched within specified `bounds` using provided `steps`. The objective function is solved with a quantum annealing device --- D-Wave Advantage."
   ]
  },
  {
   "cell_type": "markdown",
   "metadata": {},
   "source": [
    "<div class=\"alert alert-warning\">\n",
    "In order to run the code below, you need to have access to the D-Wave Advantage device. Get token at <a href=\"https://cloud.dwavesys.com/leap/\">D-Wave Leap</a>.\n",
    "</div>"
   ]
  },
  {
   "cell_type": "code",
   "execution_count": null,
   "metadata": {},
   "outputs": [],
   "source": [
    "advantage_config_yaml = \"\"\"\n",
    "problem:\n",
    "  type: community_detection\n",
    "  max_weight: 2\n",
    "  items_weights: [1, 1, 1]\n",
    "  items_values: [2, 2, 1]\n",
    "solver:\n",
    "  type: advantage\n",
    "  num_reads: 100\n",
    "  hyper_optimizer:\n",
    "    type: grid\n",
    "    steps: [1, 1, 1]\n",
    "    bounds: [[1, 3], [1, 3], [1, 3]]\n",
    "  params_inits:\n",
    "    weights: [1, 1, 1]\n",
    "\"\"\""
   ]
  },
  {
   "cell_type": "code",
   "execution_count": 19,
   "metadata": {},
   "outputs": [],
   "source": [
    "import yaml\n",
    "from QHyper.solvers import solver_from_config\n",
    "\n",
    "config = yaml.safe_load(advantage_config_yaml)\n",
    "\n",
    "solver = solver_from_config(config)"
   ]
  },
  {
   "cell_type": "code",
   "execution_count": 23,
   "metadata": {},
   "outputs": [
    {
     "data": {
      "text/plain": [
       "rec.array([(1, 1, 0, 0, 1, 0.68, -4.), (1, 1, 1, 0, 1, 0.03, -3.),\n",
       "           (0, 1, 1, 0, 1, 0.02, -3.), (1, 0, 1, 0, 1, 0.12, -3.),\n",
       "           (1, 1, 1, 1, 1, 0.09, -3.), (0, 1, 0, 1, 0, 0.01, -2.),\n",
       "           (1, 0, 0, 1, 0, 0.02, -2.), (1, 1, 0, 1, 0, 0.02, -2.),\n",
       "           (0, 1, 1, 1, 0, 0.01, -1.)],\n",
       "          dtype=[('x0', '<i4'), ('x1', '<i4'), ('x2', '<i4'), ('x3', '<i4'), ('x4', '<i4'), ('probability', '<f8'), ('energy', '<f8')])"
      ]
     },
     "execution_count": 23,
     "metadata": {},
     "output_type": "execute_result"
    }
   ],
   "source": [
    "results = solver.solve()\n",
    "results.probabilities"
   ]
  },
  {
   "cell_type": "code",
   "execution_count": 26,
   "metadata": {},
   "outputs": [
    {
     "data": {
      "text/plain": [
       "SolverResult(probabilities=rec.array([(1, 1, 0, 0, 1, 0.68, -4.), (1, 1, 1, 0, 1, 0.03, -3.),\n",
       "           (0, 1, 1, 0, 1, 0.02, -3.), (1, 0, 1, 0, 1, 0.12, -3.),\n",
       "           (1, 1, 1, 1, 1, 0.09, -3.), (0, 1, 0, 1, 0, 0.01, -2.),\n",
       "           (1, 0, 0, 1, 0, 0.02, -2.), (1, 1, 0, 1, 0, 0.02, -2.),\n",
       "           (0, 1, 1, 1, 0, 0.01, -1.)],\n",
       "          dtype=[('x0', '<i4'), ('x1', '<i4'), ('x2', '<i4'), ('x3', '<i4'), ('x4', '<i4'), ('probability', '<f8'), ('energy', '<f8')]), params={'weights': array([1, 2, 2])}, history=[])"
      ]
     },
     "execution_count": 26,
     "metadata": {},
     "output_type": "execute_result"
    }
   ],
   "source": [
    "results"
   ]
  },
  {
   "cell_type": "markdown",
   "metadata": {},
   "source": [
    "## Advanced configuration\n",
    "\n",
    "QHyper configuration of the QAOA variant (WF-QAOA) with 5 `layers` and  the local gradient descent Adam `optimizer` (qml). `angles` indicate  initial variational parameters optimized by the method. `hyper_args` refer to the initial objective function penalties searched within `hyper_optimizer` `bounds` by the `CEM` method. `processes`, `samples_per_epoch`, and `epochs` are parameters specific to the `CEM` method."
   ]
  },
  {
   "cell_type": "markdown",
   "metadata": {},
   "source": [
    "<div class=\"alert alert-warning\">\n",
    "The `CEM` method is computationally expensive and may require a significant amount of time to complete (~15 min).\n",
    "</div>"
   ]
  },
  {
   "cell_type": "code",
   "execution_count": 6,
   "metadata": {},
   "outputs": [],
   "source": [
    "advance_config_yaml = \"\"\"\n",
    "problem:\n",
    "  type: knapsack\n",
    "  max_weight: 2\n",
    "  items_weights: [1, 1, 1]\n",
    "  items_values: [2, 2, 1]\n",
    "solver:\n",
    "  type: vqa\n",
    "  pqc:\n",
    "    type: wfqaoa\n",
    "    layers: 5\n",
    "    backend: default.qubit\n",
    "  optimizer:\n",
    "    type: qml\n",
    "    optimizer: adam\n",
    "    steps: 50\n",
    "    stepsize: 0.01\n",
    "  hyper_optimizer:\n",
    "    type: cem\n",
    "    processes: 4\n",
    "    samples_per_epoch: 200\n",
    "    epochs: 5\n",
    "    bounds: [[1, 10], [1, 10], [1, 10]]\n",
    "    disable_tqdm: False\n",
    "  params_inits:\n",
    "    angles: [[0.5, 0.5, 0.5, 0.5, 0.5], [1, 1, 1, 1, 1]]\n",
    "    hyper_args: [1, 2.5, 2.5]\n",
    "\"\"\""
   ]
  },
  {
   "cell_type": "code",
   "execution_count": 6,
   "metadata": {},
   "outputs": [],
   "source": [
    "import yaml\n",
    "from QHyper.solvers import solver_from_config\n",
    "\n",
    "config = yaml.safe_load(advance_config_yaml)\n",
    "\n",
    "solver = solver_from_config(config)"
   ]
  },
  {
   "cell_type": "code",
   "execution_count": 7,
   "metadata": {},
   "outputs": [
    {
     "name": "stderr",
     "output_type": "stream",
     "text": [
      "100%|██████████| 200/200 [02:43<00:00,  1.22it/s]\n",
      "100%|██████████| 200/200 [02:47<00:00,  1.19it/s]\n",
      "100%|██████████| 200/200 [02:35<00:00,  1.29it/s]\n",
      "100%|██████████| 200/200 [02:34<00:00,  1.29it/s]\n",
      "100%|██████████| 200/200 [02:35<00:00,  1.28it/s]\n"
     ]
    },
    {
     "data": {
      "text/plain": [
       "rec.array([(0, 0, 0, 0, 0, 0.00069401), (0, 0, 0, 0, 1, 0.01476763),\n",
       "           (0, 0, 0, 1, 0, 0.05957409), (0, 0, 0, 1, 1, 0.03294517),\n",
       "           (0, 0, 1, 0, 0, 0.03042684), (0, 0, 1, 0, 1, 0.00883227),\n",
       "           (0, 0, 1, 1, 0, 0.00654667), (0, 0, 1, 1, 1, 0.04354659),\n",
       "           (0, 1, 0, 0, 0, 0.01130641), (0, 1, 0, 0, 1, 0.00159494),\n",
       "           (0, 1, 0, 1, 0, 0.01265646), (0, 1, 0, 1, 1, 0.03360276),\n",
       "           (0, 1, 1, 0, 0, 0.01778942), (0, 1, 1, 0, 1, 0.08637871),\n",
       "           (0, 1, 1, 1, 0, 0.06138423), (0, 1, 1, 1, 1, 0.03077721),\n",
       "           (1, 0, 0, 0, 0, 0.01130641), (1, 0, 0, 0, 1, 0.00159494),\n",
       "           (1, 0, 0, 1, 0, 0.01265646), (1, 0, 0, 1, 1, 0.03360276),\n",
       "           (1, 0, 1, 0, 0, 0.01778942), (1, 0, 1, 0, 1, 0.08637871),\n",
       "           (1, 0, 1, 1, 0, 0.06138423), (1, 0, 1, 1, 1, 0.03077721),\n",
       "           (1, 1, 0, 0, 0, 0.04008062), (1, 1, 0, 0, 1, 0.15231274),\n",
       "           (1, 1, 0, 1, 0, 0.01425434), (1, 1, 0, 1, 1, 0.00320176),\n",
       "           (1, 1, 1, 0, 0, 0.0144249 ), (1, 1, 1, 0, 1, 0.00758017),\n",
       "           (1, 1, 1, 1, 0, 0.02637529), (1, 1, 1, 1, 1, 0.03345663)],\n",
       "          dtype=[('x0', '<i4'), ('x1', '<i4'), ('x2', '<i4'), ('x3', '<i4'), ('x4', '<i4'), ('probability', '<f8')])"
      ]
     },
     "execution_count": 7,
     "metadata": {},
     "output_type": "execute_result"
    }
   ],
   "source": [
    "results = solver.solve()\n",
    "results.probabilities"
   ]
  },
  {
   "cell_type": "markdown",
   "metadata": {},
   "source": [
    "## Results evaluation"
   ]
  },
  {
   "cell_type": "markdown",
   "metadata": {},
   "source": [
    "After obtaining the results, we evaluate the solution by calculating the total cost and weight of the items in the knapsack."
   ]
  },
  {
   "cell_type": "code",
   "execution_count": 4,
   "metadata": {},
   "outputs": [
    {
     "name": "stdout",
     "output_type": "stream",
     "text": [
      "Evaluation:\n",
      "-1.669217721264391\n",
      "Sorted results:\n",
      "[(1, 1, 0, 0, 1, 0.14605589) (1, 0, 1, 0, 1, 0.09231208)\n",
      " (0, 1, 1, 0, 1, 0.09231208) (1, 0, 1, 1, 0, 0.06831021)\n",
      " (0, 1, 1, 1, 0, 0.06831021)]\n",
      "Result: (1, 1, 0, 0, 1, 0.14605589, -4.), Prob: 0.14606, Evaluation: -4.0\n",
      "Result: (1, 0, 1, 0, 1, 0.09231208, -3.), Prob: 0.092312, Evaluation: -3.0\n",
      "Result: (0, 1, 1, 0, 1, 0.09231208, -3.), Prob: 0.092312, Evaluation: -3.0\n",
      "Result: (1, 0, 1, 1, 0, 0.06831021, 0.), Prob: 0.06831, Evaluation: 0.0\n",
      "Result: (0, 1, 1, 1, 0, 0.06831021, 0.), Prob: 0.06831, Evaluation: 0.0\n"
     ]
    }
   ],
   "source": [
    "from QHyper.util import (\n",
    "    weighted_avg_evaluation, sort_solver_results, add_evaluation_to_results)\n",
    "\n",
    "problem = solver.problem\n",
    "\n",
    "# Evaluate results with weighted average evaluation\n",
    "print(\"Evaluation:\")\n",
    "print(weighted_avg_evaluation(\n",
    "    results.probabilities, problem.get_score,\n",
    "    penalty=0, limit_results=10, normalize=True\n",
    "))\n",
    "print(\"Sorted results:\")\n",
    "sorted_results = sort_solver_results(\n",
    "    results.probabilities, limit_results=5)\n",
    "print(sorted_results)\n",
    "\n",
    "# Add evaluation to results\n",
    "results_with_evaluation = add_evaluation_to_results(\n",
    "    sorted_results, problem.get_score, penalty=0)\n",
    "\n",
    "for rec in results_with_evaluation:\n",
    "    print(f\"Result: {rec}, \"\n",
    "          f\"Prob: {rec['probability']:.5}, \"\n",
    "          f\"Evaluation: {rec['evaluation']:.5}\")"
   ]
  }
 ],
 "metadata": {
  "kernelspec": {
   "display_name": "qomm_env",
   "language": "python",
   "name": "python3"
  },
  "language_info": {
   "codemirror_mode": {
    "name": "ipython",
    "version": 3
   },
   "file_extension": ".py",
   "mimetype": "text/x-python",
   "name": "python",
   "nbconvert_exporter": "python",
   "pygments_lexer": "ipython3",
   "version": "3.10.14"
  }
 },
 "nbformat": 4,
 "nbformat_minor": 2
}
