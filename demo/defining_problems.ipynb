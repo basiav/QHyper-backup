{
 "cells": [
  {
   "cell_type": "markdown",
   "id": "d2ef8369",
   "metadata": {},
   "source": [
    "<div class=\"alert alert-warning not-in-docs\">\n",
    "⚠️ Links are not working in the notebook. Please visit <a href=\"https://qhyper.readthedocs.io/en/latest/user_guide/demo/defining_problems.html\">documentation</a> for better experience.\n",
    "</div>"
   ]
  },
  {
   "cell_type": "markdown",
   "id": "9ddc0815",
   "metadata": {},
   "source": [
    "# Defining custom problems, optimizers and solvers"
   ]
  },
  {
   "cell_type": "markdown",
   "id": "133ad48e",
   "metadata": {},
   "source": [
    "## A user-defined class\n",
    "\n",
    "A big advantage of using QHyper is the ability to run experiments from a configuration file.\n",
    "However, this only allows to use predefined problems, optimizers and solvers. In this notebook, we present a concise example illustrating how to define a custom problem, although the same principles apply to custom optimizers and solvers. We have chosen to highlight problem definition, as it is likely one of the most practical and valuable use cases for QHyper."
   ]
  },
  {
   "cell_type": "markdown",
   "id": "b6e03f38",
   "metadata": {},
   "source": [
    ".. note::\n",
    "    Any custom [Problem](../../generated/QHyper.problems.rst), [Optimizer](../../generated/QHyper.optimizers.rst) or [Solver](../../generated/QHyper.solvers.rst) class should be implemented in the directory named `custom` or `QHyper/custom`. It is required that these classes inherit from their base classes and implement required methods. The new class will be available in configuration files by its attribute name if provided or by its class name."
   ]
  },
  {
   "cell_type": "markdown",
   "id": "dc7f157c",
   "metadata": {},
   "source": [
    "## Creating a custom problem"
   ]
  },
  {
   "cell_type": "markdown",
   "id": "0764e41b",
   "metadata": {},
   "source": [
    "Assume we want to  minimize $\\underbrace{-2x_0 - 5x_1 - x_0x_1}_{cost function}$ subject to $\\underbrace{x_0 + x_1 = 1}_{constraint\\ eq}$ and $\\underbrace{5x_0 + 2x_1 \\leq 5}_{constraint\\ le}$"
   ]
  },
  {
   "cell_type": "markdown",
   "id": "ff95e859",
   "metadata": {},
   "source": [
    "In QHyper, every problem needs to be a subclass of the [Problem class](../../generated/QHyper.problems.rst).\n",
    "\n",
    "In general, the cost function and every constraint should be expressed as dict-based [Polynomials](../../generated/QHyper.polynomial.rst), but usually it is easier to initially express them in a more user-friendly format (such as SymPy syntax), and then convert it them into Polynomials. A Polynomial is comprised of a dictionary where the keys are tuples containing variables, and the values represent their coefficients.\n",
    "\n",
    "To define the constraints, the [Constraint](../../generated/QHyper.constraint.rst) class is used. Each constraint involves Polynomials on the left-hand side (lhs) and right-hand side (rhs), a comparison operator, and optional data such as a method for handling inequalities, a label, and a group identifier."
   ]
  },
  {
   "cell_type": "markdown",
   "id": "60f6ea6a",
   "metadata": {},
   "source": [
    ".. note::\n",
    "    QHyper always assumes that the objective is to **minimize** the cost function."
   ]
  },
  {
   "cell_type": "markdown",
   "id": "b2293dff",
   "metadata": {},
   "source": [
    "### Using Dict syntax"
   ]
  },
  {
   "cell_type": "code",
   "execution_count": 1,
   "id": "8bb4617a",
   "metadata": {},
   "outputs": [],
   "source": [
    "import numpy as np\n",
    "\n",
    "from QHyper.problems.base import Problem\n",
    "from QHyper.constraint import Constraint, Operator, UNBALANCED_PENALIZATION\n",
    "from QHyper.polynomial import Polynomial\n",
    "\n",
    "class CustomProblem(Problem):\n",
    "    def __init__(self) -> None:\n",
    "        self.objective_function = self._create_objective_function()\n",
    "        self.constraints = self._create_constraints()\n",
    "\n",
    "    def _create_objective_function(self) -> Polynomial:\n",
    "        # Express the cost function as a dict. The keys are tuples containing variables, and the values represent the coefficients.\n",
    "        objective_function = {('x0',): -2.0, ('x1',): -5.0, ('x0', 'x1'): -1.0}\n",
    "        \n",
    "        # Create a Polynomial based on the objective function.\n",
    "        return Polynomial(objective_function)\n",
    "\n",
    "    def _create_constraints(self) -> list[Constraint]:\n",
    "        # To add a new constraint, define the left-hand-side, and right-hand-side of the constraint.\n",
    "        # Also, specify the comparison operator and in the case of inequality opertor --- the method for handling the inequality.\n",
    "        \n",
    "        constraints = [\n",
    "            Constraint(lhs={('x0',): 1.0, ('x1',): 1.0}, rhs={(): 1},\n",
    "                       operator=Operator.EQ),\n",
    "            Constraint(lhs={('x0',): 5.0, ('x1',): 2.0}, rhs={(): 5}, \n",
    "                       operator=Operator.LE,\n",
    "                       method_for_inequalities=UNBALANCED_PENALIZATION)\n",
    "        ]\n",
    "        return constraints\n",
    "\n",
    "    def get_score(self, result: np.record, penalty: float = 0) -> float:\n",
    "        # This function is used by solvers to evaluate the quality of the result (business value).\n",
    "        \n",
    "        # If the constraints are satisfied return the value of the objective function.\n",
    "        if result['x0'] + result['x1'] == 1 and 5 * result['x0'] + 2 * result['x1'] <= 5:\n",
    "            return -2 * result['x0'] - 5 * result['x1'] - result['x0'] * result['x1']\n",
    "        \n",
    "        # Otherwise return some arbitrary penalty\n",
    "        return penalty"
   ]
  },
  {
   "cell_type": "markdown",
   "id": "05a6f423",
   "metadata": {},
   "source": [
    "### Using SymPy syntax"
   ]
  },
  {
   "cell_type": "code",
   "execution_count": 2,
   "id": "f1b53678",
   "metadata": {},
   "outputs": [],
   "source": [
    "import sympy\n",
    "import numpy as np\n",
    "from QHyper.problems.base import Problem\n",
    "from QHyper.constraint import Constraint, Operator, UNBALANCED_PENALIZATION\n",
    "from QHyper.polynomial import Polynomial\n",
    "from QHyper.parser import from_sympy\n",
    "\n",
    "\n",
    "class CustomProblem(Problem):\n",
    "    def __init__(self) -> None:\n",
    "        # Define the necessary SymPy variables.\n",
    "        num_variables = 2\n",
    "        self.x = sympy.symbols(f'x0:{num_variables}')\n",
    "        self.objective_function = self._create_objective_function()\n",
    "        self.constraints = self._create_constraints()\n",
    "\n",
    "    def _create_objective_function(self) -> Polynomial:\n",
    "        # Define the cost function.\n",
    "        objective_function = -2 * self.x[0] - 5 * self.x[1] - self.x[0] * self.x[1]\n",
    "        \n",
    "        # Return the cost function parsed into a Polynomial\n",
    "        return from_sympy(objective_function)\n",
    "\n",
    "    def _create_constraints(self) -> list[Constraint]:\n",
    "        # To add a new constraint, define the left-hand-side, and right-hand-side of the constraint.\n",
    "        # Also, specify the comparison operator and in the case of inequality opertor --- the method for handling the inequality.\n",
    "        \n",
    "        return [ \n",
    "            Constraint( \n",
    "                lhs=from_sympy(self.x[0] + self.x[1]),\n",
    "                rhs=1,\n",
    "                operator=Operator.EQ\n",
    "            ),\n",
    "            Constraint(\n",
    "                lhs=from_sympy(5 * self.x[0] + 2 * self.x[1]),\n",
    "                rhs=5,\n",
    "                operator=Operator.LE,\n",
    "                method_for_inequalities=UNBALANCED_PENALIZATION,\n",
    "            )\n",
    "        ]\n",
    "\n",
    "    def get_score(self, result: np.record, penalty: float = 0) -> float:\n",
    "        # This function is used by solvers to evaluate the quality of the result (business value).\n",
    "        \n",
    "        # If the constraints are satisfied return the value of the objective function.\n",
    "        if result['x0'] + result['x1'] == 1 and 5 * result['x0'] + 2 * result['x1'] <= 5:\n",
    "            return -2 * result['x0'] - 5 * result['x1'] - result['x0'] * result['x1']\n",
    "        \n",
    "        # Otherwise return some arbitrary penalty\n",
    "        return penalty"
   ]
  },
  {
   "cell_type": "markdown",
   "id": "d8497900",
   "metadata": {},
   "source": [
    ".. note::\n",
    "    For bigger problem instances, SymPy syntax is significantly slower than the Dict syntax."
   ]
  },
  {
   "cell_type": "markdown",
   "id": "53718472",
   "metadata": {},
   "source": [
    "To explore more solvers for tackling this problem, check out this [tutorial](../solver_configuration.rst)."
   ]
  }
 ],
 "metadata": {
  "kernelspec": {
   "display_name": "venv",
   "language": "python",
   "name": "python3"
  },
  "language_info": {
   "codemirror_mode": {
    "name": "ipython",
    "version": 3
   },
   "file_extension": ".py",
   "mimetype": "text/x-python",
   "name": "python",
   "nbconvert_exporter": "python",
   "pygments_lexer": "ipython3",
   "version": "3.12.6"
  }
 },
 "nbformat": 4,
 "nbformat_minor": 5
}
