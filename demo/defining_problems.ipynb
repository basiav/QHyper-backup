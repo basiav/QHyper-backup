{
 "cells": [
  {
   "cell_type": "markdown",
   "id": "9ddc0815",
   "metadata": {},
   "source": [
    "# Defining custom problems, optimizers and solvers"
   ]
  },
  {
   "cell_type": "markdown",
   "id": "133ad48e",
   "metadata": {},
   "source": [
    "## User defined class\n",
    "\n",
    "Big advantage of using QHyper is the ability to run experiments from configuration file.\n",
    "But this only allows to use predefined problems, optimizers and solvers.\n",
    "To overcome this limitation, QHyper will try to import any [Problem](../../problems.rst), [Optimizer](../../optimizers.rst) or [Solver](../../solvers.rst) class from directory `custom` or `QHyper/custom`.\n",
    "It is required that these classes inherit from one of them and implement required methods. The class will be available by its attribute name if provided or by its class name in lower case."
   ]
  },
  {
   "cell_type": "markdown",
   "id": "b6e03f38",
   "metadata": {},
   "source": [
    ".. note::\n",
    "    Below is a simple example of how to define custom problem, but the same applies to optimizers and solvers. We choose to show problem because it is the most complex of the three."
   ]
  },
  {
   "cell_type": "markdown",
   "id": "dc7f157c",
   "metadata": {},
   "source": [
    "## Creating a custom problem"
   ]
  },
  {
   "cell_type": "markdown",
   "id": "0764e41b",
   "metadata": {},
   "source": [
    "Assume we want to  minimize $\\underbrace{2x_0 + 5x_1 + x_0x_1}_{cost function}$ subject to $\\underbrace{x_0 + x_1 = 1}_{constraint\\ eq}$ and $\\underbrace{5x_0 + 2x_1 \\leq 5}_{constraint\\ le}$"
   ]
  },
  {
   "cell_type": "markdown",
   "id": "ff95e859",
   "metadata": {},
   "source": [
    "In QHyper, every problem needs to be a subclass of the [Problem class](../../problems.rst).\n",
    "\n",
    "In general, the cost function and every constraint should be expressed as dict-based [Polynomial](../../polynomial.rst)s, but usually it is easier to initially express them in a more user-friendly format (such as SymPy syntax), and then convert it them into Polynomials. A Polynomial is comprised of a dictionary where the keys are tuples containing variables, and the values represent their coefficients.\n",
    "\n",
    "To define the constraints, the [Constraint](../../constraint.rst) class is used. Each constraint involves Polynomials on the left-hand side (lhs) and right-hand side (rhs), a comparison operator, and optional data such as a method for handling inequalities, a label, and a group identifier."
   ]
  },
  {
   "cell_type": "markdown",
   "id": "60f6ea6a",
   "metadata": {},
   "source": [
    "`Note:` QHyper always assumes that the objective is to **minimize** the cost function."
   ]
  },
  {
   "cell_type": "markdown",
   "id": "05a6f423",
   "metadata": {},
   "source": [
    "### Using SymPy syntax"
   ]
  },
  {
   "cell_type": "code",
   "execution_count": 4,
   "id": "327478ea",
   "metadata": {},
   "outputs": [],
   "source": [
    "import sympy\n",
    "\n",
    "from QHyper.problems.base import Problem\n",
    "from QHyper.constraint import Constraint, Operator, UNBALANCED_PENALIZATION\n",
    "from QHyper.polynomial import Polynomial\n",
    "from QHyper.parser import from_sympy\n",
    "\n",
    "\n",
    "class SimpleProblemSympy(Problem):\n",
    "\n",
    "    def __init__(self) -> None:\n",
    "\n",
    "        # Define the necessary SymPy variables\n",
    "        self.x0, self.x1 = sympy.symbols('x0 x1')\n",
    "\n",
    "        self.objective_function: Polynomial = self._get_objective_function()\n",
    "        self.constraints: list[Constraint] = self._get_constraints()\n",
    "\n",
    "    def _get_objective_function(self) -> Polynomial:\n",
    "        # Define the cost function\n",
    "        cost = 2*self.x0 + 5*self.x1 + self.x0*self.x1\n",
    "\n",
    "        # Return the cost function parsed into a Polynomial\n",
    "        return from_sympy(cost)\n",
    "\n",
    "    def _get_constraints(self) -> Polynomial:\n",
    "        constraints: list[Constraint] = []\n",
    "\n",
    "        # Define the left-hand side of the equality constraint\n",
    "        constraint_eq_lhs = self.x0 + self.x1\n",
    "        # Define the right-hand side of the equality constraint\n",
    "        constraint_eq_rhs = 1\n",
    "        # Add a new equality constraint, the lhs needs to be parsed from the SymPy syntax\n",
    "        # the rhs which is a number can be casted to the Polynomial\n",
    "        constraints.append(Constraint(from_sympy(constraint_eq_lhs),\n",
    "                                            Polynomial(constraint_eq_rhs)))\n",
    "\n",
    "\n",
    "        constraint_le_lhs = 5 * self.x0 + 2 * self.x1\n",
    "        constraint_le_rhs = 5\n",
    "        # Add a new inequality constraint, apart from the lhs, and rhs\n",
    "        # specify the comparison operator and the method for handling the inequality\n",
    "        constraints.append(Constraint(from_sympy(constraint_le_lhs),\n",
    "                                            Polynomial(constraint_le_rhs),\n",
    "                                            Operator.LE,\n",
    "                                            UNBALANCED_PENALIZATION))\n",
    "\n",
    "        return constraints\n",
    "\n",
    "    def get_score(self, result: str, penalty:float = 0) -> float:\n",
    "        \"\"\"\n",
    "        This function is used to evaluate the quality of the result (business value).\n",
    "        \"\"\"\n",
    "        # Convert the binary result to a list of integers\n",
    "        x = [int(val) for val in result]\n",
    "\n",
    "        # If the constraints are satisfied return the value of the objective function\n",
    "        if x[0] + x[1] == 1 and 5 * x[0] + 2 * x[1] <= 5:\n",
    "            return 2 * x[0] + 5 * x[1] + x[0] * x[1]\n",
    "\n",
    "        # Otherwise return some arbitrary penalty\n",
    "        return penalty"
   ]
  },
  {
   "cell_type": "markdown",
   "id": "b2293dff",
   "metadata": {},
   "source": [
    "### Using Dict syntax"
   ]
  },
  {
   "cell_type": "code",
   "execution_count": 17,
   "id": "6f9fbc6a",
   "metadata": {},
   "outputs": [],
   "source": [
    "from QHyper.problems.base import Problem\n",
    "from QHyper.constraint import Constraint, Operator, UNBALANCED_PENALIZATION\n",
    "from QHyper.polynomial import Polynomial\n",
    "\n",
    "\n",
    "class SimpleProblemDicts(Problem):\n",
    "\n",
    "    def __init__(self) -> None:\n",
    "        self.objective_function: Polynomial = self._get_objective_function()\n",
    "        self.constraints: list[Constraint] = self._get_constraints()\n",
    "\n",
    "    def _get_objective_function(self) -> Polynomial:\n",
    "        # Express the cost function as a dict\n",
    "        # the keys are tuples containing variables, and the values represent the coefficients\n",
    "        cost = {('x0', 'x1'): 1.0, ('x0',): 2.0, ('x1',): 5.0}\n",
    "        # Cast the cost dict to a Polynomial\n",
    "        return Polynomial(cost)\n",
    "\n",
    "    def _get_constraints(self) -> None:\n",
    "        constraints: list[Constraint] = []\n",
    "\n",
    "        # Define the left-hand side of the equality constraint\n",
    "        constraint_eq_lhs = {('x0',): 1.0, ('x1',): 1.0}\n",
    "        # Define the right-hand side of the equality constraint\n",
    "        constraint_eq_rhs = {(): 1}\n",
    "        # Add a new equality constraint casting both the lhs and rhs to Polynomials\n",
    "        constraints.append(Constraint(Polynomial(constraint_eq_lhs),\n",
    "                                            Polynomial(constraint_eq_rhs)))\n",
    "\n",
    "        constraint_le_lhs = {('x0',): 5.0, ('x1',): 2.0}\n",
    "        constraint_le_rhs = {(): 5}\n",
    "        # Add a new equality constraint, apart from the lhs, and rhs\n",
    "        # specify the comparison operator and the method for handling the inequality\n",
    "        constraints.append(Constraint(Polynomial(constraint_le_lhs),\n",
    "                                            Polynomial(constraint_le_rhs),\n",
    "                                            Operator.LE,\n",
    "                                            UNBALANCED_PENALIZATION))\n",
    "\n",
    "        return constraints\n",
    "\n",
    "    def get_score(self, result: str, penalty:float = 0) -> float:\n",
    "        \"\"\"\n",
    "        This function is used to evaluate the quality of the result (business value).\n",
    "        \"\"\"\n",
    "        # Convert the binary result to a list of integers\n",
    "        x = [int(val) for val in result]\n",
    "\n",
    "        # If the constraints are satisfied return the value of the objective function\n",
    "        if x[0] + x[1] == 1 and 5 * x[0] + 2 * x[1] <= 5:\n",
    "            return 2 * x[0] + 5 * x[1] + x[0] * x[1]\n",
    "\n",
    "        # Otherwise return some arbitrary penalty\n",
    "        return penalty"
   ]
  },
  {
   "cell_type": "markdown",
   "id": "53718472",
   "metadata": {},
   "source": [
    "To learn more about different solvers check out this [tutorial](../solver_configuration.rst)."
   ]
  }
 ],
 "metadata": {
  "kernelspec": {
   "display_name": "Python 3 (ipykernel)",
   "language": "python",
   "name": "python3"
  },
  "language_info": {
   "codemirror_mode": {
    "name": "ipython",
    "version": 3
   },
   "file_extension": ".py",
   "mimetype": "text/x-python",
   "name": "python",
   "nbconvert_exporter": "python",
   "pygments_lexer": "ipython3",
   "version": "3.10.8"
  }
 },
 "nbformat": 4,
 "nbformat_minor": 5
}
