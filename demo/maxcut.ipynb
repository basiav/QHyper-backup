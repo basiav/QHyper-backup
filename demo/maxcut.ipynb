{
 "cells": [
  {
   "cell_type": "markdown",
   "metadata": {},
   "source": [
    "## MaxCut"
   ]
  },
  {
   "cell_type": "code",
   "execution_count": 1,
   "metadata": {},
   "outputs": [
    {
     "name": "stdout",
     "output_type": "stream",
     "text": [
      "{('x0', 'x1'): 2, ('x0', 'x2'): 2, ('x0',): -2, ('x1', 'x3'): 2, ('x1',): -2, ('x2', 'x3'): 2, ('x2', 'x4'): 2, ('x2',): -3, ('x3', 'x4'): 2, ('x3',): -3, ('x4',): -2}\n"
     ]
    }
   ],
   "source": [
    "from QHyper.problems.maxcut import MaxCutProblem\n",
    "\n",
    "\n",
    "sample_graph_edges = [(1, 2), (1, 3), (2, 4), (3, 4), (3, 5), (4, 5)]\n",
    "\n",
    "maxcut_problem = MaxCutProblem(edges=sample_graph_edges)\n",
    "print(maxcut_problem.objective_function)"
   ]
  },
  {
   "cell_type": "markdown",
   "metadata": {},
   "source": [
    "##### DQM"
   ]
  },
  {
   "cell_type": "code",
   "execution_count": 2,
   "metadata": {},
   "outputs": [
    {
     "ename": "ValueError",
     "evalue": "there cannot be a quadratic interaction between two cases in the same variable",
     "output_type": "error",
     "traceback": [
      "\u001b[1;31m---------------------------------------------------------------------------\u001b[0m",
      "\u001b[1;31mValueError\u001b[0m                                Traceback (most recent call last)",
      "Cell \u001b[1;32mIn[2], line 5\u001b[0m\n\u001b[0;32m      1\u001b[0m \u001b[39mfrom\u001b[39;00m \u001b[39mQHyper\u001b[39;00m\u001b[39m.\u001b[39;00m\u001b[39msolvers\u001b[39;00m\u001b[39m.\u001b[39;00m\u001b[39mdqm\u001b[39;00m \u001b[39mimport\u001b[39;00m DQM\n\u001b[0;32m      4\u001b[0m max_cut_dqm \u001b[39m=\u001b[39m DQM(maxcut_problem, time\u001b[39m=\u001b[39m\u001b[39m5\u001b[39m)\n\u001b[1;32m----> 5\u001b[0m max_cut_sampleset \u001b[39m=\u001b[39m max_cut_dqm\u001b[39m.\u001b[39;49msolve()\n",
      "File \u001b[1;32m~\\Desktop\\Praca_Inzynierska\\QHyper\\QHyper\\solvers\\dqm\\dqm.py:19\u001b[0m, in \u001b[0;36mDQM.solve\u001b[1;34m(self, params_inits)\u001b[0m\n\u001b[0;32m     17\u001b[0m \u001b[39mdef\u001b[39;00m \u001b[39msolve\u001b[39m(\u001b[39mself\u001b[39m, params_inits: \u001b[39mdict\u001b[39m[\u001b[39mstr\u001b[39m, Any] \u001b[39m=\u001b[39m {}) \u001b[39m-\u001b[39m\u001b[39m>\u001b[39m Any:\n\u001b[0;32m     18\u001b[0m     converter \u001b[39m=\u001b[39m Converter()\n\u001b[1;32m---> 19\u001b[0m     dqm \u001b[39m=\u001b[39m converter\u001b[39m.\u001b[39;49mto_dqm(\u001b[39mself\u001b[39;49m\u001b[39m.\u001b[39;49mproblem)\n\u001b[0;32m     20\u001b[0m     sampler \u001b[39m=\u001b[39m LeapHybridDQMSampler(token\u001b[39m=\u001b[39mtoken)\n\u001b[0;32m     21\u001b[0m     sampleset \u001b[39m=\u001b[39m sampler\u001b[39m.\u001b[39msample_dqm(dqm, \u001b[39mself\u001b[39m\u001b[39m.\u001b[39mtime)\n",
      "File \u001b[1;32m~\\Desktop\\Praca_Inzynierska\\QHyper\\QHyper\\solvers\\converter.py:96\u001b[0m, in \u001b[0;36mConverter.to_dqm\u001b[1;34m(problem)\u001b[0m\n\u001b[0;32m     94\u001b[0m     x_j \u001b[39m=\u001b[39m binary_to_discrete(\u001b[39m*\u001b[39ms_j)\n\u001b[0;32m     95\u001b[0m     xj_idx: \u001b[39mint\u001b[39m \u001b[39m=\u001b[39m cast(\u001b[39mint\u001b[39m, dqm\u001b[39m.\u001b[39mvariables\u001b[39m.\u001b[39mindex(\u001b[39mstr\u001b[39m(x_j)))\n\u001b[1;32m---> 96\u001b[0m     dqm\u001b[39m.\u001b[39;49mset_quadratic(\n\u001b[0;32m     97\u001b[0m         dqm\u001b[39m.\u001b[39;49mvariables[xi_idx],\n\u001b[0;32m     98\u001b[0m         dqm\u001b[39m.\u001b[39;49mvariables[xj_idx],\n\u001b[0;32m     99\u001b[0m         {(case, case): bias \u001b[39mfor\u001b[39;49;00m case \u001b[39min\u001b[39;49;00m \u001b[39mrange\u001b[39;49m(problem\u001b[39m.\u001b[39;49mcases)},\n\u001b[0;32m    100\u001b[0m     )\n\u001b[0;32m    101\u001b[0m \u001b[39melse\u001b[39;00m:\n\u001b[0;32m    102\u001b[0m     dqm\u001b[39m.\u001b[39mset_linear(\n\u001b[0;32m    103\u001b[0m         dqm\u001b[39m.\u001b[39mvariables[xi_idx], [bias \u001b[39mfor\u001b[39;00m _ \u001b[39min\u001b[39;00m \u001b[39mrange\u001b[39m(problem\u001b[39m.\u001b[39mcases)]\n\u001b[0;32m    104\u001b[0m     )\n",
      "File \u001b[1;32mc:\\Users\\basia\\AppData\\Local\\Programs\\Python\\Python310\\lib\\site-packages\\dimod\\discrete\\discrete_quadratic_model.py:709\u001b[0m, in \u001b[0;36mDiscreteQuadraticModel.set_quadratic\u001b[1;34m(self, u, v, biases)\u001b[0m\n\u001b[0;32m    694\u001b[0m \u001b[39mdef\u001b[39;00m \u001b[39mset_quadratic\u001b[39m(\u001b[39mself\u001b[39m, u, v, biases):\n\u001b[0;32m    695\u001b[0m \u001b[39m    \u001b[39m\u001b[39m\"\"\"Set biases associated with the interaction between `u` and `v`.\u001b[39;00m\n\u001b[0;32m    696\u001b[0m \n\u001b[0;32m    697\u001b[0m \u001b[39m    Args:\u001b[39;00m\n\u001b[1;32m   (...)\u001b[0m\n\u001b[0;32m    707\u001b[0m \n\u001b[0;32m    708\u001b[0m \u001b[39m    \"\"\"\u001b[39;00m\n\u001b[1;32m--> 709\u001b[0m     \u001b[39mself\u001b[39;49m\u001b[39m.\u001b[39;49m_cydqm\u001b[39m.\u001b[39;49mset_quadratic(\n\u001b[0;32m    710\u001b[0m         \u001b[39mself\u001b[39;49m\u001b[39m.\u001b[39;49mvariables\u001b[39m.\u001b[39;49mindex(u),\n\u001b[0;32m    711\u001b[0m         \u001b[39mself\u001b[39;49m\u001b[39m.\u001b[39;49mvariables\u001b[39m.\u001b[39;49mindex(v),\n\u001b[0;32m    712\u001b[0m         biases)\n",
      "File \u001b[1;32mc:\\Users\\basia\\AppData\\Local\\Programs\\Python\\Python310\\lib\\site-packages\\dimod\\discrete\\cydiscrete_quadratic_model.pyx:579\u001b[0m, in \u001b[0;36mdimod.discrete.cydiscrete_quadratic_model.cyDiscreteQuadraticModel.set_quadratic\u001b[1;34m()\u001b[0m\n",
      "\u001b[1;31mValueError\u001b[0m: there cannot be a quadratic interaction between two cases in the same variable"
     ]
    }
   ],
   "source": [
    "from QHyper.solvers.dqm import DQM\n",
    "\n",
    "\n",
    "max_cut_dqm = DQM(maxcut_problem, time=5)\n",
    "max_cut_sampleset = max_cut_dqm.solve()"
   ]
  },
  {
   "cell_type": "code",
   "execution_count": 4,
   "metadata": {},
   "outputs": [
    {
     "name": "stdout",
     "output_type": "stream",
     "text": [
      "{'x0': 0, 'x1': 0, 'x2': 0, 'x3': 0, 'x4': 0}\n"
     ]
    }
   ],
   "source": [
    "res_dqm = max_cut_sampleset.first.sample\n",
    "print(res_dqm)"
   ]
  },
  {
   "cell_type": "code",
   "execution_count": 6,
   "metadata": {},
   "outputs": [],
   "source": [
    "import networkx as nx\n",
    "from matplotlib import pyplot as plt\n",
    "\n",
    "\n",
    "def plot_save_results(\n",
    "    sampleset_results: dict, maxcut_problem: MaxCutProblem\n",
    ") -> None:\n",
    "    plt.cla()\n",
    "\n",
    "    G = nx.Graph()\n",
    "    G.add_edges_from(maxcut_problem.edges)\n",
    "    S0 = [i + 1 for i, val in enumerate(sampleset_results.values()) if val == 0]\n",
    "    S1 = [i + 1 for i, val in enumerate(sampleset_results.values()) if val == 1]\n",
    "\n",
    "    lut = {i + 1: val for i, val in enumerate(sampleset_results.values())}\n",
    "    cut_edges = [(u, v) for u, v in G.edges if lut[u] != lut[v]]\n",
    "    uncut_edges = [(u, v) for u, v in G.edges if lut[u] == lut[v]]\n",
    "\n",
    "    pos = nx.spring_layout(G)\n",
    "    nx.draw_networkx_nodes(G, pos, nodelist=S0, node_color=\"r\")\n",
    "    nx.draw_networkx_nodes(G, pos, nodelist=S1, node_color=\"c\")\n",
    "    nx.draw_networkx_edges(\n",
    "        G, pos, edgelist=cut_edges, style=\"dashdot\", alpha=0.5, width=3\n",
    "    )\n",
    "    nx.draw_networkx_edges(G, pos, edgelist=uncut_edges, style=\"solid\", width=3)\n",
    "    nx.draw_networkx_labels(G, pos)\n",
    "\n",
    "    filename = \"./demo_output/maxcut_dqm_plot.png\"\n",
    "    plt.savefig(filename, bbox_inches=\"tight\")\n",
    "    print(\"\\nYour plot is saved to {}\".format(filename))\n",
    "    plt.show()"
   ]
  },
  {
   "cell_type": "code",
   "execution_count": 7,
   "metadata": {},
   "outputs": [
    {
     "ename": "NameError",
     "evalue": "name 'res_dqm' is not defined",
     "output_type": "error",
     "traceback": [
      "\u001b[1;31m---------------------------------------------------------------------------\u001b[0m",
      "\u001b[1;31mNameError\u001b[0m                                 Traceback (most recent call last)",
      "Cell \u001b[1;32mIn[7], line 1\u001b[0m\n\u001b[1;32m----> 1\u001b[0m plot_save_results(res_dqm, maxcut_problem)\n",
      "\u001b[1;31mNameError\u001b[0m: name 'res_dqm' is not defined"
     ]
    }
   ],
   "source": [
    "plot_save_results(res_dqm, maxcut_problem)"
   ]
  },
  {
   "cell_type": "markdown",
   "metadata": {},
   "source": [
    "### CQM"
   ]
  },
  {
   "cell_type": "code",
   "execution_count": 3,
   "metadata": {},
   "outputs": [],
   "source": [
    "from QHyper.solvers.cqm import CQM\n",
    "\n",
    "\n",
    "max_cut_cqm = CQM(maxcut_problem, time=5)\n",
    "max_cut_samples_cqm = max_cut_cqm.solve()"
   ]
  },
  {
   "cell_type": "code",
   "execution_count": 8,
   "metadata": {},
   "outputs": [
    {
     "name": "stdout",
     "output_type": "stream",
     "text": [
      "{'x0': 0.0, 'x1': 1.0, 'x2': 1.0, 'x3': 0.0, 'x4': 0.0, 'x5': 1.0}\n"
     ]
    },
    {
     "ename": "NetworkXError",
     "evalue": "Node 6 has no position.",
     "output_type": "error",
     "traceback": [
      "\u001b[1;31m---------------------------------------------------------------------------\u001b[0m",
      "\u001b[1;31mKeyError\u001b[0m                                  Traceback (most recent call last)",
      "File \u001b[1;32mc:\\Users\\basia\\AppData\\Local\\Programs\\Python\\Python310\\lib\\site-packages\\networkx\\drawing\\nx_pylab.py:425\u001b[0m, in \u001b[0;36mdraw_networkx_nodes\u001b[1;34m(G, pos, nodelist, node_size, node_color, node_shape, alpha, cmap, vmin, vmax, ax, linewidths, edgecolors, label, margins)\u001b[0m\n\u001b[0;32m    424\u001b[0m \u001b[39mtry\u001b[39;00m:\n\u001b[1;32m--> 425\u001b[0m     xy \u001b[39m=\u001b[39m np\u001b[39m.\u001b[39masarray([pos[v] \u001b[39mfor\u001b[39;00m v \u001b[39min\u001b[39;00m nodelist])\n\u001b[0;32m    426\u001b[0m \u001b[39mexcept\u001b[39;00m \u001b[39mKeyError\u001b[39;00m \u001b[39mas\u001b[39;00m err:\n",
      "File \u001b[1;32mc:\\Users\\basia\\AppData\\Local\\Programs\\Python\\Python310\\lib\\site-packages\\networkx\\drawing\\nx_pylab.py:425\u001b[0m, in \u001b[0;36m<listcomp>\u001b[1;34m(.0)\u001b[0m\n\u001b[0;32m    424\u001b[0m \u001b[39mtry\u001b[39;00m:\n\u001b[1;32m--> 425\u001b[0m     xy \u001b[39m=\u001b[39m np\u001b[39m.\u001b[39masarray([pos[v] \u001b[39mfor\u001b[39;00m v \u001b[39min\u001b[39;00m nodelist])\n\u001b[0;32m    426\u001b[0m \u001b[39mexcept\u001b[39;00m \u001b[39mKeyError\u001b[39;00m \u001b[39mas\u001b[39;00m err:\n",
      "\u001b[1;31mKeyError\u001b[0m: 6",
      "\nThe above exception was the direct cause of the following exception:\n",
      "\u001b[1;31mNetworkXError\u001b[0m                             Traceback (most recent call last)",
      "Cell \u001b[1;32mIn[8], line 2\u001b[0m\n\u001b[0;32m      1\u001b[0m \u001b[39mprint\u001b[39m(max_cut_samples_cqm)\n\u001b[1;32m----> 2\u001b[0m plot_save_results(max_cut_samples_cqm, maxcut_problem)\n",
      "Cell \u001b[1;32mIn[6], line 21\u001b[0m, in \u001b[0;36mplot_save_results\u001b[1;34m(sampleset_results, maxcut_problem)\u001b[0m\n\u001b[0;32m     19\u001b[0m pos \u001b[39m=\u001b[39m nx\u001b[39m.\u001b[39mspring_layout(G)\n\u001b[0;32m     20\u001b[0m nx\u001b[39m.\u001b[39mdraw_networkx_nodes(G, pos, nodelist\u001b[39m=\u001b[39mS0, node_color\u001b[39m=\u001b[39m\u001b[39m\"\u001b[39m\u001b[39mr\u001b[39m\u001b[39m\"\u001b[39m)\n\u001b[1;32m---> 21\u001b[0m nx\u001b[39m.\u001b[39;49mdraw_networkx_nodes(G, pos, nodelist\u001b[39m=\u001b[39;49mS1, node_color\u001b[39m=\u001b[39;49m\u001b[39m\"\u001b[39;49m\u001b[39mc\u001b[39;49m\u001b[39m\"\u001b[39;49m)\n\u001b[0;32m     22\u001b[0m nx\u001b[39m.\u001b[39mdraw_networkx_edges(\n\u001b[0;32m     23\u001b[0m     G, pos, edgelist\u001b[39m=\u001b[39mcut_edges, style\u001b[39m=\u001b[39m\u001b[39m\"\u001b[39m\u001b[39mdashdot\u001b[39m\u001b[39m\"\u001b[39m, alpha\u001b[39m=\u001b[39m\u001b[39m0.5\u001b[39m, width\u001b[39m=\u001b[39m\u001b[39m3\u001b[39m\n\u001b[0;32m     24\u001b[0m )\n\u001b[0;32m     25\u001b[0m nx\u001b[39m.\u001b[39mdraw_networkx_edges(G, pos, edgelist\u001b[39m=\u001b[39muncut_edges, style\u001b[39m=\u001b[39m\u001b[39m\"\u001b[39m\u001b[39msolid\u001b[39m\u001b[39m\"\u001b[39m, width\u001b[39m=\u001b[39m\u001b[39m3\u001b[39m)\n",
      "File \u001b[1;32mc:\\Users\\basia\\AppData\\Local\\Programs\\Python\\Python310\\lib\\site-packages\\networkx\\drawing\\nx_pylab.py:427\u001b[0m, in \u001b[0;36mdraw_networkx_nodes\u001b[1;34m(G, pos, nodelist, node_size, node_color, node_shape, alpha, cmap, vmin, vmax, ax, linewidths, edgecolors, label, margins)\u001b[0m\n\u001b[0;32m    425\u001b[0m     xy \u001b[39m=\u001b[39m np\u001b[39m.\u001b[39masarray([pos[v] \u001b[39mfor\u001b[39;00m v \u001b[39min\u001b[39;00m nodelist])\n\u001b[0;32m    426\u001b[0m \u001b[39mexcept\u001b[39;00m \u001b[39mKeyError\u001b[39;00m \u001b[39mas\u001b[39;00m err:\n\u001b[1;32m--> 427\u001b[0m     \u001b[39mraise\u001b[39;00m nx\u001b[39m.\u001b[39mNetworkXError(\u001b[39mf\u001b[39m\u001b[39m\"\u001b[39m\u001b[39mNode \u001b[39m\u001b[39m{\u001b[39;00merr\u001b[39m}\u001b[39;00m\u001b[39m has no position.\u001b[39m\u001b[39m\"\u001b[39m) \u001b[39mfrom\u001b[39;00m \u001b[39merr\u001b[39;00m\n\u001b[0;32m    429\u001b[0m \u001b[39mif\u001b[39;00m \u001b[39misinstance\u001b[39m(alpha, Iterable):\n\u001b[0;32m    430\u001b[0m     node_color \u001b[39m=\u001b[39m apply_alpha(node_color, alpha, nodelist, cmap, vmin, vmax)\n",
      "\u001b[1;31mNetworkXError\u001b[0m: Node 6 has no position."
     ]
    },
    {
     "data": {
      "image/png": "[encoded data removed]",
      "text/plain": [
       "<Figure size 640x480 with 1 Axes>"
      ]
     },
     "metadata": {},
     "output_type": "display_data"
    }
   ],
   "source": [
    "print(max_cut_samples_cqm)\n",
    "plot_save_results(max_cut_samples_cqm, maxcut_problem)"
   ]
  }
 ],
 "metadata": {
  "kernelspec": {
   "display_name": "Python 3",
   "language": "python",
   "name": "python3"
  },
  "language_info": {
   "codemirror_mode": {
    "name": "ipython",
    "version": 3
   },
   "file_extension": ".py",
   "mimetype": "text/x-python",
   "name": "python",
   "nbconvert_exporter": "python",
   "pygments_lexer": "ipython3",
   "version": "3.10.11"
  },
  "orig_nbformat": 4
 },
 "nbformat": 4,
 "nbformat_minor": 2
}
