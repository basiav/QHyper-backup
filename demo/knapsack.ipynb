{
 "cells": [
  {
   "cell_type": "markdown",
   "metadata": {},
   "source": [
    "## Knapsack problem"
   ]
  },
  {
   "attachments": {},
   "cell_type": "markdown",
   "metadata": {},
   "source": [
    "### Create knapsack problem"
   ]
  },
  {
   "cell_type": "code",
   "execution_count": 1,
   "metadata": {},
   "outputs": [
    {
     "name": "stdout",
     "output_type": "stream",
     "text": [
      "[Item(weight=1, value=2), Item(weight=1, value=2), Item(weight=1, value=1)]\n"
     ]
    }
   ],
   "source": [
    "from QHyper.problems.knapsack import KnapsackProblem\n",
    "\n",
    "knapsack = KnapsackProblem(max_weight=2, items=[(1, 2), (1, 2), (1, 1)])\n",
    "print(knapsack.knapsack.items)"
   ]
  },
  {
   "cell_type": "code",
   "execution_count": 2,
   "metadata": {},
   "outputs": [
    {
     "name": "stdout",
     "output_type": "stream",
     "text": [
      "Variables: (x0, x1, x2, x3, x4)\n",
      "Objective function: -2*x0 - 2*x1 - x2\n",
      "Constraints:\n",
      "    -x3 - x4 + 1\n",
      "    -x0 - x1 - x2 + x3 + 2*x4\n"
     ]
    }
   ],
   "source": [
    "print(f\"Variables: {knapsack.variables}\")\n",
    "print(f\"Objective function: {knapsack.objective_function}\")\n",
    "print(\"Constraints:\")\n",
    "for constraint in knapsack.constraints:\n",
    "    print(f\"    {constraint}\")"
   ]
  },
  {
   "attachments": {},
   "cell_type": "markdown",
   "metadata": {},
   "source": [
    "### Use VQA to solve knapsack problem"
   ]
  },
  {
   "cell_type": "code",
   "execution_count": 3,
   "metadata": {},
   "outputs": [],
   "source": [
    "import numpy as np\n",
    "\n",
    "from QHyper.solvers.vqa.base import VQA\n",
    "from QHyper.solvers.vqa import QAOA, HQAOA\n",
    "from QHyper.optimizers.random import Random\n",
    "from QHyper.optimizers.basinhopping import Basinhopping"
   ]
  },
  {
   "cell_type": "code",
   "execution_count": 4,
   "metadata": {},
   "outputs": [],
   "source": [
    "tester_config = {\n",
    "    \"pqc\": {\n",
    "        \"type\": \"wfqaoa\",\n",
    "        \"layers\": 5,\n",
    "    }\n",
    "}\n",
    "\n",
    "tester = VQA(knapsack, config=tester_config)"
   ]
  },
  {
   "cell_type": "code",
   "execution_count": 5,
   "metadata": {},
   "outputs": [],
   "source": [
    "solver_config = {\n",
    "    # 'optimizer': {\n",
    "    #     'type': 'scipy',\n",
    "    #     'maxfun': 200,\n",
    "    # },\n",
    "    \"optimizer\": {\n",
    "        \"type\": \"basinhopping\",\n",
    "        \"maxfun\": 200,\n",
    "        \"niter\": 10,\n",
    "        \"bounds\": [(1, 10)] * 3 + [(0, 2 * np.pi)] * 10,\n",
    "    },\n",
    "    \"pqc\": {\n",
    "        \"type\": \"hqaoa\",\n",
    "        \"layers\": 5,\n",
    "    },\n",
    "}\n",
    "\n",
    "params_cofing = {\n",
    "    \"angles\": [[0.5] * 5, [1] * 5],\n",
    "    \"hyper_args\": [1, 2.5, 2.5],\n",
    "}\n",
    "\n",
    "vqa = VQA(knapsack, config=solver_config)\n",
    "best_params = vqa.solve(params_cofing)"
   ]
  },
  {
   "cell_type": "code",
   "execution_count": 7,
   "metadata": {},
   "outputs": [
    {
     "name": "stdout",
     "output_type": "stream",
     "text": [
      "Best results: -1.7529002241121714\n",
      "Params used for optimizer: [0.         6.24584435 6.19718055 2.04922327 6.27942849 1.25562253\n",
      " 2.54497514 0.02608649 1.2461896  1.57247997],\n",
      "and params used for hyper optimizer: [1.         2.84091394 8.52015871]\n"
     ]
    }
   ],
   "source": [
    "best_results = tester.evaluate(best_params)\n",
    "print(f\"Best results: {best_results}\")\n",
    "print(\n",
    "    f\"Params used for optimizer: {best_params['angles']},\\nand params used for hyper optimizer: {best_params['hyper_args']}\"\n",
    ")\n",
    "# We haven't use hyper optimizer and qaoa only optimize angles, hence hyperparameters are the same as provided"
   ]
  },
  {
   "cell_type": "code",
   "execution_count": 8,
   "metadata": {},
   "outputs": [
    {
     "ename": "ValueError",
     "evalue": "not enough values to unpack (expected 3, got 2)",
     "output_type": "error",
     "traceback": [
      "\u001b[0;31m---------------------------------------------------------------------------\u001b[0m",
      "\u001b[0;31mValueError\u001b[0m                                Traceback (most recent call last)",
      "Cell \u001b[0;32mIn[8], line 4\u001b[0m\n\u001b[1;32m      1\u001b[0m \u001b[39m# You can provide VQA with objects instead of cofinguration dict\u001b[39;00m\n\u001b[1;32m      2\u001b[0m \u001b[39m# Here we create VQA instance, without optimizer, which will results geting just a quantum circuit (no optimization inside)\u001b[39;00m\n\u001b[1;32m      3\u001b[0m vqa \u001b[39m=\u001b[39m VQA(knapsack, QAOA(layers\u001b[39m=\u001b[39m\u001b[39m5\u001b[39m), \u001b[39mNone\u001b[39;00m)\n\u001b[0;32m----> 4\u001b[0m best_result, _, _ \u001b[39m=\u001b[39m vqa\u001b[39m.\u001b[39msolve(best_params)\n\u001b[1;32m      5\u001b[0m \u001b[39mprint\u001b[39m(\u001b[39mf\u001b[39m\u001b[39m\"\u001b[39m\u001b[39mResults are the same as above: \u001b[39m\u001b[39m{\u001b[39;00mbest_result\u001b[39m}\u001b[39;00m\u001b[39m\"\u001b[39m)\n",
      "\u001b[0;31mValueError\u001b[0m: not enough values to unpack (expected 3, got 2)"
     ]
    }
   ],
   "source": [
    "# You can provide VQA with objects instead of cofinguration dict\n",
    "# Here we create VQA instance, without optimizer, which will results geting just a quantum circuit (no optimization inside)\n",
    "vqa = VQA(knapsack, QAOA(layers=5), None)\n",
    "best_result, _, _ = vqa.solve(best_params)\n",
    "print(f\"Results are the same as above: {best_result}\")"
   ]
  },
  {
   "attachments": {},
   "cell_type": "markdown",
   "metadata": {},
   "source": [
    "#### Using hyper optimizers"
   ]
  },
  {
   "cell_type": "code",
   "execution_count": 7,
   "metadata": {},
   "outputs": [
    {
     "name": "stderr",
     "output_type": "stream",
     "text": [
      "100%|██████████| 100/100 [26:24<00:00, 15.84s/it]\n"
     ]
    }
   ],
   "source": [
    "from QHyper.optimizers.random import Random\n",
    "\n",
    "solver_config = {\n",
    "    \"pqc\": {\n",
    "        \"type\": \"qaoa\",\n",
    "        \"layers\": 5,\n",
    "    },\n",
    "    \"optimizer\": {\"type\": \"scipy\", \"maxfun\": 200},\n",
    "    \"eval_func\": {\"type\": \"expval\"},\n",
    "}\n",
    "params_cofing = {\n",
    "    \"angles\": [[0.5] * 5, [1] * 5],\n",
    "    \"hyper_args\": [1, 2.5, 2.5],\n",
    "}\n",
    "vqa = VQA(knapsack, config=solver_config)\n",
    "\n",
    "random = Random(\n",
    "    processes=5, number_of_samples=100, bounds=[[1, 10], [1, 10], [1, 10]]\n",
    ")\n",
    "best_result_h, optimizer_params_h, hyper_params_h = vqa.solve(\n",
    "    params_cofing, random\n",
    ")"
   ]
  },
  {
   "cell_type": "code",
   "execution_count": 8,
   "metadata": {},
   "outputs": [
    {
     "name": "stdout",
     "output_type": "stream",
     "text": [
      "Best results from hyper optimizer: -41.0438258707136\n",
      "Params used for optimizer: [[0.0238681  5.89321814 6.17761962 0.         2.6826312 ]\n",
      " [0.         0.55771513 0.13841942 6.11464352 6.0394204 ]],\n",
      "and params used for hyper optimizer: [9.41620504 4.94209924 2.11245363]\n"
     ]
    }
   ],
   "source": [
    "print(f\"Best results from hyper optimizer: {best_result_h}\")\n",
    "print(\n",
    "    f\"Params used for optimizer: {optimizer_params_h},\\nand params used for hyper optimizer: {hyper_params_h}\"\n",
    ")"
   ]
  },
  {
   "cell_type": "code",
   "execution_count": 9,
   "metadata": {},
   "outputs": [
    {
     "name": "stdout",
     "output_type": "stream",
     "text": [
      "Results are the same as above: -0.06004883742587043\n"
     ]
    }
   ],
   "source": [
    "params_cofing = {\n",
    "    \"angles\": optimizer_params_h,\n",
    "    \"hyper_args\": hyper_params_h,\n",
    "}\n",
    "# You can provide VQA with objects instead of cofinguration dict\n",
    "# Here we create VQA instance, without optimizer, which will results geting just a quantum circuit (no optimization inside)\n",
    "vqa = VQA(knapsack, QAOA(layers=5), None, WFEval())\n",
    "best_result, _, _ = vqa.solve(params_cofing)\n",
    "print(f\"Results are the same as above: {best_result}\")"
   ]
  }
 ],
 "metadata": {
  "kernelspec": {
   "display_name": "Python 3.10.6 ('venv': venv)",
   "language": "python",
   "name": "python3"
  },
  "language_info": {
   "codemirror_mode": {
    "name": "ipython",
    "version": 3
   },
   "file_extension": ".py",
   "mimetype": "text/x-python",
   "name": "python",
   "nbconvert_exporter": "python",
   "pygments_lexer": "ipython3",
   "version": "3.10.6"
  },
  "orig_nbformat": 4,
  "vscode": {
   "interpreter": {
    "hash": "59ddf9d140262b8237ab82f293175fe16bdb83dcbb2d03089c8be0234363df8c"
   }
  }
 },
 "nbformat": 4,
 "nbformat_minor": 2
}
