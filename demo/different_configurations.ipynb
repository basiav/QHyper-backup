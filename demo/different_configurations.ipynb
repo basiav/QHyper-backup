{
 "cells": [
  {
   "cell_type": "markdown",
   "metadata": {},
   "source": [
    "# Basic usecase"
   ]
  },
  {
   "cell_type": "markdown",
   "metadata": {},
   "source": [
    "## Problem\n",
    "\n",
    "In this notebook, we provide examples of different solver configurations for the sample Knapsack Problem with three items. The goal is to put chosen items in the knapsack to achieve maximal cost  with total weight not exceeding `max_weight`.  The `items_weights` and `item_values` sections specify the weight and cost of each item, respectively.\n",
    "\n",
    "```yaml\n",
    "problem:\n",
    "  type: knapsack\n",
    "  max_weight: 2\n",
    "  items_weights: [1, 1, 1]\n",
    "  items_values: [2, 2, 1]\n",
    "```"
   ]
  },
  {
   "cell_type": "markdown",
   "metadata": {
    "vscode": {
     "languageId": "raw"
    }
   },
   "source": [
    "## Configuration for QAOA\n",
    "Configuration below shows how to create a QAOA algorithm instance with 5 layers and local gradient descent optimizer (:py:class:`QmlGradientDescent`) with default 'Adam'.\n",
    "\n",
    "`angles` indicate variational parameters searched by specified optimizer;\n",
    "`hyper args` refer to the initial weights in the objective function of the Knapsack Problem.."
   ]
  },
  {
   "cell_type": "code",
   "execution_count": 3,
   "metadata": {},
   "outputs": [],
   "source": [
    "qaqa_config_yaml = \"\"\"\n",
    "problem:\n",
    "  type: knapsack\n",
    "  max_weight: 2\n",
    "  items_weights: [1, 1, 1]\n",
    "  items_values: [2, 2, 1]\n",
    "solver:\n",
    "  type: vqa\n",
    "  pqc:\n",
    "    type: qaoa\n",
    "    layers: 5\n",
    "  optimizer:\n",
    "    type: qml\n",
    "  params_inits:\n",
    "    angles: [[0.5, 0.5, 0.5, 0.5, 0.5], [1, 1, 1, 1, 1]]\n",
    "    hyper_args: [1, 2.5, 2.5]\n",
    "\"\"\""
   ]
  },
  {
   "cell_type": "code",
   "execution_count": 4,
   "metadata": {},
   "outputs": [],
   "source": [
    "import yaml\n",
    "from QHyper.solvers import solver_from_config\n",
    "\n",
    "config = yaml.safe_load(qaqa_config_yaml)\n",
    "\n",
    "solver = solver_from_config(config)"
   ]
  },
  {
   "cell_type": "code",
   "execution_count": 5,
   "metadata": {},
   "outputs": [
    {
     "data": {
      "text/plain": [
       "rec.array([(0, 0, 0, 0, 0, 0.01925662), (0, 0, 0, 0, 1, 0.00499353),\n",
       "           (0, 0, 0, 1, 0, 0.06602495), (0, 0, 0, 1, 1, 0.00135034),\n",
       "           (0, 0, 1, 0, 0, 0.00929764), (0, 0, 1, 0, 1, 0.00077379),\n",
       "           (0, 0, 1, 1, 0, 0.0150905 ), (0, 0, 1, 1, 1, 0.00105546),\n",
       "           (0, 1, 0, 0, 0, 0.01907666), (0, 1, 0, 0, 1, 0.0119462 ),\n",
       "           (0, 1, 0, 1, 0, 0.01663426), (0, 1, 0, 1, 1, 0.0009503 ),\n",
       "           (0, 1, 1, 0, 0, 0.0058822 ), (0, 1, 1, 0, 1, 0.11219791),\n",
       "           (0, 1, 1, 1, 0, 0.01533116), (0, 1, 1, 1, 1, 0.00056568),\n",
       "           (1, 0, 0, 0, 0, 0.01907666), (1, 0, 0, 0, 1, 0.0119462 ),\n",
       "           (1, 0, 0, 1, 0, 0.01663426), (1, 0, 0, 1, 1, 0.0009503 ),\n",
       "           (1, 0, 1, 0, 0, 0.0058822 ), (1, 0, 1, 0, 1, 0.11219791),\n",
       "           (1, 0, 1, 1, 0, 0.01533116), (1, 0, 1, 1, 1, 0.00056568),\n",
       "           (1, 1, 0, 0, 0, 0.00744606), (1, 1, 0, 0, 1, 0.07094647),\n",
       "           (1, 1, 0, 1, 0, 0.01561782), (1, 1, 0, 1, 1, 0.0122494 ),\n",
       "           (1, 1, 1, 0, 0, 0.00071473), (1, 1, 1, 0, 1, 0.25909813),\n",
       "           (1, 1, 1, 1, 0, 0.00251099), (1, 1, 1, 1, 1, 0.14840486)],\n",
       "          dtype=[('x0', '<i4'), ('x1', '<i4'), ('x2', '<i4'), ('x3', '<i4'), ('x4', '<i4'), ('probability', '<f8')])"
      ]
     },
     "execution_count": 5,
     "metadata": {},
     "output_type": "execute_result"
    }
   ],
   "source": [
    "results = solver.solve()\n",
    "results.probabilities"
   ]
  },
  {
   "cell_type": "markdown",
   "metadata": {},
   "source": [
    "## Configuration for D-Wave Advantage\n",
    "\n",
    "Configuration for a grid search hyperoptimizer. The objective function penalties (`hyper_args`) are searched within specified `bounds` using provided `steps`. The objective function is solved with D-Wave Advantage."
   ]
  },
  {
   "cell_type": "code",
   "execution_count": 12,
   "metadata": {},
   "outputs": [],
   "source": [
    "advantage_config_yaml = \"\"\"\n",
    "problem:\n",
    "  type: knapsack\n",
    "  max_weight: 2\n",
    "  items_weights: [1, 1, 1]\n",
    "  items_values: [2, 2, 1]\n",
    "solver:\n",
    "  type: advantage\n",
    "  hyper_optimizer:\n",
    "    type: grid\n",
    "    steps: [0.1, 0.1, 0.1]\n",
    "    bounds: [[1, 10], [1, 10], [1, 10]]\n",
    "  params_inits:\n",
    "    weights: [1, 1, 1]\n",
    "\"\"\""
   ]
  },
  {
   "cell_type": "code",
   "execution_count": 15,
   "metadata": {},
   "outputs": [
    {
     "ename": "TypeError",
     "evalue": "Advantage.__init__() got an unexpected keyword argument 'hyper_optimizer'",
     "output_type": "error",
     "traceback": [
      "\u001b[0;31m---------------------------------------------------------------------------\u001b[0m",
      "\u001b[0;31mTypeError\u001b[0m                                 Traceback (most recent call last)",
      "Cell \u001b[0;32mIn[15], line 6\u001b[0m\n\u001b[1;32m      2\u001b[0m \u001b[38;5;28;01mfrom\u001b[39;00m \u001b[38;5;21;01mQHyper\u001b[39;00m\u001b[38;5;21;01m.\u001b[39;00m\u001b[38;5;21;01msolvers\u001b[39;00m \u001b[38;5;28;01mimport\u001b[39;00m solver_from_config\n\u001b[1;32m      4\u001b[0m config \u001b[38;5;241m=\u001b[39m yaml\u001b[38;5;241m.\u001b[39msafe_load(advantage_config_yaml)\n\u001b[0;32m----> 6\u001b[0m solver \u001b[38;5;241m=\u001b[39m \u001b[43msolver_from_config\u001b[49m\u001b[43m(\u001b[49m\u001b[43mconfig\u001b[49m\u001b[43m)\u001b[49m\n",
      "File \u001b[0;32m~/QHyper/demo/QHyper/solvers/__init__.py:120\u001b[0m, in \u001b[0;36msolver_from_config\u001b[0;34m(config)\u001b[0m\n\u001b[1;32m    117\u001b[0m \u001b[38;5;28;01mexcept\u001b[39;00m \u001b[38;5;167;01mKeyError\u001b[39;00m:\n\u001b[1;32m    118\u001b[0m     \u001b[38;5;28;01mraise\u001b[39;00m SolverConfigException(error_msg)\n\u001b[0;32m--> 120\u001b[0m solver \u001b[38;5;241m=\u001b[39m \u001b[43msolver_class\u001b[49m\u001b[38;5;241;43m.\u001b[39;49m\u001b[43mfrom_config\u001b[49m\u001b[43m(\u001b[49m\u001b[43mproblem\u001b[49m\u001b[43m,\u001b[49m\u001b[43m \u001b[49m\u001b[43msolver_config\u001b[49m\u001b[43m)\u001b[49m\n\u001b[1;32m    122\u001b[0m \u001b[38;5;28;01mreturn\u001b[39;00m solver\n",
      "File \u001b[0;32m~/QHyper/demo/QHyper/solvers/base.py:60\u001b[0m, in \u001b[0;36mSolver.from_config\u001b[0;34m(cls, problem, config)\u001b[0m\n\u001b[1;32m     58\u001b[0m \u001b[38;5;129m@classmethod\u001b[39m\n\u001b[1;32m     59\u001b[0m \u001b[38;5;28;01mdef\u001b[39;00m \u001b[38;5;21mfrom_config\u001b[39m(\u001b[38;5;28mcls\u001b[39m, problem: Problem, config: \u001b[38;5;28mdict\u001b[39m[\u001b[38;5;28mstr\u001b[39m, Any]) \u001b[38;5;241m-\u001b[39m\u001b[38;5;241m>\u001b[39m \u001b[38;5;124m'\u001b[39m\u001b[38;5;124mSolver\u001b[39m\u001b[38;5;124m'\u001b[39m:\n\u001b[0;32m---> 60\u001b[0m     \u001b[38;5;28;01mreturn\u001b[39;00m \u001b[38;5;28;43mcls\u001b[39;49m\u001b[43m(\u001b[49m\u001b[43mproblem\u001b[49m\u001b[43m,\u001b[49m\u001b[43m \u001b[49m\u001b[38;5;241;43m*\u001b[39;49m\u001b[38;5;241;43m*\u001b[39;49m\u001b[43mconfig\u001b[49m\u001b[43m)\u001b[49m\n",
      "\u001b[0;31mTypeError\u001b[0m: Advantage.__init__() got an unexpected keyword argument 'hyper_optimizer'"
     ]
    }
   ],
   "source": [
    "import yaml\n",
    "from QHyper.solvers import solver_from_config\n",
    "\n",
    "config = yaml.safe_load(advantage_config_yaml)\n",
    "\n",
    "solver = solver_from_config(config)"
   ]
  },
  {
   "cell_type": "code",
   "execution_count": null,
   "metadata": {},
   "outputs": [],
   "source": [
    "results = solver.solve()\n",
    "results.probabilities"
   ]
  },
  {
   "cell_type": "markdown",
   "metadata": {},
   "source": [
    "## Advance configuration\n",
    "\n",
    "QHyper configuration of the QAOA variant (WF-QAOA) with 5 `layers` and  the local gradient descent Adam `optimizer` (qml). `angles` indicate  initial variational parameters optimized by the method. `hyper_args` refer to the initial objective function penalties searched within `hyper_optimizer` `bounds` by the `CEM` method. `processes`, `samples_per_epoch`, and `epochs` are parameters specific to the `CEM` method."
   ]
  },
  {
   "cell_type": "markdown",
   "metadata": {},
   "source": [
    ".. warning::\n",
    "    The `CEM` method is computationally expensive and may require a significant amount of time to complete (~15 min). "
   ]
  },
  {
   "cell_type": "code",
   "execution_count": 1,
   "metadata": {},
   "outputs": [],
   "source": [
    "advance_config_yaml = \"\"\"\n",
    "problem:\n",
    "  type: knapsack\n",
    "  max_weight: 2\n",
    "  items_weights: [1, 1, 1]\n",
    "  items_values: [2, 2, 1]\n",
    "solver:\n",
    "  type: vqa\n",
    "  pqc:\n",
    "    type: wfqaoa\n",
    "    layers: 5\n",
    "    backend: default.qubit\n",
    "  optimizer:\n",
    "    type: qml\n",
    "    optimizer: adam\n",
    "    steps: 50\n",
    "    stepsize: 0.01\n",
    "  hyper_optimizer:\n",
    "    type: cem\n",
    "    processes: 4\n",
    "    samples_per_epoch: 200\n",
    "    epochs: 5\n",
    "    bounds: [[1, 10], [1, 10], [1, 10]]\n",
    "    disable_tqdm: False\n",
    "  params_inits:\n",
    "    angles: [[0.5, 0.5, 0.5, 0.5, 0.5], [1, 1, 1, 1, 1]]\n",
    "    hyper_args: [1, 2.5, 2.5]\n",
    "\"\"\""
   ]
  },
  {
   "cell_type": "code",
   "execution_count": 6,
   "metadata": {},
   "outputs": [],
   "source": [
    "import yaml\n",
    "from QHyper.solvers import solver_from_config\n",
    "\n",
    "config = yaml.safe_load(advance_config_yaml)\n",
    "\n",
    "solver = solver_from_config(config)"
   ]
  },
  {
   "cell_type": "code",
   "execution_count": 7,
   "metadata": {},
   "outputs": [
    {
     "name": "stderr",
     "output_type": "stream",
     "text": [
      "100%|██████████| 200/200 [02:43<00:00,  1.22it/s]\n",
      "100%|██████████| 200/200 [02:47<00:00,  1.19it/s]\n",
      "100%|██████████| 200/200 [02:35<00:00,  1.29it/s]\n",
      "100%|██████████| 200/200 [02:34<00:00,  1.29it/s]\n",
      "100%|██████████| 200/200 [02:35<00:00,  1.28it/s]\n"
     ]
    },
    {
     "data": {
      "text/plain": [
       "rec.array([(0, 0, 0, 0, 0, 0.00069401), (0, 0, 0, 0, 1, 0.01476763),\n",
       "           (0, 0, 0, 1, 0, 0.05957409), (0, 0, 0, 1, 1, 0.03294517),\n",
       "           (0, 0, 1, 0, 0, 0.03042684), (0, 0, 1, 0, 1, 0.00883227),\n",
       "           (0, 0, 1, 1, 0, 0.00654667), (0, 0, 1, 1, 1, 0.04354659),\n",
       "           (0, 1, 0, 0, 0, 0.01130641), (0, 1, 0, 0, 1, 0.00159494),\n",
       "           (0, 1, 0, 1, 0, 0.01265646), (0, 1, 0, 1, 1, 0.03360276),\n",
       "           (0, 1, 1, 0, 0, 0.01778942), (0, 1, 1, 0, 1, 0.08637871),\n",
       "           (0, 1, 1, 1, 0, 0.06138423), (0, 1, 1, 1, 1, 0.03077721),\n",
       "           (1, 0, 0, 0, 0, 0.01130641), (1, 0, 0, 0, 1, 0.00159494),\n",
       "           (1, 0, 0, 1, 0, 0.01265646), (1, 0, 0, 1, 1, 0.03360276),\n",
       "           (1, 0, 1, 0, 0, 0.01778942), (1, 0, 1, 0, 1, 0.08637871),\n",
       "           (1, 0, 1, 1, 0, 0.06138423), (1, 0, 1, 1, 1, 0.03077721),\n",
       "           (1, 1, 0, 0, 0, 0.04008062), (1, 1, 0, 0, 1, 0.15231274),\n",
       "           (1, 1, 0, 1, 0, 0.01425434), (1, 1, 0, 1, 1, 0.00320176),\n",
       "           (1, 1, 1, 0, 0, 0.0144249 ), (1, 1, 1, 0, 1, 0.00758017),\n",
       "           (1, 1, 1, 1, 0, 0.02637529), (1, 1, 1, 1, 1, 0.03345663)],\n",
       "          dtype=[('x0', '<i4'), ('x1', '<i4'), ('x2', '<i4'), ('x3', '<i4'), ('x4', '<i4'), ('probability', '<f8')])"
      ]
     },
     "execution_count": 7,
     "metadata": {},
     "output_type": "execute_result"
    }
   ],
   "source": [
    "results = solver.solve()\n",
    "results.probabilities"
   ]
  },
  {
   "cell_type": "markdown",
   "metadata": {},
   "source": [
    "## Results evaluation"
   ]
  },
  {
   "cell_type": "markdown",
   "metadata": {},
   "source": [
    "After obtaining the results, we evaluate the solution by calculating the total cost and weight of the items in the knapsack."
   ]
  },
  {
   "cell_type": "code",
   "execution_count": 4,
   "metadata": {},
   "outputs": [
    {
     "name": "stdout",
     "output_type": "stream",
     "text": [
      "Evaluation:\n",
      "-1.669217721264391\n",
      "Sorted results:\n",
      "[(1, 1, 0, 0, 1, 0.14605589) (1, 0, 1, 0, 1, 0.09231208)\n",
      " (0, 1, 1, 0, 1, 0.09231208) (1, 0, 1, 1, 0, 0.06831021)\n",
      " (0, 1, 1, 1, 0, 0.06831021)]\n",
      "Result: (1, 1, 0, 0, 1, 0.14605589, -4.), Prob: 0.14606, Evaluation: -4.0\n",
      "Result: (1, 0, 1, 0, 1, 0.09231208, -3.), Prob: 0.092312, Evaluation: -3.0\n",
      "Result: (0, 1, 1, 0, 1, 0.09231208, -3.), Prob: 0.092312, Evaluation: -3.0\n",
      "Result: (1, 0, 1, 1, 0, 0.06831021, 0.), Prob: 0.06831, Evaluation: 0.0\n",
      "Result: (0, 1, 1, 1, 0, 0.06831021, 0.), Prob: 0.06831, Evaluation: 0.0\n"
     ]
    }
   ],
   "source": [
    "from QHyper.util import (\n",
    "    weighted_avg_evaluation, sort_solver_results, add_evaluation_to_results)\n",
    "\n",
    "problem = solver.problem\n",
    "\n",
    "# Evaluate results with weighted average evaluation\n",
    "print(\"Evaluation:\")\n",
    "print(weighted_avg_evaluation(\n",
    "    results.probabilities, problem.get_score,\n",
    "    penalty=0, limit_results=10, normalize=True\n",
    "))\n",
    "print(\"Sorted results:\")\n",
    "sorted_results = sort_solver_results(\n",
    "    results.probabilities, limit_results=5)\n",
    "print(sorted_results)\n",
    "\n",
    "# Add evaluation to results\n",
    "results_with_evaluation = add_evaluation_to_results(\n",
    "    sorted_results, problem.get_score, penalty=0)\n",
    "\n",
    "for rec in results_with_evaluation:\n",
    "    print(f\"Result: {rec}, \"\n",
    "          f\"Prob: {rec['probability']:.5}, \"\n",
    "          f\"Evaluation: {rec['evaluation']:.5}\")"
   ]
  }
 ],
 "metadata": {
  "kernelspec": {
   "display_name": "venv",
   "language": "python",
   "name": "python3"
  },
  "language_info": {
   "codemirror_mode": {
    "name": "ipython",
    "version": 3
   },
   "file_extension": ".py",
   "mimetype": "text/x-python",
   "name": "python",
   "nbconvert_exporter": "python",
   "pygments_lexer": "ipython3",
   "version": "3.10.12"
  }
 },
 "nbformat": 4,
 "nbformat_minor": 2
}
