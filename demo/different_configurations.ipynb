{
 "cells": [
  {
   "cell_type": "markdown",
   "metadata": {},
   "source": [
    "# Basic usecase"
   ]
  },
  {
   "cell_type": "markdown",
   "metadata": {},
   "source": [
    "## Problem\n",
    "\n",
    "In this notebook, we provide examples of different solver configurations for the sample Knapsack Problem with three items. The goal is to put chosen items in the knapsack to achieve maximal cost  with total weight not exceeding `max_weight`.  The `items_weights` and `item_values` sections specify the weight and cost of each item, respectively.\n",
    "\n",
    "```yaml\n",
    "problem:\n",
    "  type: knapsack\n",
    "  max_weight: 2\n",
    "  items_weights: [1, 1, 1]\n",
    "  items_values: [2, 2, 1]\n",
    "```"
   ]
  },
  {
   "cell_type": "markdown",
   "metadata": {
    "vscode": {
     "languageId": "raw"
    }
   },
   "source": [
    "## Configuration for QAOA\n",
    "Configuration below shows how to create a QAOA algorithm instance with 5 layers and local gradient descent optimizer (:py:class:`QmlGradientDescent`) with default 'Adam'.\n",
    "\n",
    "`angles` indicate variational parameters searched by specified optimizer;\n",
    "`hyper args` refer to the initial weights in the objective function of the Knapsack Problem.."
   ]
  },
  {
   "cell_type": "code",
   "execution_count": 1,
   "metadata": {},
   "outputs": [],
   "source": [
    "qaqa_config_yaml = \"\"\"\n",
    "problem:\n",
    "  type: knapsack\n",
    "  max_weight: 2\n",
    "  items_weights: [1, 1, 1]\n",
    "  items_values: [2, 2, 1]\n",
    "solver:\n",
    "  type: vqa\n",
    "  pqc:\n",
    "    type: qaoa\n",
    "    layers: 5\n",
    "  optimizer:\n",
    "    type: qml\n",
    "  params_inits:\n",
    "    angles: [[0.5, 0.5, 0.5, 0.5, 0.5], [1, 1, 1, 1, 1]]\n",
    "    hyper_args: [1, 2.5, 2.5]\n",
    "\"\"\""
   ]
  },
  {
   "cell_type": "markdown",
   "metadata": {},
   "source": [
    "## Configuration for D-Wave Advantage\n",
    "\n",
    "Configuration for a grid search hyperoptimizer. The objective function penalties (`hyper_args`) are searched within specified `bounds` using provided `steps`. The objective function is solved with D-Wave Advantage."
   ]
  },
  {
   "cell_type": "code",
   "execution_count": 2,
   "metadata": {},
   "outputs": [],
   "source": [
    "advantage_config_yaml = \"\"\"\n",
    "problem:\n",
    "  type: knapsack\n",
    "  max_weight: 2\n",
    "  items_weights: [1, 1, 1]\n",
    "  items_values: [2, 2, 1]\n",
    "solver:\n",
    "  type: advantage\n",
    "  hyper_optimizer:\n",
    "    type: grid\n",
    "    steps: [0.01, 0.01, 0.01]\n",
    "    bounds: [[1, 10], [1, 10], [1, 10]]\n",
    "  params_inits:\n",
    "    weights: [1, 1, 1]\n",
    "\"\"\""
   ]
  },
  {
   "cell_type": "markdown",
   "metadata": {},
   "source": [
    "## Advance configuration\n",
    "\n",
    "QHyper configuration of the QAOA variant (WF-QAOA) with 5 `layers` and  the local gradient descent Adam `optimizer` (qml). `angles` indicate  initial variational parameters optimized by the method. `hyper_args` refer to the initial objective function penalties searched within `hyper_optimizer` `bounds` by the `CEM` method. `processes`, `samples_per_epoch`, and `epochs` are parameters specific to the `CEM` method."
   ]
  },
  {
   "cell_type": "code",
   "execution_count": 3,
   "metadata": {},
   "outputs": [],
   "source": [
    "advance_config_yaml = \"\"\"\n",
    "problem:\n",
    "  type: knapsack\n",
    "  max_weight: 2\n",
    "  items_weights: [1, 1, 1]\n",
    "  items_values: [2, 2, 1]\n",
    "solver:\n",
    "  type: vqa\n",
    "  pqc:\n",
    "    type: wfqaoa\n",
    "    layers: 5\n",
    "    backend: default.qubit\n",
    "  optimizer:\n",
    "    type: qml\n",
    "    optimizer: adam\n",
    "    steps: 200\n",
    "    stepsize: 0.005\n",
    "  hyper_optimizer:\n",
    "    type: cem\n",
    "    processes: 4\n",
    "    samples_per_epoch: 1000\n",
    "    epochs: 10\n",
    "    bounds: [[1, 10], [1, 10], [1, 10]]\n",
    "  params_inits:\n",
    "    angles: [[0.5, 0.5, 0.5, 0.5, 0.5], [1, 1, 1, 1, 1]]\n",
    "    hyper_args: [1, 2.5, 2.5]\n",
    "\"\"\""
   ]
  },
  {
   "cell_type": "markdown",
   "metadata": {},
   "source": [
    "## Solver execution and results evaluation"
   ]
  },
  {
   "cell_type": "markdown",
   "metadata": {},
   "source": [
    "Importing required libraries and creating a solver instance from the configuration. Here we use the `QAOA` solver, but other configurations could be used as well."
   ]
  },
  {
   "cell_type": "code",
   "execution_count": 4,
   "metadata": {},
   "outputs": [],
   "source": [
    "import yaml\n",
    "from QHyper.solvers import solver_from_config\n",
    "\n",
    "config = yaml.safe_load(qaqa_config_yaml)\n",
    "\n",
    "solver = solver_from_config(config)"
   ]
  },
  {
   "cell_type": "markdown",
   "metadata": {},
   "source": [
    "Next, we run the solver and print the probabilities."
   ]
  },
  {
   "cell_type": "code",
   "execution_count": 5,
   "metadata": {},
   "outputs": [
    {
     "data": {
      "text/plain": [
       "{'00000': 0.019256615531008367,\n",
       " '00001': 0.00499352962189102,\n",
       " '00010': 0.06602494739836554,\n",
       " '00011': 0.0013503393228611027,\n",
       " '00100': 0.00929763961142956,\n",
       " '00101': 0.0007737888637532465,\n",
       " '00110': 0.015090504145414452,\n",
       " '00111': 0.0010554601420100353,\n",
       " '01000': 0.01907665783208572,\n",
       " '01001': 0.011946196013858858,\n",
       " '01010': 0.016634259547056083,\n",
       " '01011': 0.0009502979357583128,\n",
       " '01100': 0.005882200822365891,\n",
       " '01101': 0.11219790796472451,\n",
       " '01110': 0.015331155364085032,\n",
       " '01111': 0.0005656815846679773,\n",
       " '10000': 0.019076657832085682,\n",
       " '10001': 0.011946196013858872,\n",
       " '10010': 0.01663425954705607,\n",
       " '10011': 0.0009502979357583092,\n",
       " '10100': 0.005882200822365878,\n",
       " '10101': 0.11219790796472442,\n",
       " '10110': 0.015331155364085032,\n",
       " '10111': 0.0005656815846679773,\n",
       " '11000': 0.007446059664264837,\n",
       " '11001': 0.07094646891953676,\n",
       " '11010': 0.015617824600733517,\n",
       " '11011': 0.012249402344729498,\n",
       " '11100': 0.0007147274620250246,\n",
       " '11101': 0.25909813092602146,\n",
       " '11110': 0.0025109903464748972,\n",
       " '11111': 0.14840485697026595}"
      ]
     },
     "execution_count": 5,
     "metadata": {},
     "output_type": "execute_result"
    }
   ],
   "source": [
    "results = solver.solve()\n",
    "results.probabilities"
   ]
  },
  {
   "cell_type": "markdown",
   "metadata": {},
   "source": [
    "After obtaining the results, we evaluate the solution by calculating the total cost and weight of the items in the knapsack."
   ]
  },
  {
   "cell_type": "code",
   "execution_count": 6,
   "metadata": {},
   "outputs": [
    {
     "name": "stdout",
     "output_type": "stream",
     "text": [
      "Evaluation:\n",
      "-1.1747833822414966\n",
      "Sorted results:\n",
      "Result: 11101, Prob: 0.2591, Evaluation: 0\n",
      "Result: 11111, Prob: 0.1484, Evaluation: 0\n",
      "Result: 01101, Prob: 0.1122, Evaluation: -3\n",
      "Result: 10101, Prob: 0.1122, Evaluation: -3\n",
      "Result: 11001, Prob: 0.070946, Evaluation: -4\n"
     ]
    }
   ],
   "source": [
    "from QHyper.util import (\n",
    "    weighted_avg_evaluation, sort_solver_results, add_evaluation_to_results)\n",
    "\n",
    "# Evaluate results with weighted average evaluation\n",
    "print(\"Evaluation:\")\n",
    "print(weighted_avg_evaluation(\n",
    "    results.probabilities, solver.problem.get_score,\n",
    "    penalty=0, limit_results=10, normalize=True\n",
    "))\n",
    "print(\"Sorted results:\")\n",
    "sorted_results = sort_solver_results(\n",
    "    results.probabilities, limit_results=5)\n",
    "\n",
    "# Add evaluation to results\n",
    "results_with_evaluation = add_evaluation_to_results(\n",
    "    sorted_results, solver.problem.get_score)\n",
    "\n",
    "for result, (probability, evaluation) in results_with_evaluation.items():\n",
    "    print(f\"Result: {result}, \"\n",
    "          f\"Prob: {probability:.5}, \"\n",
    "          f\"Evaluation: {evaluation}\")"
   ]
  }
 ],
 "metadata": {
  "kernelspec": {
   "display_name": "venv",
   "language": "python",
   "name": "python3"
  },
  "language_info": {
   "codemirror_mode": {
    "name": "ipython",
    "version": 3
   },
   "file_extension": ".py",
   "mimetype": "text/x-python",
   "name": "python",
   "nbconvert_exporter": "python",
   "pygments_lexer": "ipython3",
   "version": "3.10.12"
  }
 },
 "nbformat": 4,
 "nbformat_minor": 2
}
