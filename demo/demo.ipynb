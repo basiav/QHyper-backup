{
 "cells": [
  {
   "attachments": {},
   "cell_type": "markdown",
   "metadata": {},
   "source": [
    "## QHyper usecase"
   ]
  },
  {
   "attachments": {},
   "cell_type": "markdown",
   "metadata": {},
   "source": [
    "### Create instance of problem"
   ]
  },
  {
   "cell_type": "code",
   "execution_count": 1,
   "metadata": {},
   "outputs": [],
   "source": [
    "from QHyper.problems import KnapsackProblem, TSPProblem\n",
    "\n",
    "PROBLEM_TYPE = 'knapsack' # 'tsp'\n",
    "\n",
    "\n",
    "# Each problem needs different parameters, because it depends on the number\n",
    "# of variables and constraints\n",
    "# Number of hyper_optimizer_bounds depends on the number of constraints,\n",
    "# because each constraint requires one weights, and objective function also\n",
    "# requires one\n",
    "\n",
    "if PROBLEM_TYPE == 'knapsack':\n",
    "    # Create knapsack with 3 items: 2 with weights 1 and\n",
    "    # value 2 - (1, 2), and one with weight 1 and value 1 - (1, 1)\n",
    "    problem = KnapsackProblem(max_weight=2, items=[(1, 2), (1, 2),(1, 1)])\n",
    "\n",
    "    problem_config = {  # This is going to be used later\n",
    "        'type': 'knapsack',\n",
    "        'max_weight': 2,\n",
    "        'items': [(1, 2), (1, 2),(1, 1)]\n",
    "    }\n",
    "\n",
    "    params_config = {\n",
    "        'angles': [[0.5]*5, [1]*5],\n",
    "        'hyper_args': [1, 2.5, 2.5],\n",
    "    }\n",
    "    hyper_optimizer_bounds = 3*[(1, 10)]\n",
    "    penalty = 2\n",
    "\n",
    "elif PROBLEM_TYPE == 'tsp':\n",
    "    # Create Traveling Salesmam Problem with 3 cities\n",
    "    problem = TSPProblem(number_of_cities=3)\n",
    "\n",
    "    problem_config = {  # This is going to be used later\n",
    "        'type': 'tsp',\n",
    "        'number_of_cities': 3,\n",
    "    }\n",
    "\n",
    "    params_config = {\n",
    "        'angles': [[0.5]*5, [1]*5],\n",
    "        'hyper_args': [1, 2, 2, 2, 2],\n",
    "    }\n",
    "    hyper_optimizer_bounds = 5*[(1, 10)]\n",
    "    penalty = -1\n"
   ]
  },
  {
   "cell_type": "code",
   "execution_count": 2,
   "metadata": {},
   "outputs": [
    {
     "name": "stdout",
     "output_type": "stream",
     "text": [
      "Variables used to describe objective functionand constraints: (x0, x1, x2, x3, x4)\n",
      "Objective function: Polynomial(terms=defaultdict(<class 'float'>, {('x0',): -2.0, ('x1',): -2.0, ('x2',): -1.0}))\n",
      "Constraints:\n",
      "    Polynomial(terms=defaultdict(<class 'float'>, {('x3',): -1.0, ('x4',): -1.0, (): 1.0})) == Polynomial(terms=defaultdict(<class 'float'>, {}))\n",
      "    Polynomial(terms=defaultdict(<class 'float'>, {('x0',): -1.0, ('x1',): -1.0, ('x2',): -1.0, ('x3',): 1.0, ('x4',): 2.0})) == Polynomial(terms=defaultdict(<class 'float'>, {}))\n"
     ]
    }
   ],
   "source": [
    "print(f\"Variables used to describe objective function\"\n",
    "      f\"and constraints: {problem.variables}\")\n",
    "print(f\"Objective function: {problem.objective_function}\")\n",
    "print(\"Constraints:\")\n",
    "for constraint in problem.constraints:\n",
    "    print(f\"    {constraint}\")\n"
   ]
  },
  {
   "attachments": {},
   "cell_type": "markdown",
   "metadata": {},
   "source": [
    "### Use VQA to solve knapsack problem"
   ]
  },
  {
   "cell_type": "code",
   "execution_count": 3,
   "metadata": {},
   "outputs": [],
   "source": [
    "# Create a VQA instance with HQAOA as PQC and scipy optimizer\n",
    "# This can be done in two various way\n",
    "# 1. Providing dict with config (usefull to save experiment confing in e.g JSON)\n",
    "from QHyper.solvers import solver_from_config\n",
    "\n",
    "# While we could use problem instace to create solver, the better approach\n",
    "# is to use config, because it is easier to save it in JSON file and load it later\n",
    "\n",
    "solver_config = {\n",
    "    \"solver\": {\n",
    "        \"type\": \"vqa\",\n",
    "        \"optimizer\": {\n",
    "            \"type\": \"scipy\",\n",
    "            \"maxfun\": 200,\n",
    "        },\n",
    "        \"pqc\": {\n",
    "            \"type\": \"wfqaoa\",\n",
    "            \"layers\": 5,\n",
    "            \"limit_results\": 20,\n",
    "            \"penalty\": penalty,\n",
    "            \"backend\": \"default.qubit\",\n",
    "        },\n",
    "        \"params_inits\": params_config\n",
    "    },\n",
    "    \"problem\": problem_config\n",
    "}\n",
    "\n",
    "vqa = solver_from_config(solver_config)\n",
    "\n",
    "# # 2. Providing actual isntance of each class like VQA and Optimizer\n",
    "# NOT RECOMMENDED\n",
    "\n",
    "# from QHyper.solvers.vqa import VQA\n",
    "# from QHyper.solvers.vqa.pqc import HQAOA\n",
    "# from QHyper.optimizers import ScipyOptimizer\n",
    "\n",
    "# vqa = VQA(problem, HQAOA(layers=5, penalty=penalty, backend='default.qubit'),\n",
    "#           ScipyOptimizer(maxfun=200))\n"
   ]
  },
  {
   "cell_type": "code",
   "execution_count": 4,
   "metadata": {},
   "outputs": [
    {
     "ename": "AttributeError",
     "evalue": "'tensor' object has no attribute 'items'",
     "output_type": "error",
     "traceback": [
      "\u001b[0;31m---------------------------------------------------------------------------\u001b[0m",
      "\u001b[0;31mAttributeError\u001b[0m                            Traceback (most recent call last)",
      "Cell \u001b[0;32mIn[4], line 2\u001b[0m\n\u001b[1;32m      1\u001b[0m \u001b[38;5;66;03m# Run VQA with provided initial parameters\u001b[39;00m\n\u001b[0;32m----> 2\u001b[0m solver_results \u001b[38;5;241m=\u001b[39m \u001b[43mvqa\u001b[49m\u001b[38;5;241;43m.\u001b[39;49m\u001b[43msolve\u001b[49m\u001b[43m(\u001b[49m\u001b[43m)\u001b[49m\n\u001b[1;32m      4\u001b[0m \u001b[38;5;28mprint\u001b[39m(\u001b[38;5;124m\"\u001b[39m\u001b[38;5;124mSolver results:\u001b[39m\u001b[38;5;124m\"\u001b[39m)\n\u001b[1;32m      5\u001b[0m \u001b[38;5;28mprint\u001b[39m(\u001b[38;5;124mf\u001b[39m\u001b[38;5;124m\"\u001b[39m\u001b[38;5;124mProbabilities: \u001b[39m\u001b[38;5;132;01m{\u001b[39;00msolver_results\u001b[38;5;241m.\u001b[39mresults_probabilities\u001b[38;5;132;01m}\u001b[39;00m\u001b[38;5;124m\"\u001b[39m)\n",
      "File \u001b[0;32m~/QHyper/demo/QHyper/solvers/vqa/base.py:129\u001b[0m, in \u001b[0;36mVQA.solve\u001b[0;34m(self, params_inits)\u001b[0m\n\u001b[1;32m    126\u001b[0m opt_args \u001b[38;5;241m=\u001b[39m \u001b[38;5;28mself\u001b[39m\u001b[38;5;241m.\u001b[39mpqc\u001b[38;5;241m.\u001b[39mget_opt_args(params_inits, hyper_args\u001b[38;5;241m=\u001b[39mbest_hargs)\n\u001b[1;32m    127\u001b[0m opt_wrapper \u001b[38;5;241m=\u001b[39m LocalOptimizerFunction(\n\u001b[1;32m    128\u001b[0m         \u001b[38;5;28mself\u001b[39m\u001b[38;5;241m.\u001b[39mpqc, \u001b[38;5;28mself\u001b[39m\u001b[38;5;241m.\u001b[39mproblem, best_hargs)\n\u001b[0;32m--> 129\u001b[0m opt_res \u001b[38;5;241m=\u001b[39m \u001b[38;5;28;43mself\u001b[39;49m\u001b[38;5;241;43m.\u001b[39;49m\u001b[43moptimizer\u001b[49m\u001b[38;5;241;43m.\u001b[39;49m\u001b[43mminimize\u001b[49m\u001b[43m(\u001b[49m\u001b[43mopt_wrapper\u001b[49m\u001b[43m,\u001b[49m\u001b[43m \u001b[49m\u001b[43mopt_args\u001b[49m\u001b[43m)\u001b[49m\n\u001b[1;32m    131\u001b[0m \u001b[38;5;28;01mreturn\u001b[39;00m SolverResult(\n\u001b[1;32m    132\u001b[0m     \u001b[38;5;28mself\u001b[39m\u001b[38;5;241m.\u001b[39mpqc\u001b[38;5;241m.\u001b[39mrun_with_probs(\u001b[38;5;28mself\u001b[39m\u001b[38;5;241m.\u001b[39mproblem, opt_res\u001b[38;5;241m.\u001b[39mparams, best_hargs),\n\u001b[1;32m    133\u001b[0m     \u001b[38;5;28mself\u001b[39m\u001b[38;5;241m.\u001b[39mpqc\u001b[38;5;241m.\u001b[39mget_params_init_format(opt_res\u001b[38;5;241m.\u001b[39mparams, best_hargs),\n\u001b[1;32m    134\u001b[0m     opt_res\u001b[38;5;241m.\u001b[39mhistory,\n\u001b[1;32m    135\u001b[0m )\n",
      "File \u001b[0;32m~/QHyper/demo/QHyper/optimizers/scipy_minimizer.py:85\u001b[0m, in \u001b[0;36mScipyOptimizer.minimize\u001b[0;34m(self, func, init)\u001b[0m\n\u001b[1;32m     82\u001b[0m \u001b[38;5;28;01mif\u001b[39;00m \u001b[38;5;124m'\u001b[39m\u001b[38;5;124mmaxfun\u001b[39m\u001b[38;5;124m'\u001b[39m \u001b[38;5;129;01mnot\u001b[39;00m \u001b[38;5;129;01min\u001b[39;00m \u001b[38;5;28mself\u001b[39m\u001b[38;5;241m.\u001b[39moptimizer_kwargs[\u001b[38;5;124m'\u001b[39m\u001b[38;5;124moptions\u001b[39m\u001b[38;5;124m'\u001b[39m]:\n\u001b[1;32m     83\u001b[0m     \u001b[38;5;28mself\u001b[39m\u001b[38;5;241m.\u001b[39moptimizer_kwargs[\u001b[38;5;124m'\u001b[39m\u001b[38;5;124moptions\u001b[39m\u001b[38;5;124m'\u001b[39m][\u001b[38;5;124m'\u001b[39m\u001b[38;5;124mmaxfun\u001b[39m\u001b[38;5;124m'\u001b[39m] \u001b[38;5;241m=\u001b[39m \u001b[38;5;28mself\u001b[39m\u001b[38;5;241m.\u001b[39mmaxfun\n\u001b[0;32m---> 85\u001b[0m result \u001b[38;5;241m=\u001b[39m \u001b[43mscipy\u001b[49m\u001b[38;5;241;43m.\u001b[39;49m\u001b[43moptimize\u001b[49m\u001b[38;5;241;43m.\u001b[39;49m\u001b[43mminimize\u001b[49m\u001b[43m(\u001b[49m\n\u001b[1;32m     86\u001b[0m \u001b[43m    \u001b[49m\u001b[43mwrapper\u001b[49m\u001b[43m,\u001b[49m\n\u001b[1;32m     87\u001b[0m \u001b[43m    \u001b[49m\u001b[43mnp\u001b[49m\u001b[38;5;241;43m.\u001b[39;49m\u001b[43marray\u001b[49m\u001b[43m(\u001b[49m\u001b[43minit\u001b[49m\u001b[43m)\u001b[49m\u001b[38;5;241;43m.\u001b[39;49m\u001b[43mflatten\u001b[49m\u001b[43m(\u001b[49m\u001b[43m)\u001b[49m\u001b[43m,\u001b[49m\n\u001b[1;32m     88\u001b[0m \u001b[43m    \u001b[49m\u001b[43mbounds\u001b[49m\u001b[38;5;241;43m=\u001b[39;49m\u001b[43m(\u001b[49m\n\u001b[1;32m     89\u001b[0m \u001b[43m        \u001b[49m\u001b[38;5;28;43mself\u001b[39;49m\u001b[38;5;241;43m.\u001b[39;49m\u001b[43mbounds\u001b[49m\u001b[43m \u001b[49m\u001b[38;5;28;43;01mif\u001b[39;49;00m\u001b[43m \u001b[49m\u001b[38;5;28;43mself\u001b[39;49m\u001b[38;5;241;43m.\u001b[39;49m\u001b[43mbounds\u001b[49m\u001b[43m \u001b[49m\u001b[38;5;129;43;01mis\u001b[39;49;00m\u001b[43m \u001b[49m\u001b[38;5;129;43;01mnot\u001b[39;49;00m\u001b[43m \u001b[49m\u001b[38;5;28;43;01mNone\u001b[39;49;00m\n\u001b[1;32m     90\u001b[0m \u001b[43m        \u001b[49m\u001b[38;5;28;43;01melse\u001b[39;49;00m\u001b[43m \u001b[49m\u001b[43m[\u001b[49m\u001b[43m(\u001b[49m\u001b[38;5;241;43m0\u001b[39;49m\u001b[43m,\u001b[49m\u001b[43m \u001b[49m\u001b[38;5;241;43m2\u001b[39;49m\u001b[38;5;241;43m*\u001b[39;49m\u001b[43mnp\u001b[49m\u001b[38;5;241;43m.\u001b[39;49m\u001b[43mpi\u001b[49m\u001b[43m)\u001b[49m\u001b[43m]\u001b[49m\u001b[38;5;241;43m*\u001b[39;49m\u001b[38;5;28;43mlen\u001b[39;49m\u001b[43m(\u001b[49m\u001b[43mnp\u001b[49m\u001b[38;5;241;43m.\u001b[39;49m\u001b[43marray\u001b[49m\u001b[43m(\u001b[49m\u001b[43minit\u001b[49m\u001b[43m)\u001b[49m\u001b[38;5;241;43m.\u001b[39;49m\u001b[43mflatten\u001b[49m\u001b[43m(\u001b[49m\u001b[43m)\u001b[49m\u001b[43m)\u001b[49m\n\u001b[1;32m     91\u001b[0m \u001b[43m    \u001b[49m\u001b[43m)\u001b[49m\u001b[43m,\u001b[49m\n\u001b[1;32m     92\u001b[0m \u001b[43m    \u001b[49m\u001b[43mcallback\u001b[49m\u001b[38;5;241;43m=\u001b[39;49m\u001b[43mcallback\u001b[49m\u001b[43m,\u001b[49m\n\u001b[1;32m     93\u001b[0m \u001b[43m    \u001b[49m\u001b[38;5;241;43m*\u001b[39;49m\u001b[38;5;241;43m*\u001b[39;49m\u001b[38;5;28;43mself\u001b[39;49m\u001b[38;5;241;43m.\u001b[39;49m\u001b[43moptimizer_kwargs\u001b[49m\n\u001b[1;32m     94\u001b[0m \u001b[43m\u001b[49m\u001b[43m)\u001b[49m\n\u001b[1;32m     95\u001b[0m \u001b[38;5;28;01mif\u001b[39;00m \u001b[38;5;28mself\u001b[39m\u001b[38;5;241m.\u001b[39mverbose:\n\u001b[1;32m     96\u001b[0m     \u001b[38;5;28mprint\u001b[39m(\u001b[38;5;124mf\u001b[39m\u001b[38;5;124m\"\u001b[39m\u001b[38;5;124mSuccess: \u001b[39m\u001b[38;5;132;01m{\u001b[39;00mresult\u001b[38;5;241m.\u001b[39msuccess\u001b[38;5;132;01m}\u001b[39;00m\u001b[38;5;124m. Message: \u001b[39m\u001b[38;5;132;01m{\u001b[39;00mresult\u001b[38;5;241m.\u001b[39mmessage\u001b[38;5;132;01m}\u001b[39;00m\u001b[38;5;124m\"\u001b[39m)\n",
      "File \u001b[0;32m~/QHyper/venv/lib/python3.10/site-packages/scipy/optimize/_minimize.py:713\u001b[0m, in \u001b[0;36mminimize\u001b[0;34m(fun, x0, args, method, jac, hess, hessp, bounds, constraints, tol, callback, options)\u001b[0m\n\u001b[1;32m    710\u001b[0m     res \u001b[38;5;241m=\u001b[39m _minimize_newtoncg(fun, x0, args, jac, hess, hessp, callback,\n\u001b[1;32m    711\u001b[0m                              \u001b[38;5;241m*\u001b[39m\u001b[38;5;241m*\u001b[39moptions)\n\u001b[1;32m    712\u001b[0m \u001b[38;5;28;01melif\u001b[39;00m meth \u001b[38;5;241m==\u001b[39m \u001b[38;5;124m'\u001b[39m\u001b[38;5;124ml-bfgs-b\u001b[39m\u001b[38;5;124m'\u001b[39m:\n\u001b[0;32m--> 713\u001b[0m     res \u001b[38;5;241m=\u001b[39m \u001b[43m_minimize_lbfgsb\u001b[49m\u001b[43m(\u001b[49m\u001b[43mfun\u001b[49m\u001b[43m,\u001b[49m\u001b[43m \u001b[49m\u001b[43mx0\u001b[49m\u001b[43m,\u001b[49m\u001b[43m \u001b[49m\u001b[43margs\u001b[49m\u001b[43m,\u001b[49m\u001b[43m \u001b[49m\u001b[43mjac\u001b[49m\u001b[43m,\u001b[49m\u001b[43m \u001b[49m\u001b[43mbounds\u001b[49m\u001b[43m,\u001b[49m\n\u001b[1;32m    714\u001b[0m \u001b[43m                           \u001b[49m\u001b[43mcallback\u001b[49m\u001b[38;5;241;43m=\u001b[39;49m\u001b[43mcallback\u001b[49m\u001b[43m,\u001b[49m\u001b[43m \u001b[49m\u001b[38;5;241;43m*\u001b[39;49m\u001b[38;5;241;43m*\u001b[39;49m\u001b[43moptions\u001b[49m\u001b[43m)\u001b[49m\n\u001b[1;32m    715\u001b[0m \u001b[38;5;28;01melif\u001b[39;00m meth \u001b[38;5;241m==\u001b[39m \u001b[38;5;124m'\u001b[39m\u001b[38;5;124mtnc\u001b[39m\u001b[38;5;124m'\u001b[39m:\n\u001b[1;32m    716\u001b[0m     res \u001b[38;5;241m=\u001b[39m _minimize_tnc(fun, x0, args, jac, bounds, callback\u001b[38;5;241m=\u001b[39mcallback,\n\u001b[1;32m    717\u001b[0m                         \u001b[38;5;241m*\u001b[39m\u001b[38;5;241m*\u001b[39moptions)\n",
      "File \u001b[0;32m~/QHyper/venv/lib/python3.10/site-packages/scipy/optimize/_lbfgsb_py.py:309\u001b[0m, in \u001b[0;36m_minimize_lbfgsb\u001b[0;34m(fun, x0, args, jac, bounds, disp, maxcor, ftol, gtol, eps, maxfun, maxiter, iprint, callback, maxls, finite_diff_rel_step, **unknown_options)\u001b[0m\n\u001b[1;32m    306\u001b[0m         iprint \u001b[38;5;241m=\u001b[39m disp\n\u001b[1;32m    308\u001b[0m \u001b[38;5;66;03m# _prepare_scalar_function can use bounds=None to represent no bounds\u001b[39;00m\n\u001b[0;32m--> 309\u001b[0m sf \u001b[38;5;241m=\u001b[39m \u001b[43m_prepare_scalar_function\u001b[49m\u001b[43m(\u001b[49m\u001b[43mfun\u001b[49m\u001b[43m,\u001b[49m\u001b[43m \u001b[49m\u001b[43mx0\u001b[49m\u001b[43m,\u001b[49m\u001b[43m \u001b[49m\u001b[43mjac\u001b[49m\u001b[38;5;241;43m=\u001b[39;49m\u001b[43mjac\u001b[49m\u001b[43m,\u001b[49m\u001b[43m \u001b[49m\u001b[43margs\u001b[49m\u001b[38;5;241;43m=\u001b[39;49m\u001b[43margs\u001b[49m\u001b[43m,\u001b[49m\u001b[43m \u001b[49m\u001b[43mepsilon\u001b[49m\u001b[38;5;241;43m=\u001b[39;49m\u001b[43meps\u001b[49m\u001b[43m,\u001b[49m\n\u001b[1;32m    310\u001b[0m \u001b[43m                              \u001b[49m\u001b[43mbounds\u001b[49m\u001b[38;5;241;43m=\u001b[39;49m\u001b[43mbounds\u001b[49m\u001b[43m,\u001b[49m\n\u001b[1;32m    311\u001b[0m \u001b[43m                              \u001b[49m\u001b[43mfinite_diff_rel_step\u001b[49m\u001b[38;5;241;43m=\u001b[39;49m\u001b[43mfinite_diff_rel_step\u001b[49m\u001b[43m)\u001b[49m\n\u001b[1;32m    313\u001b[0m func_and_grad \u001b[38;5;241m=\u001b[39m sf\u001b[38;5;241m.\u001b[39mfun_and_grad\n\u001b[1;32m    315\u001b[0m fortran_int \u001b[38;5;241m=\u001b[39m _lbfgsb\u001b[38;5;241m.\u001b[39mtypes\u001b[38;5;241m.\u001b[39mintvar\u001b[38;5;241m.\u001b[39mdtype\n",
      "File \u001b[0;32m~/QHyper/venv/lib/python3.10/site-packages/scipy/optimize/_optimize.py:402\u001b[0m, in \u001b[0;36m_prepare_scalar_function\u001b[0;34m(fun, x0, jac, args, bounds, epsilon, finite_diff_rel_step, hess)\u001b[0m\n\u001b[1;32m    398\u001b[0m     bounds \u001b[38;5;241m=\u001b[39m (\u001b[38;5;241m-\u001b[39mnp\u001b[38;5;241m.\u001b[39minf, np\u001b[38;5;241m.\u001b[39minf)\n\u001b[1;32m    400\u001b[0m \u001b[38;5;66;03m# ScalarFunction caches. Reuse of fun(x) during grad\u001b[39;00m\n\u001b[1;32m    401\u001b[0m \u001b[38;5;66;03m# calculation reduces overall function evaluations.\u001b[39;00m\n\u001b[0;32m--> 402\u001b[0m sf \u001b[38;5;241m=\u001b[39m \u001b[43mScalarFunction\u001b[49m\u001b[43m(\u001b[49m\u001b[43mfun\u001b[49m\u001b[43m,\u001b[49m\u001b[43m \u001b[49m\u001b[43mx0\u001b[49m\u001b[43m,\u001b[49m\u001b[43m \u001b[49m\u001b[43margs\u001b[49m\u001b[43m,\u001b[49m\u001b[43m \u001b[49m\u001b[43mgrad\u001b[49m\u001b[43m,\u001b[49m\u001b[43m \u001b[49m\u001b[43mhess\u001b[49m\u001b[43m,\u001b[49m\n\u001b[1;32m    403\u001b[0m \u001b[43m                    \u001b[49m\u001b[43mfinite_diff_rel_step\u001b[49m\u001b[43m,\u001b[49m\u001b[43m \u001b[49m\u001b[43mbounds\u001b[49m\u001b[43m,\u001b[49m\u001b[43m \u001b[49m\u001b[43mepsilon\u001b[49m\u001b[38;5;241;43m=\u001b[39;49m\u001b[43mepsilon\u001b[49m\u001b[43m)\u001b[49m\n\u001b[1;32m    405\u001b[0m \u001b[38;5;28;01mreturn\u001b[39;00m sf\n",
      "File \u001b[0;32m~/QHyper/venv/lib/python3.10/site-packages/scipy/optimize/_differentiable_functions.py:166\u001b[0m, in \u001b[0;36mScalarFunction.__init__\u001b[0;34m(self, fun, x0, args, grad, hess, finite_diff_rel_step, finite_diff_bounds, epsilon)\u001b[0m\n\u001b[1;32m    163\u001b[0m     \u001b[38;5;28mself\u001b[39m\u001b[38;5;241m.\u001b[39mf \u001b[38;5;241m=\u001b[39m fun_wrapped(\u001b[38;5;28mself\u001b[39m\u001b[38;5;241m.\u001b[39mx)\n\u001b[1;32m    165\u001b[0m \u001b[38;5;28mself\u001b[39m\u001b[38;5;241m.\u001b[39m_update_fun_impl \u001b[38;5;241m=\u001b[39m update_fun\n\u001b[0;32m--> 166\u001b[0m \u001b[38;5;28;43mself\u001b[39;49m\u001b[38;5;241;43m.\u001b[39;49m\u001b[43m_update_fun\u001b[49m\u001b[43m(\u001b[49m\u001b[43m)\u001b[49m\n\u001b[1;32m    168\u001b[0m \u001b[38;5;66;03m# Gradient evaluation\u001b[39;00m\n\u001b[1;32m    169\u001b[0m \u001b[38;5;28;01mif\u001b[39;00m \u001b[38;5;28mcallable\u001b[39m(grad):\n",
      "File \u001b[0;32m~/QHyper/venv/lib/python3.10/site-packages/scipy/optimize/_differentiable_functions.py:262\u001b[0m, in \u001b[0;36mScalarFunction._update_fun\u001b[0;34m(self)\u001b[0m\n\u001b[1;32m    260\u001b[0m \u001b[38;5;28;01mdef\u001b[39;00m \u001b[38;5;21m_update_fun\u001b[39m(\u001b[38;5;28mself\u001b[39m):\n\u001b[1;32m    261\u001b[0m     \u001b[38;5;28;01mif\u001b[39;00m \u001b[38;5;129;01mnot\u001b[39;00m \u001b[38;5;28mself\u001b[39m\u001b[38;5;241m.\u001b[39mf_updated:\n\u001b[0;32m--> 262\u001b[0m         \u001b[38;5;28;43mself\u001b[39;49m\u001b[38;5;241;43m.\u001b[39;49m\u001b[43m_update_fun_impl\u001b[49m\u001b[43m(\u001b[49m\u001b[43m)\u001b[49m\n\u001b[1;32m    263\u001b[0m         \u001b[38;5;28mself\u001b[39m\u001b[38;5;241m.\u001b[39mf_updated \u001b[38;5;241m=\u001b[39m \u001b[38;5;28;01mTrue\u001b[39;00m\n",
      "File \u001b[0;32m~/QHyper/venv/lib/python3.10/site-packages/scipy/optimize/_differentiable_functions.py:163\u001b[0m, in \u001b[0;36mScalarFunction.__init__.<locals>.update_fun\u001b[0;34m()\u001b[0m\n\u001b[1;32m    162\u001b[0m \u001b[38;5;28;01mdef\u001b[39;00m \u001b[38;5;21mupdate_fun\u001b[39m():\n\u001b[0;32m--> 163\u001b[0m     \u001b[38;5;28mself\u001b[39m\u001b[38;5;241m.\u001b[39mf \u001b[38;5;241m=\u001b[39m \u001b[43mfun_wrapped\u001b[49m\u001b[43m(\u001b[49m\u001b[38;5;28;43mself\u001b[39;49m\u001b[38;5;241;43m.\u001b[39;49m\u001b[43mx\u001b[49m\u001b[43m)\u001b[49m\n",
      "File \u001b[0;32m~/QHyper/venv/lib/python3.10/site-packages/scipy/optimize/_differentiable_functions.py:145\u001b[0m, in \u001b[0;36mScalarFunction.__init__.<locals>.fun_wrapped\u001b[0;34m(x)\u001b[0m\n\u001b[1;32m    141\u001b[0m \u001b[38;5;28mself\u001b[39m\u001b[38;5;241m.\u001b[39mnfev \u001b[38;5;241m+\u001b[39m\u001b[38;5;241m=\u001b[39m \u001b[38;5;241m1\u001b[39m\n\u001b[1;32m    142\u001b[0m \u001b[38;5;66;03m# Send a copy because the user may overwrite it.\u001b[39;00m\n\u001b[1;32m    143\u001b[0m \u001b[38;5;66;03m# Overwriting results in undefined behaviour because\u001b[39;00m\n\u001b[1;32m    144\u001b[0m \u001b[38;5;66;03m# fun(self.x) will change self.x, with the two no longer linked.\u001b[39;00m\n\u001b[0;32m--> 145\u001b[0m fx \u001b[38;5;241m=\u001b[39m \u001b[43mfun\u001b[49m\u001b[43m(\u001b[49m\u001b[43mnp\u001b[49m\u001b[38;5;241;43m.\u001b[39;49m\u001b[43mcopy\u001b[49m\u001b[43m(\u001b[49m\u001b[43mx\u001b[49m\u001b[43m)\u001b[49m\u001b[43m,\u001b[49m\u001b[43m \u001b[49m\u001b[38;5;241;43m*\u001b[39;49m\u001b[43margs\u001b[49m\u001b[43m)\u001b[49m\n\u001b[1;32m    146\u001b[0m \u001b[38;5;66;03m# Make sure the function returns a true scalar\u001b[39;00m\n\u001b[1;32m    147\u001b[0m \u001b[38;5;28;01mif\u001b[39;00m \u001b[38;5;129;01mnot\u001b[39;00m np\u001b[38;5;241m.\u001b[39misscalar(fx):\n",
      "File \u001b[0;32m~/QHyper/demo/QHyper/optimizers/scipy_minimizer.py:69\u001b[0m, in \u001b[0;36mScipyOptimizer.minimize.<locals>.wrapper\u001b[0;34m(params)\u001b[0m\n\u001b[1;32m     68\u001b[0m \u001b[38;5;28;01mdef\u001b[39;00m \u001b[38;5;21mwrapper\u001b[39m(params: npt\u001b[38;5;241m.\u001b[39mNDArray[np\u001b[38;5;241m.\u001b[39mfloat64]) \u001b[38;5;241m-\u001b[39m\u001b[38;5;241m>\u001b[39m \u001b[38;5;28mfloat\u001b[39m:\n\u001b[0;32m---> 69\u001b[0m     \u001b[38;5;28;01mreturn\u001b[39;00m \u001b[43mfunc\u001b[49m\u001b[43m(\u001b[49m\u001b[43mnp\u001b[49m\u001b[38;5;241;43m.\u001b[39;49m\u001b[43marray\u001b[49m\u001b[43m(\u001b[49m\u001b[43mparams\u001b[49m\u001b[43m)\u001b[49m\u001b[38;5;241;43m.\u001b[39;49m\u001b[43mreshape\u001b[49m\u001b[43m(\u001b[49m\u001b[43mnp\u001b[49m\u001b[38;5;241;43m.\u001b[39;49m\u001b[43marray\u001b[49m\u001b[43m(\u001b[49m\u001b[43minit\u001b[49m\u001b[43m)\u001b[49m\u001b[38;5;241;43m.\u001b[39;49m\u001b[43mshape\u001b[49m\u001b[43m)\u001b[49m\u001b[43m)\u001b[49m\u001b[38;5;241m.\u001b[39mvalue\n",
      "File \u001b[0;32m~/QHyper/demo/QHyper/solvers/vqa/base.py:28\u001b[0m, in \u001b[0;36mLocalOptimizerFunction.__call__\u001b[0;34m(self, args)\u001b[0m\n\u001b[1;32m     27\u001b[0m \u001b[38;5;28;01mdef\u001b[39;00m \u001b[38;5;21m__call__\u001b[39m(\u001b[38;5;28mself\u001b[39m, args: npt\u001b[38;5;241m.\u001b[39mNDArray[np\u001b[38;5;241m.\u001b[39mfloat64]) \u001b[38;5;241m-\u001b[39m\u001b[38;5;241m>\u001b[39m OptimizationResult:\n\u001b[0;32m---> 28\u001b[0m     \u001b[38;5;28;01mreturn\u001b[39;00m \u001b[38;5;28;43mself\u001b[39;49m\u001b[38;5;241;43m.\u001b[39;49m\u001b[43mpqc\u001b[49m\u001b[38;5;241;43m.\u001b[39;49m\u001b[43mrun_opt\u001b[49m\u001b[43m(\u001b[49m\u001b[38;5;28;43mself\u001b[39;49m\u001b[38;5;241;43m.\u001b[39;49m\u001b[43mproblem\u001b[49m\u001b[43m,\u001b[49m\u001b[43m \u001b[49m\u001b[43margs\u001b[49m\u001b[43m,\u001b[49m\u001b[43m \u001b[49m\u001b[38;5;28;43mself\u001b[39;49m\u001b[38;5;241;43m.\u001b[39;49m\u001b[43mhyper_params\u001b[49m\u001b[43m)\u001b[49m\n",
      "File \u001b[0;32m~/QHyper/demo/QHyper/solvers/vqa/pqc/wf_qaoa.py:64\u001b[0m, in \u001b[0;36mWFQAOA.run_opt\u001b[0;34m(self, problem, opt_args, hyper_args, print_probabilities)\u001b[0m\n\u001b[1;32m     55\u001b[0m \u001b[38;5;28;01mdef\u001b[39;00m \u001b[38;5;21mrun_opt\u001b[39m(\n\u001b[1;32m     56\u001b[0m     \u001b[38;5;28mself\u001b[39m,\n\u001b[1;32m     57\u001b[0m     problem: Problem,\n\u001b[0;32m   (...)\u001b[0m\n\u001b[1;32m     60\u001b[0m     print_probabilities: \u001b[38;5;28mbool\u001b[39m \u001b[38;5;241m=\u001b[39m \u001b[38;5;28;01mFalse\u001b[39;00m\n\u001b[1;32m     61\u001b[0m ) \u001b[38;5;241m-\u001b[39m\u001b[38;5;241m>\u001b[39m OptimizationResult:\n\u001b[1;32m     62\u001b[0m     \u001b[38;5;28mself\u001b[39m\u001b[38;5;241m.\u001b[39mdev \u001b[38;5;241m=\u001b[39m qml\u001b[38;5;241m.\u001b[39mdevice(\n\u001b[1;32m     63\u001b[0m         \u001b[38;5;28mself\u001b[39m\u001b[38;5;241m.\u001b[39mbackend, wires\u001b[38;5;241m=\u001b[39m[\u001b[38;5;28mstr\u001b[39m(x) \u001b[38;5;28;01mfor\u001b[39;00m x \u001b[38;5;129;01min\u001b[39;00m problem\u001b[38;5;241m.\u001b[39mvariables])\n\u001b[0;32m---> 64\u001b[0m     probs \u001b[38;5;241m=\u001b[39m \u001b[38;5;28;43mself\u001b[39;49m\u001b[38;5;241;43m.\u001b[39;49m\u001b[43mget_probs_func\u001b[49m\u001b[43m(\u001b[49m\u001b[43mproblem\u001b[49m\u001b[43m,\u001b[49m\u001b[43m \u001b[49m\u001b[38;5;28;43mlist\u001b[39;49m\u001b[43m(\u001b[49m\u001b[43mhyper_args\u001b[49m\u001b[43m)\u001b[49m\u001b[43m)\u001b[49m(\n\u001b[1;32m     65\u001b[0m         opt_args\u001b[38;5;241m.\u001b[39mreshape(\u001b[38;5;241m2\u001b[39m, \u001b[38;5;241m-\u001b[39m\u001b[38;5;241m1\u001b[39m))\n\u001b[1;32m     67\u001b[0m     \u001b[38;5;28;01mif\u001b[39;00m \u001b[38;5;28misinstance\u001b[39m(probs, qml\u001b[38;5;241m.\u001b[39mnumpy\u001b[38;5;241m.\u001b[39mnumpy_boxes\u001b[38;5;241m.\u001b[39mArrayBox):\n\u001b[1;32m     68\u001b[0m         probs \u001b[38;5;241m=\u001b[39m probs\u001b[38;5;241m.\u001b[39m_value\n",
      "File \u001b[0;32m~/QHyper/demo/QHyper/solvers/vqa/pqc/wf_qaoa.py:43\u001b[0m, in \u001b[0;36mWFQAOA.get_probs_func\u001b[0;34m(self, problem, weights)\u001b[0m\n\u001b[1;32m     29\u001b[0m \u001b[38;5;28;01mdef\u001b[39;00m \u001b[38;5;21mget_probs_func\u001b[39m(\u001b[38;5;28mself\u001b[39m, problem: Problem, weights: \u001b[38;5;28mlist\u001b[39m[\u001b[38;5;28mfloat\u001b[39m]\n\u001b[1;32m     30\u001b[0m                    ) \u001b[38;5;241m-\u001b[39m\u001b[38;5;241m>\u001b[39m Callable[[npt\u001b[38;5;241m.\u001b[39mNDArray[np\u001b[38;5;241m.\u001b[39mfloat64]], \u001b[38;5;28mlist\u001b[39m[\u001b[38;5;28mfloat\u001b[39m]]:\n\u001b[1;32m     31\u001b[0m \u001b[38;5;250m    \u001b[39m\u001b[38;5;124;03m\"\"\"Returns function that takes angles and returns probabilities\u001b[39;00m\n\u001b[1;32m     32\u001b[0m \n\u001b[1;32m     33\u001b[0m \u001b[38;5;124;03m    Parameters\u001b[39;00m\n\u001b[0;32m   (...)\u001b[0m\n\u001b[1;32m     41\u001b[0m \u001b[38;5;124;03m        Returns function that takes angles and returns probabilities\u001b[39;00m\n\u001b[1;32m     42\u001b[0m \u001b[38;5;124;03m    \"\"\"\u001b[39;00m\n\u001b[0;32m---> 43\u001b[0m     cost_operator \u001b[38;5;241m=\u001b[39m \u001b[38;5;28;43mself\u001b[39;49m\u001b[38;5;241;43m.\u001b[39;49m\u001b[43mcreate_qubo\u001b[49m\u001b[43m(\u001b[49m\u001b[43mproblem\u001b[49m\u001b[43m,\u001b[49m\u001b[43m \u001b[49m\u001b[43mweights\u001b[49m\u001b[43m)\u001b[49m\n\u001b[1;32m     45\u001b[0m     \u001b[38;5;129m@qml\u001b[39m\u001b[38;5;241m.\u001b[39mqnode(\u001b[38;5;28mself\u001b[39m\u001b[38;5;241m.\u001b[39mdev)\n\u001b[1;32m     46\u001b[0m     \u001b[38;5;28;01mdef\u001b[39;00m \u001b[38;5;21mprobability_circuit\u001b[39m(params: npt\u001b[38;5;241m.\u001b[39mNDArray[np\u001b[38;5;241m.\u001b[39mfloat64]\n\u001b[1;32m     47\u001b[0m                             ) \u001b[38;5;241m-\u001b[39m\u001b[38;5;241m>\u001b[39m \u001b[38;5;28mlist\u001b[39m[\u001b[38;5;28mfloat\u001b[39m]:\n\u001b[1;32m     48\u001b[0m         \u001b[38;5;28mself\u001b[39m\u001b[38;5;241m.\u001b[39m_circuit(problem, params, cost_operator)\n",
      "File \u001b[0;32m~/QHyper/demo/QHyper/solvers/vqa/pqc/qaoa.py:34\u001b[0m, in \u001b[0;36mQAOA.create_qubo\u001b[0;34m(self, problem, weights)\u001b[0m\n\u001b[1;32m     32\u001b[0m \u001b[38;5;28;01mif\u001b[39;00m \u001b[38;5;28mtuple\u001b[39m(weights) \u001b[38;5;129;01mnot\u001b[39;00m \u001b[38;5;129;01min\u001b[39;00m \u001b[38;5;28mself\u001b[39m\u001b[38;5;241m.\u001b[39mqubo_cache:\n\u001b[1;32m     33\u001b[0m     qubo \u001b[38;5;241m=\u001b[39m Converter\u001b[38;5;241m.\u001b[39mcreate_qubo(problem, weights)\n\u001b[0;32m---> 34\u001b[0m     \u001b[38;5;28mself\u001b[39m\u001b[38;5;241m.\u001b[39mqubo_cache[\u001b[38;5;28mtuple\u001b[39m(weights)] \u001b[38;5;241m=\u001b[39m \u001b[38;5;28;43mself\u001b[39;49m\u001b[38;5;241;43m.\u001b[39;49m\u001b[43m_create_cost_operator\u001b[49m\u001b[43m(\u001b[49m\u001b[43mqubo\u001b[49m\u001b[43m)\u001b[49m\n\u001b[1;32m     35\u001b[0m \u001b[38;5;28;01mreturn\u001b[39;00m \u001b[38;5;28mself\u001b[39m\u001b[38;5;241m.\u001b[39mqubo_cache[\u001b[38;5;28mtuple\u001b[39m(weights)]\n",
      "File \u001b[0;32m~/QHyper/demo/QHyper/solvers/vqa/pqc/qaoa.py:41\u001b[0m, in \u001b[0;36mQAOA._create_cost_operator\u001b[0;34m(self, qubo)\u001b[0m\n\u001b[1;32m     38\u001b[0m result \u001b[38;5;241m=\u001b[39m \u001b[38;5;28;01mNone\u001b[39;00m\n\u001b[1;32m     39\u001b[0m const \u001b[38;5;241m=\u001b[39m \u001b[38;5;241m0\u001b[39m\n\u001b[0;32m---> 41\u001b[0m \u001b[38;5;28;01mfor\u001b[39;00m variables, coeff \u001b[38;5;129;01min\u001b[39;00m \u001b[43mqubo\u001b[49m\u001b[38;5;241;43m.\u001b[39;49m\u001b[43mitems\u001b[49m():\n\u001b[1;32m     42\u001b[0m     \u001b[38;5;28;01mif\u001b[39;00m \u001b[38;5;129;01mnot\u001b[39;00m variables:\n\u001b[1;32m     43\u001b[0m         const \u001b[38;5;241m+\u001b[39m\u001b[38;5;241m=\u001b[39m coeff\n",
      "\u001b[0;31mAttributeError\u001b[0m: 'tensor' object has no attribute 'items'"
     ]
    }
   ],
   "source": [
    "# Run VQA with provided initial parameters\n",
    "solver_results = vqa.solve()\n",
    "\n",
    "print(\"Solver results:\")\n",
    "print(f\"Probabilities: {solver_results.results_probabilities}\")\n",
    "print(f\"Best params: {solver_results.params}\")\n"
   ]
  },
  {
   "cell_type": "code",
   "execution_count": null,
   "metadata": {},
   "outputs": [
    {
     "name": "stdout",
     "output_type": "stream",
     "text": [
      "Evaluation:\n",
      "-1.675280267157278\n",
      "Sort results:\n",
      "Result: 11101, Prob: 0.07454, Evaluation: 2\n",
      "Result: 01101, Prob: 0.070341, Evaluation: -3\n",
      "Result: 10101, Prob: 0.070341, Evaluation: -3\n",
      "Result: 11001, Prob: 0.066772, Evaluation: -4\n",
      "Result: 11010, Prob: 0.048268, Evaluation: 2\n",
      "Result: 00110, Prob: 0.046071, Evaluation: -1\n",
      "Result: 00101, Prob: 0.040596, Evaluation: 2\n",
      "Result: 01010, Prob: 0.038698, Evaluation: -2\n",
      "Result: 10010, Prob: 0.038698, Evaluation: -2\n",
      "Result: 10011, Prob: 0.036928, Evaluation: 2\n"
     ]
    }
   ],
   "source": [
    "from QHyper.util import (\n",
    "    weighted_avg_evaluation, sort_solver_results, add_evaluation_to_results)\n",
    "\n",
    "# Evaluate results with weighted average evaluation\n",
    "print(\"Evaluation:\")\n",
    "print(weighted_avg_evaluation(\n",
    "    solver_results.results_probabilities, problem.get_score,\n",
    "    penalty=0, limit_results=10, normalize=True\n",
    "))\n",
    "print(\"Sort results:\")\n",
    "sorted_results = sort_solver_results(\n",
    "    solver_results.results_probabilities, limit_results=10)\n",
    "\n",
    "# Add evaluation to results\n",
    "results_with_evaluation = add_evaluation_to_results(\n",
    "    sorted_results, problem.get_score, penalty=penalty)\n",
    "\n",
    "for result, (probability, evaluation) in results_with_evaluation.items():\n",
    "    print(f\"Result: {result}, \"\n",
    "          f\"Prob: {probability:.5}, \"\n",
    "          f\"Evaluation: {evaluation}\")\n"
   ]
  },
  {
   "attachments": {},
   "cell_type": "markdown",
   "metadata": {},
   "source": [
    "#### Using hyper optimizers"
   ]
  },
  {
   "cell_type": "code",
   "execution_count": null,
   "metadata": {},
   "outputs": [],
   "source": [
    "# Additionally other optimizer can be used to tune some parameters, in below\n",
    "# example, Random optimzier will change weights (hyper_args) and choose ones\n",
    "# that gives the best results after runnign 200 iteration of scipy minimizer\n",
    "\n",
    "solver_config = {\n",
    "    \"solver\": {\n",
    "        \"type\": \"vqa\",\n",
    "        \"optimizer\": {\n",
    "            \"type\": \"scipy\",\n",
    "            \"maxfun\": 200,\n",
    "        },\n",
    "        \"pqc\": {\n",
    "            \"type\": \"wfqaoa\",\n",
    "            \"layers\": 5,\n",
    "            \"limit_results\": 20,\n",
    "            \"penalty\": penalty,\n",
    "        },\n",
    "        \"params_inits\": params_config,\n",
    "        \"hyper_optimizer\": {\n",
    "            \"type\": \"random\",\n",
    "            \"processes\": 5,\n",
    "            \"number_of_samples\": 100,\n",
    "            \"bounds\": hyper_optimizer_bounds,\n",
    "        }\n",
    "    },\n",
    "    \"problem\": problem_config\n",
    "}\n",
    "vqa = solver_from_config(solver_config)\n"
   ]
  },
  {
   "cell_type": "code",
   "execution_count": null,
   "metadata": {},
   "outputs": [
    {
     "name": "stdout",
     "output_type": "stream",
     "text": [
      "{'angles': [[0.5, 0.5, 0.5, 0.5, 0.5], [1, 1, 1, 1, 1]], 'hyper_args': [1, 2.5, 2.5]}\n"
     ]
    },
    {
     "name": "stderr",
     "output_type": "stream",
     "text": [
      "100%|██████████| 100/100 [02:23<00:00,  1.44s/it]\n"
     ]
    },
    {
     "name": "stdout",
     "output_type": "stream",
     "text": [
      "Solver results:\n",
      "Probabilities: {'00000': 0.030243821901753693, '00001': 0.05351321410987908, '00010': 0.02394599771619717, '00011': 0.028966852103382276, '00100': 0.023983437518947333, '00101': 0.011982768728699765, '00110': 0.050188054411493696, '00111': 0.00981095350279921, '01000': 0.008080309672715637, '01001': 0.0031252226877130584, '01010': 0.0052025284895525865, '01011': 0.008355255310373825, '01100': 0.009191255796983188, '01101': 0.18183158517032383, '01110': 0.008372051927368987, '01111': 0.008006135446706137, '10000': 0.008080309672715662, '10001': 0.0031252226877130597, '10010': 0.005202528489552583, '10011': 0.008355255310373845, '10100': 0.00919125579698322, '10101': 0.18183158517032388, '10110': 0.008372051927368986, '10111': 0.008006135446706135, '11000': 0.012850789832666397, '11001': 0.2080008475543236, '11010': 0.008567833389710549, '11011': 0.02018794745020287, '11100': 0.008510368946718203, '11101': 0.01750844960096943, '11110': 0.026359289919377422, '11111': 0.0010506843093943683}\n",
      "Best params: {'angles': array([[0.36925956, 0.33093965, 0.42729976, 0.97927297, 0.49393053],\n",
      "       [0.98977767, 0.94512176, 1.13628052, 0.97821831, 0.78475177]]), 'hyper_args': array([1.13126982, 3.71756521, 1.89923534])}\n"
     ]
    }
   ],
   "source": [
    "solver_results = vqa.solve()\n",
    "\n",
    "print(\"Solver results:\")\n",
    "print(f\"Probabilities: {solver_results.results_probabilities}\")\n",
    "print(f\"Best params: {solver_results.params}\")\n"
   ]
  },
  {
   "cell_type": "code",
   "execution_count": null,
   "metadata": {},
   "outputs": [
    {
     "name": "stdout",
     "output_type": "stream",
     "text": [
      "Evaluation:\n",
      "-2.4394450528466396\n",
      "Sort results:\n",
      "Result: 11001, Prob: 0.208, Evaluation: -4\n",
      "Result: 10101, Prob: 0.18183, Evaluation: -3\n",
      "Result: 01101, Prob: 0.18183, Evaluation: -3\n",
      "Result: 00001, Prob: 0.053513, Evaluation: 2\n",
      "Result: 00110, Prob: 0.050188, Evaluation: -1\n",
      "Result: 00000, Prob: 0.030244, Evaluation: 0\n",
      "Result: 00011, Prob: 0.028967, Evaluation: 2\n",
      "Result: 11110, Prob: 0.026359, Evaluation: 2\n",
      "Result: 00100, Prob: 0.023983, Evaluation: 2\n",
      "Result: 00010, Prob: 0.023946, Evaluation: 2\n"
     ]
    }
   ],
   "source": [
    "print(\"Evaluation:\")\n",
    "print(weighted_avg_evaluation(\n",
    "    solver_results.results_probabilities, problem.get_score,\n",
    "    penalty=0, limit_results=10, normalize=True\n",
    "))\n",
    "print(\"Sort results:\")\n",
    "sorted_results = sort_solver_results(\n",
    "    solver_results.results_probabilities, limit_results=10)\n",
    "\n",
    "results_with_evaluation = add_evaluation_to_results(\n",
    "    sorted_results, problem.get_score, penalty=penalty)\n",
    "\n",
    "for result, (probability, evaluation) in results_with_evaluation.items():\n",
    "    print(f\"Result: {result}, \"\n",
    "          f\"Prob: {probability:.5}, \"\n",
    "          f\"Evaluation: {evaluation}\")\n"
   ]
  },
  {
   "cell_type": "code",
   "execution_count": null,
   "metadata": {},
   "outputs": [],
   "source": []
  }
 ],
 "metadata": {
  "kernelspec": {
   "display_name": "Python 3.10.6 ('venv': venv)",
   "language": "python",
   "name": "python3"
  },
  "language_info": {
   "codemirror_mode": {
    "name": "ipython",
    "version": 3
   },
   "file_extension": ".py",
   "mimetype": "text/x-python",
   "name": "python",
   "nbconvert_exporter": "python",
   "pygments_lexer": "ipython3",
   "version": "3.10.12"
  },
  "orig_nbformat": 4,
  "vscode": {
   "interpreter": {
    "hash": "59ddf9d140262b8237ab82f293175fe16bdb83dcbb2d03089c8be0234363df8c"
   }
  }
 },
 "nbformat": 4,
 "nbformat_minor": 2
}
