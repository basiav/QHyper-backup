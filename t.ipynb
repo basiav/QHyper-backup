{
 "cells": [
  {
   "cell_type": "code",
   "execution_count": 29,
   "id": "2ec3873e",
   "metadata": {},
   "outputs": [],
   "source": [
    "from QHyper.problems.knapsack import KnapsackProblem\n",
    "from QHyper.solvers.classical.gurobi import Gurobi\n",
    "from QHyper.solvers.quantum_annealing.dwave.advantage import Advantage\n",
    "\n",
    "\n",
    "problem = KnapsackProblem(\n",
    "    max_weight=0,\n",
    "    item_weights=[0, 0, 0],\n",
    "    item_values=[0, 0, 0]\n",
    ")\n",
    "# problem = KnapsackProblem(\n",
    "#     max_weight=2,\n",
    "#     item_weights=[0, 1, 3],\n",
    "#     item_values=[1, 1, 2]\n",
    "# )"
   ]
  },
  {
   "cell_type": "code",
   "execution_count": 30,
   "id": "325f781c",
   "metadata": {},
   "outputs": [
    {
     "data": {
      "text/plain": [
       "[Item(weight=0, value=0), Item(weight=0, value=0), Item(weight=0, value=0)]"
      ]
     },
     "execution_count": 30,
     "metadata": {},
     "output_type": "execute_result"
    }
   ],
   "source": [
    "problem.knapsack.items"
   ]
  },
  {
   "cell_type": "code",
   "execution_count": 31,
   "id": "ef7c0eda",
   "metadata": {},
   "outputs": [
    {
     "data": {
      "text/plain": [
       "Polynomial(terms=defaultdict(<class 'float'>, {(): 0.0, ('x0',): 0.0, ('x1',): 0.0, ('x2',): 0.0}))"
      ]
     },
     "execution_count": 31,
     "metadata": {},
     "output_type": "execute_result"
    }
   ],
   "source": [
    "problem.objective_function"
   ]
  },
  {
   "cell_type": "code",
   "execution_count": 39,
   "id": "6489e2f7",
   "metadata": {},
   "outputs": [],
   "source": [
    "adv = Advantage(problem, num_reads=100)"
   ]
  },
  {
   "cell_type": "code",
   "execution_count": 40,
   "id": "6c117fd9",
   "metadata": {},
   "outputs": [],
   "source": [
    "res_adv = adv.solve()"
   ]
  },
  {
   "cell_type": "code",
   "execution_count": 41,
   "id": "595cc4a8",
   "metadata": {},
   "outputs": [
    {
     "data": {
      "text/plain": [
       "SolverResult(probabilities=rec.array([(0, 1, 0, 0.1 , 1.), (1, 0, 1, 0.17, 1.), (0, 0, 1, 0.1 , 1.),\n",
       "           (1, 1, 1, 0.13, 1.), (0, 0, 0, 0.17, 1.), (0, 1, 1, 0.09, 1.),\n",
       "           (1, 1, 0, 0.12, 1.), (1, 0, 0, 0.12, 1.)],\n",
       "          dtype=[('x0', '<i4'), ('x1', '<i4'), ('x2', '<i4'), ('probability', '<f8'), ('energy', '<f8')]), params={'penalty_weights': [1.0, 1.0, 1.0]}, history=[])"
      ]
     },
     "execution_count": 41,
     "metadata": {},
     "output_type": "execute_result"
    }
   ],
   "source": [
    "res_adv"
   ]
  },
  {
   "cell_type": "code",
   "execution_count": 42,
   "id": "bbe10169",
   "metadata": {},
   "outputs": [
    {
     "data": {
      "text/plain": [
       "0"
      ]
     },
     "execution_count": 42,
     "metadata": {},
     "output_type": "execute_result"
    }
   ],
   "source": [
    "sample = res_adv\n",
    "\n",
    "variables = sorted(\n",
    "    [col for col in sample.probabilities.dtype.names if col.startswith(\"x\")],\n",
    "    key=lambda x: int(x[1:]),\n",
    ")\n",
    "community = sample.probabilities[variables][0]\n",
    "\n",
    "result = dict(zip(variables, community))\n",
    "problem.get_score(result)"
   ]
  },
  {
   "cell_type": "code",
   "execution_count": 43,
   "id": "5a9801c4",
   "metadata": {},
   "outputs": [
    {
     "data": {
      "text/plain": [
       "{'x0': 0, 'x1': 1, 'x2': 0}"
      ]
     },
     "execution_count": 43,
     "metadata": {},
     "output_type": "execute_result"
    }
   ],
   "source": [
    "result"
   ]
  },
  {
   "cell_type": "code",
   "execution_count": 44,
   "id": "edfa512c",
   "metadata": {},
   "outputs": [
    {
     "data": {
      "text/plain": [
       "{'x0': 0, 'x1': 1, 'x2': 0}"
      ]
     },
     "execution_count": 44,
     "metadata": {},
     "output_type": "execute_result"
    }
   ],
   "source": [
    "result"
   ]
  },
  {
   "cell_type": "code",
   "execution_count": null,
   "id": "07c6d7cd",
   "metadata": {},
   "outputs": [
    {
     "data": {
      "text/plain": [
       "{'x0': 1, 'x1': 1, 'x2': 1}"
      ]
     },
     "execution_count": 10,
     "metadata": {},
     "output_type": "execute_result"
    }
   ],
   "source": [
    "result"
   ]
  },
  {
   "cell_type": "code",
   "execution_count": null,
   "id": "d8a26bd4",
   "metadata": {},
   "outputs": [
    {
     "data": {
      "text/plain": [
       "SolverResult(probabilities=rec.array([(1, 1, 1, 0.09, 1.), (0, 0, 0, 0.16, 1.), (1, 0, 0, 0.13, 1.),\n",
       "           (1, 0, 1, 0.06, 1.), (0, 1, 1, 0.15, 1.), (0, 1, 0, 0.12, 1.),\n",
       "           (1, 1, 0, 0.15, 1.), (0, 0, 1, 0.14, 1.)],\n",
       "          dtype=[('x0', '<i4'), ('x1', '<i4'), ('x2', '<i4'), ('probability', '<f8'), ('energy', '<f8')]), params={'penalty_weights': [1.0, 1.0, 1.0]}, history=[])"
      ]
     },
     "execution_count": 11,
     "metadata": {},
     "output_type": "execute_result"
    }
   ],
   "source": [
    "res_adv"
   ]
  },
  {
   "cell_type": "code",
   "execution_count": null,
   "id": "812eda74",
   "metadata": {},
   "outputs": [
    {
     "data": {
      "text/plain": [
       "(x0, x1, x2)"
      ]
     },
     "execution_count": 12,
     "metadata": {},
     "output_type": "execute_result"
    }
   ],
   "source": [
    "problem.variables"
   ]
  },
  {
   "cell_type": "code",
   "execution_count": null,
   "id": "9bb39cee",
   "metadata": {},
   "outputs": [
    {
     "data": {
      "text/plain": [
       "{x0, x1, x2}"
      ]
     },
     "execution_count": 13,
     "metadata": {},
     "output_type": "execute_result"
    }
   ],
   "source": [
    "set(problem.variables)"
   ]
  },
  {
   "cell_type": "code",
   "execution_count": null,
   "id": "0273389b",
   "metadata": {},
   "outputs": [
    {
     "data": {
      "text/plain": [
       "Polynomial(terms=defaultdict(<class 'float'>, {(): 0.0, ('x0',): 0.0, ('x1',): 0.0, ('x2',): 0.0}))"
      ]
     },
     "execution_count": 14,
     "metadata": {},
     "output_type": "execute_result"
    }
   ],
   "source": [
    "problem.objective_function"
   ]
  },
  {
   "cell_type": "code",
   "execution_count": null,
   "id": "63aefc23",
   "metadata": {},
   "outputs": [
    {
     "data": {
      "text/plain": [
       "[Polynomial(terms=defaultdict(<class 'float'>, {(): 1.0})) == Polynomial(terms=defaultdict(<class 'float'>, {(): 0.0})),\n",
       " Polynomial(terms=defaultdict(<class 'float'>, {(): 0.0, ('x0',): 0.0, ('x1',): 0.0, ('x2',): 0.0})) == Polynomial(terms=defaultdict(<class 'float'>, {(): 0.0}))]"
      ]
     },
     "execution_count": 15,
     "metadata": {},
     "output_type": "execute_result"
    }
   ],
   "source": [
    "problem.constraints"
   ]
  },
  {
   "cell_type": "code",
   "execution_count": 45,
   "id": "8362be3e",
   "metadata": {},
   "outputs": [],
   "source": [
    "gurobi = Gurobi(problem)"
   ]
  },
  {
   "cell_type": "code",
   "execution_count": 3,
   "id": "94f4cb2b",
   "metadata": {},
   "outputs": [
    {
     "data": {
      "text/plain": [
       "{x0, 'x0', x1, 'x1', x2, 'x2'}"
      ]
     },
     "execution_count": 3,
     "metadata": {},
     "output_type": "execute_result"
    }
   ],
   "source": [
    "all_vars = set(problem.variables)\n",
    "for con in problem.constraints:\n",
    "    all_vars |= con.get_variables()\n",
    "all_vars"
   ]
  },
  {
   "cell_type": "code",
   "execution_count": 4,
   "id": "2e04c4d4",
   "metadata": {},
   "outputs": [
    {
     "data": {
      "text/plain": [
       "Polynomial(terms=defaultdict(<class 'float'>, {(): 0.0, ('x0',): 0.0, ('x1',): 0.0, ('x2',): 0.0}))"
      ]
     },
     "execution_count": 4,
     "metadata": {},
     "output_type": "execute_result"
    }
   ],
   "source": [
    "problem.objective_function"
   ]
  },
  {
   "cell_type": "code",
   "execution_count": 4,
   "id": "c00e36dd",
   "metadata": {},
   "outputs": [],
   "source": [
    "from QHyper.problems.community_detection import CommunityDetectionProblem, Network\n",
    "import pickle as pkl\n",
    "\n",
    "\n",
    "with open(\"graph_n=10_m=0.4.pickle\", \"rb\") as f:\n",
    "    G = pkl.load(f)"
   ]
  },
  {
   "cell_type": "code",
   "execution_count": 5,
   "id": "7b6ce96b",
   "metadata": {},
   "outputs": [
    {
     "name": "stdout",
     "output_type": "stream",
     "text": [
      "{('x5', 'x5'): -0.0, ('x5', 'x9'): -0.0, ('x9', 'x5'): -0.0, ('x9', 'x9'): -0.0}\n",
      "Polynomial(terms=defaultdict(<class 'float'>, {('x5', 'x5'): 0.0, ('x5', 'x9'): 0.0, ('x9', 'x9'): 0.0}))\n"
     ]
    }
   ],
   "source": [
    "problem = CommunityDetectionProblem(Network(G, resolution=2, community=[5,9]), one_hot_encoding=False)"
   ]
  },
  {
   "cell_type": "code",
   "execution_count": 6,
   "id": "46fe55d7",
   "metadata": {},
   "outputs": [
    {
     "data": {
      "text/plain": [
       "Polynomial(terms=defaultdict(<class 'float'>, {('x5', 'x5'): 0.0, ('x5', 'x9'): 0.0, ('x9', 'x9'): 0.0}))"
      ]
     },
     "execution_count": 6,
     "metadata": {},
     "output_type": "execute_result"
    }
   ],
   "source": [
    "problem.objective_function"
   ]
  },
  {
   "cell_type": "code",
   "execution_count": 7,
   "id": "e6f15c72",
   "metadata": {},
   "outputs": [
    {
     "data": {
      "text/plain": [
       "(x5, x9)"
      ]
     },
     "execution_count": 7,
     "metadata": {},
     "output_type": "execute_result"
    }
   ],
   "source": [
    "problem.variables"
   ]
  },
  {
   "cell_type": "code",
   "execution_count": 8,
   "id": "f9657e44",
   "metadata": {},
   "outputs": [
    {
     "data": {
      "text/plain": [
       "[]"
      ]
     },
     "execution_count": 8,
     "metadata": {},
     "output_type": "execute_result"
    }
   ],
   "source": [
    "problem.constraints"
   ]
  },
  {
   "cell_type": "code",
   "execution_count": 46,
   "id": "4f7da201",
   "metadata": {},
   "outputs": [],
   "source": [
    "gurobi = Gurobi(problem)"
   ]
  },
  {
   "cell_type": "code",
   "execution_count": 47,
   "id": "3b668176",
   "metadata": {},
   "outputs": [
    {
     "name": "stdout",
     "output_type": "stream",
     "text": [
      "Gurobi.all_vars: {'x2', x0, x1, 'x0', x2, 'x1'}\n",
      "Gurobi.vars: {'x2': <gurobi.Var *Awaiting Model Update*>, 'x0': <gurobi.Var *Awaiting Model Update*>, 'x1': <gurobi.Var *Awaiting Model Update*>}\n",
      "Gurobi.polynomial_to_gurobi: 0.0 <gurobi.Var *Awaiting Model Update*> + 0.0 <gurobi.Var *Awaiting Model Update*> + 0.0 <gurobi.Var *Awaiting Model Update*>\n",
      "Status code: 3\n",
      "Status name: INFEASIBLE\n",
      "status: 3\n",
      "Gurobi.allvars: [<gurobi.Var x2>, <gurobi.Var x0>, <gurobi.Var x1>, <gurobi.Var x0>, <gurobi.Var x2>, <gurobi.Var x1>]\n"
     ]
    },
    {
     "ename": "GurobiError",
     "evalue": "Unable to retrieve attribute 'X'",
     "output_type": "error",
     "traceback": [
      "\u001b[1;31m---------------------------------------------------------------------------\u001b[0m",
      "\u001b[1;31mGurobiError\u001b[0m                               Traceback (most recent call last)",
      "Cell \u001b[1;32mIn[47], line 1\u001b[0m\n\u001b[1;32m----> 1\u001b[0m res \u001b[38;5;241m=\u001b[39m \u001b[43mgurobi\u001b[49m\u001b[38;5;241;43m.\u001b[39;49m\u001b[43msolve\u001b[49m\u001b[43m(\u001b[49m\u001b[43m)\u001b[49m\n",
      "File \u001b[1;32m~\\Desktop\\Praca_Inzynierska_2024\\QHyper\\QHyper\\solvers\\classical\\gurobi\\gurobi.py:123\u001b[0m, in \u001b[0;36mGurobi.solve\u001b[1;34m(self)\u001b[0m\n\u001b[0;32m    120\u001b[0m allvars \u001b[38;5;241m=\u001b[39m gpm\u001b[38;5;241m.\u001b[39mgetVars()\n\u001b[0;32m    121\u001b[0m \u001b[38;5;28mprint\u001b[39m(\u001b[38;5;124mf\u001b[39m\u001b[38;5;124m\"\u001b[39m\u001b[38;5;124mGurobi.allvars: \u001b[39m\u001b[38;5;132;01m{\u001b[39;00mallvars\u001b[38;5;132;01m}\u001b[39;00m\u001b[38;5;124m\"\u001b[39m)\n\u001b[1;32m--> 123\u001b[0m solution \u001b[38;5;241m=\u001b[39m \u001b[43mgpm\u001b[49m\u001b[38;5;241;43m.\u001b[39;49m\u001b[43mgetAttr\u001b[49m\u001b[43m(\u001b[49m\u001b[38;5;124;43m'\u001b[39;49m\u001b[38;5;124;43mX\u001b[39;49m\u001b[38;5;124;43m'\u001b[39;49m\u001b[43m,\u001b[49m\u001b[43m \u001b[49m\u001b[38;5;28;43mvars\u001b[39;49m\u001b[43m)\u001b[49m\n\u001b[0;32m    124\u001b[0m \u001b[38;5;28mprint\u001b[39m(\u001b[38;5;124mf\u001b[39m\u001b[38;5;124m\"\u001b[39m\u001b[38;5;124mGurobi.solution: \u001b[39m\u001b[38;5;132;01m{\u001b[39;00msolution\u001b[38;5;132;01m}\u001b[39;00m\u001b[38;5;124m\"\u001b[39m)\n\u001b[0;32m    125\u001b[0m solution \u001b[38;5;241m=\u001b[39m {}\n",
      "File \u001b[1;32msrc\\\\gurobipy\\\\model.pxi:1912\u001b[0m, in \u001b[0;36mgurobipy.Model.getAttr\u001b[1;34m()\u001b[0m\n",
      "File \u001b[1;32msrc\\\\gurobipy\\\\attrutil.pxi:151\u001b[0m, in \u001b[0;36mgurobipy._gettypedattrlist\u001b[1;34m()\u001b[0m\n",
      "\u001b[1;31mGurobiError\u001b[0m: Unable to retrieve attribute 'X'"
     ]
    }
   ],
   "source": [
    "res = gurobi.solve()"
   ]
  },
  {
   "cell_type": "code",
   "execution_count": 40,
   "id": "7db3f7d7",
   "metadata": {},
   "outputs": [
    {
     "data": {
      "text/plain": [
       "SolverResult(probabilities=rec.array([(1, 0, 0, 1, 1, 1.)],\n",
       "          dtype=[('x0', '<i4'), ('x2', '<i4'), ('x4', '<i4'), ('x1', '<i4'), ('x3', '<i4'), ('probability', '<f8')]), params={}, history=[])"
      ]
     },
     "execution_count": 40,
     "metadata": {},
     "output_type": "execute_result"
    }
   ],
   "source": [
    "res"
   ]
  },
  {
   "cell_type": "code",
   "execution_count": 48,
   "id": "ace993db",
   "metadata": {},
   "outputs": [],
   "source": [
    "from QHyper.solvers.quantum_annealing.dwave.dqm import DQM\n",
    "\n",
    "\n",
    "dqm = DQM(problem, time=5)"
   ]
  },
  {
   "cell_type": "code",
   "execution_count": null,
   "id": "7cca5532",
   "metadata": {},
   "outputs": [
    {
     "name": "stdout",
     "output_type": "stream",
     "text": [
      "not vars\n",
      "('x0',) 0.0\n",
      "x0 []\n",
      "<class 'tuple'>\n",
      "('x1',) 0.0\n",
      "x1 []\n",
      "<class 'tuple'>\n",
      "('x2',) 0.0\n",
      "x2 []\n",
      "<class 'tuple'>\n"
     ]
    }
   ],
   "source": [
    "for i, (vars, bias) in enumerate(problem.objective_function.terms.items()):\n",
    "        constant = if not vars\n",
    "        if \n",
    "            print(\"not vars\")\n",
    "            continue\n",
    "        s_i, *s_j = vars\n",
    "        print(vars, bias)\n",
    "        print(s_i, s_j)\n",
    "        print(type(vars))"
   ]
  },
  {
   "cell_type": "code",
   "execution_count": 65,
   "id": "1c5ae5bd",
   "metadata": {},
   "outputs": [
    {
     "data": {
      "text/plain": [
       "Polynomial(terms=defaultdict(<class 'float'>, {(): 0.0, ('x0',): 0.0, ('x1',): 0.0, ('x2',): 0.0}))"
      ]
     },
     "execution_count": 65,
     "metadata": {},
     "output_type": "execute_result"
    }
   ],
   "source": [
    "problem.objective_function"
   ]
  },
  {
   "cell_type": "code",
   "execution_count": 63,
   "id": "2b00ecfc",
   "metadata": {},
   "outputs": [
    {
     "data": {
      "text/plain": [
       "Polynomial(terms=defaultdict(<class 'float'>, {(): 0.0, ('x0',): 0.0, ('x1',): 0.0, ('x2',): 0.0}))"
      ]
     },
     "execution_count": 63,
     "metadata": {},
     "output_type": "execute_result"
    }
   ],
   "source": [
    "problem.objective_function"
   ]
  },
  {
   "cell_type": "code",
   "execution_count": 49,
   "id": "49cf2e28",
   "metadata": {},
   "outputs": [
    {
     "name": "stderr",
     "output_type": "stream",
     "text": [
      "C:\\Users\\basia\\Desktop\\Praca_Inzynierska_2024\\QHyper\\QHyper\\converter.py:207: ProblemWarning: Defined problem has constraints. DQM does not support constraints, it only supports objective functions!\n",
      "  warnings.warn(\n"
     ]
    },
    {
     "ename": "ValueError",
     "evalue": "not enough values to unpack (expected at least 1, got 0)",
     "output_type": "error",
     "traceback": [
      "\u001b[1;31m---------------------------------------------------------------------------\u001b[0m",
      "\u001b[1;31mValueError\u001b[0m                                Traceback (most recent call last)",
      "Cell \u001b[1;32mIn[49], line 1\u001b[0m\n\u001b[1;32m----> 1\u001b[0m res_dqm \u001b[38;5;241m=\u001b[39m \u001b[43mdqm\u001b[49m\u001b[38;5;241;43m.\u001b[39;49m\u001b[43msolve\u001b[49m\u001b[43m(\u001b[49m\u001b[43m)\u001b[49m\n",
      "File \u001b[1;32m~\\Desktop\\Praca_Inzynierska_2024\\QHyper\\QHyper\\solvers\\quantum_annealing\\dwave\\dqm.py:42\u001b[0m, in \u001b[0;36mDQM.solve\u001b[1;34m(self)\u001b[0m\n\u001b[0;32m     41\u001b[0m \u001b[38;5;28;01mdef\u001b[39;00m \u001b[38;5;21msolve\u001b[39m(\u001b[38;5;28mself\u001b[39m) \u001b[38;5;241m-\u001b[39m\u001b[38;5;241m>\u001b[39m SolverResult:\n\u001b[1;32m---> 42\u001b[0m     dqm \u001b[38;5;241m=\u001b[39m \u001b[43mConverter\u001b[49m\u001b[38;5;241;43m.\u001b[39;49m\u001b[43mto_dqm\u001b[49m\u001b[43m(\u001b[49m\u001b[38;5;28;43mself\u001b[39;49m\u001b[38;5;241;43m.\u001b[39;49m\u001b[43mproblem\u001b[49m\u001b[43m,\u001b[49m\u001b[43m \u001b[49m\u001b[38;5;28;43mself\u001b[39;49m\u001b[38;5;241;43m.\u001b[39;49m\u001b[43mcases\u001b[49m\u001b[43m)\u001b[49m\n\u001b[0;32m     43\u001b[0m     sampler \u001b[38;5;241m=\u001b[39m LeapHybridDQMSampler(token\u001b[38;5;241m=\u001b[39m\u001b[38;5;28mself\u001b[39m\u001b[38;5;241m.\u001b[39mtoken \u001b[38;5;129;01mor\u001b[39;00m DWAVE_API_TOKEN)\n\u001b[0;32m     44\u001b[0m     solutions \u001b[38;5;241m=\u001b[39m sampler\u001b[38;5;241m.\u001b[39msample_dqm(dqm, \u001b[38;5;28mself\u001b[39m\u001b[38;5;241m.\u001b[39mtime)\n",
      "File \u001b[1;32m~\\Desktop\\Praca_Inzynierska_2024\\QHyper\\QHyper\\converter.py:236\u001b[0m, in \u001b[0;36mConverter.to_dqm\u001b[1;34m(problem, cases)\u001b[0m\n\u001b[0;32m    233\u001b[0m         dqm\u001b[38;5;241m.\u001b[39madd_variable(cases \u001b[38;5;241m+\u001b[39m cases_offset, variable)\n\u001b[0;32m    235\u001b[0m \u001b[38;5;28;01mfor\u001b[39;00m \u001b[38;5;28mvars\u001b[39m, bias \u001b[38;5;129;01min\u001b[39;00m problem\u001b[38;5;241m.\u001b[39mobjective_function\u001b[38;5;241m.\u001b[39mterms\u001b[38;5;241m.\u001b[39mitems():\n\u001b[1;32m--> 236\u001b[0m     s_i, \u001b[38;5;241m*\u001b[39ms_j \u001b[38;5;241m=\u001b[39m \u001b[38;5;28mvars\u001b[39m\n\u001b[0;32m    237\u001b[0m     x_i \u001b[38;5;241m=\u001b[39m binary_to_discrete(s_i)\n\u001b[0;32m    238\u001b[0m     xi_idx: \u001b[38;5;28mint\u001b[39m \u001b[38;5;241m=\u001b[39m cast(\u001b[38;5;28mint\u001b[39m, dqm\u001b[38;5;241m.\u001b[39mvariables\u001b[38;5;241m.\u001b[39mindex(x_i))\n",
      "\u001b[1;31mValueError\u001b[0m: not enough values to unpack (expected at least 1, got 0)"
     ]
    }
   ],
   "source": [
    "res_dqm = dqm.solve()"
   ]
  },
  {
   "cell_type": "code",
   "execution_count": 52,
   "id": "680d16b6",
   "metadata": {},
   "outputs": [
    {
     "data": {
      "text/plain": [
       "DQM(problem=KnapsackProblem, time=5, cases=1, token=None)"
      ]
     },
     "execution_count": 52,
     "metadata": {},
     "output_type": "execute_result"
    }
   ],
   "source": [
    "dqm"
   ]
  },
  {
   "cell_type": "code",
   "execution_count": 12,
   "id": "4d9f4f13",
   "metadata": {},
   "outputs": [
    {
     "name": "stdout",
     "output_type": "stream",
     "text": [
      "Gurobi.all_vars: {x9, x5}\n",
      "Gurobi.vars: {'x9': <gurobi.Var *Awaiting Model Update*>, 'x5': <gurobi.Var *Awaiting Model Update*>}\n",
      "Gurobi.polynomial_to_gurobi: 0.0 + [ 0.0 <gurobi.Var *Awaiting Model Update*> ^ 2 + 0.0 <gurobi.Var *Awaiting Model Update*> * <gurobi.Var *Awaiting Model Update*> + 0.0 <gurobi.Var *Awaiting Model Update*> ^ 2 ]\n",
      "Status code: 2\n",
      "Status name: OPTIMAL\n",
      "status: 2\n",
      "Gurobi.allvars: [<gurobi.Var x9 (value -0.0)>, <gurobi.Var x5 (value -0.0)>]\n",
      "Gurobi.solution: {'x9': -0.0, 'x5': -0.0}\n",
      "Gurobi sample: SolverResult(probabilities=rec.array([(0, 0, 1.)],\n",
      "          dtype=[('x9', '<i4'), ('x5', '<i4'), ('probability', '<f8')]), params={}, history=[])\n",
      "Gurobi: [(0, 0)]\n"
     ]
    }
   ],
   "source": [
    "sample = gurobi.solve()\n",
    "print(f\"Gurobi sample: {sample}\")\n",
    "\n",
    "variables = sorted(\n",
    "    [col for col in sample.probabilities.dtype.names if col.startswith(\"x\")],\n",
    "    key=lambda x: int(x[1:]),\n",
    ")\n",
    "print(f\"Gurobi: {sample.probabilities[variables]}\")\n",
    "community = sample.probabilities[variables][0]\n",
    "\n",
    "result = dict(zip(variables, community))\n",
    "\n",
    "# problem.get_score(result)"
   ]
  },
  {
   "cell_type": "code",
   "execution_count": 23,
   "id": "8b0eac95",
   "metadata": {},
   "outputs": [],
   "source": [
    "adv = Advantage(problem, num_reads=1)"
   ]
  },
  {
   "cell_type": "code",
   "execution_count": 24,
   "id": "e2fccef7",
   "metadata": {},
   "outputs": [
    {
     "data": {
      "text/plain": [
       "Polynomial(terms=defaultdict(<class 'float'>, {('x5', 'x5'): 0.0, ('x5', 'x9'): 0.0, ('x9', 'x9'): 0.0}))"
      ]
     },
     "execution_count": 24,
     "metadata": {},
     "output_type": "execute_result"
    }
   ],
   "source": [
    "problem.objective_function"
   ]
  },
  {
   "cell_type": "code",
   "execution_count": 25,
   "id": "66df8cdd",
   "metadata": {},
   "outputs": [],
   "source": [
    "res_adv = adv.solve()"
   ]
  },
  {
   "cell_type": "code",
   "execution_count": 26,
   "id": "db23be0e",
   "metadata": {},
   "outputs": [
    {
     "data": {
      "text/plain": [
       "{'x5': 0, 'x9': 0}"
      ]
     },
     "execution_count": 26,
     "metadata": {},
     "output_type": "execute_result"
    }
   ],
   "source": [
    "sample = res_adv\n",
    "\n",
    "variables = sorted(\n",
    "    [col for col in sample.probabilities.dtype.names if col.startswith(\"x\")],\n",
    "    key=lambda x: int(x[1:]),\n",
    ")\n",
    "community = sample.probabilities[variables][0]\n",
    "\n",
    "result = dict(zip(variables, community))\n",
    "result\n",
    "\n",
    "# problem.get_score(result)"
   ]
  },
  {
   "cell_type": "code",
   "execution_count": 18,
   "id": "ec6a5860",
   "metadata": {},
   "outputs": [
    {
     "name": "stdout",
     "output_type": "stream",
     "text": [
      "Gurobi: []\n"
     ]
    }
   ],
   "source": [
    "sample = res\n",
    "\n",
    "variables = sorted(\n",
    "    [col for col in sample.probabilities.dtype.names if col.startswith(\"x\")],\n",
    "    key=lambda x: int(x[1:]),\n",
    ")\n",
    "print(f\"Gurobi: {sample.probabilities[variables]}\")"
   ]
  }
 ],
 "metadata": {
  "kernelspec": {
   "display_name": "qomm_env",
   "language": "python",
   "name": "python3"
  },
  "language_info": {
   "codemirror_mode": {
    "name": "ipython",
    "version": 3
   },
   "file_extension": ".py",
   "mimetype": "text/x-python",
   "name": "python",
   "nbconvert_exporter": "python",
   "pygments_lexer": "ipython3",
   "version": "3.10.14"
  }
 },
 "nbformat": 4,
 "nbformat_minor": 5
}
