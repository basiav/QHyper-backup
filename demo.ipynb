{
 "cells": [
  {
   "attachments": {},
   "cell_type": "markdown",
   "metadata": {},
   "source": [
    "## QHyper usecase"
   ]
  },
  {
   "attachments": {},
   "cell_type": "markdown",
   "metadata": {},
   "source": [
    "### Create instance of problem"
   ]
  },
  {
   "cell_type": "code",
   "execution_count": 1,
   "metadata": {},
   "outputs": [],
   "source": [
    "from QHyper.problems import KnapsackProblem, TSPProblem\n",
    "\n",
    "PROBLEM_TYPE = 'knapsack' # 'tsp'\n",
    "\n",
    "\n",
    "# Each problem needs different parameters, because it depends on the number\n",
    "# of variables and constraints\n",
    "# Number of hyper_optimizer_bounds depends on the number of constraints,\n",
    "# because each constraint requires one penalty weights, and objective function also\n",
    "# requires one\n",
    "\n",
    "if PROBLEM_TYPE == 'knapsack':\n",
    "    # Create knapsack with 3 items: 2 with weights 1 and\n",
    "    # value 2 - (1, 2), and one with weight 1 and value 1 - (1, 1)\n",
    "    problem = KnapsackProblem(max_weight=2, item_values=[1, 1, 3], item_weights=[1, 1, 2])\n",
    "\n",
    "    problem_config = {  # This is going to be used later\n",
    "        'type': 'knapsack',\n",
    "        'max_weight': 2,\n",
    "        'item_values': [1, 1, 3],\n",
    "        'item_weights': [1, 1, 2],\n",
    "    }\n",
    "\n",
    "    params_config = {\n",
    "        'angles': [[0.5]*5, [1]*5],\n",
    "        'hyper_args': [1, 2.5, 2.5],\n",
    "    }\n",
    "    hyper_optimizer_bounds = 3*[(1, 10)]\n",
    "    penalty = 2\n",
    "\n",
    "elif PROBLEM_TYPE == 'tsp':\n",
    "    # Create Traveling Salesmam Problem with 3 cities\n",
    "    problem = TSPProblem(number_of_cities=3)\n",
    "\n",
    "    problem_config = {  # This is going to be used later\n",
    "        'type': 'tsp',\n",
    "        'number_of_cities': 3,\n",
    "    }\n",
    "\n",
    "    params_config = {\n",
    "        'angles': [[0.5]*5, [1]*5],\n",
    "        'hyper_args': [1, 2, 2, 2, 2],\n",
    "    }\n",
    "    hyper_optimizer_bounds = 5*[(1, 10)]\n",
    "    penalty = -1\n"
   ]
  },
  {
   "cell_type": "code",
   "execution_count": 2,
   "metadata": {},
   "outputs": [
    {
     "name": "stdout",
     "output_type": "stream",
     "text": [
      "Variables used to describe objective functionand constraints: (x0, x1, x2, x3, x4)\n",
      "Objective function: Polynomial(terms=defaultdict(<class 'float'>, {('x0',): -1.0, ('x1',): -1.0, ('x2',): -3.0}))\n",
      "Constraints:\n",
      "    Polynomial(terms=defaultdict(<class 'float'>, {('x3',): -1.0, ('x4',): -1.0, (): 1.0})) == Polynomial(terms=defaultdict(<class 'float'>, {}))\n",
      "    Polynomial(terms=defaultdict(<class 'float'>, {('x0',): -1.0, ('x1',): -1.0, ('x2',): -2.0, ('x3',): 1.0, ('x4',): 2.0})) == Polynomial(terms=defaultdict(<class 'float'>, {}))\n"
     ]
    }
   ],
   "source": [
    "print(f\"Variables used to describe objective function\"\n",
    "      f\"and constraints: {problem.variables}\")\n",
    "print(f\"Objective function: {problem.objective_function}\")\n",
    "print(\"Constraints:\")\n",
    "for constraint in problem.constraints:\n",
    "    print(f\"    {constraint}\")\n"
   ]
  },
  {
   "attachments": {},
   "cell_type": "markdown",
   "metadata": {},
   "source": [
    "### Use VQA to solve knapsack problem"
   ]
  },
  {
   "cell_type": "code",
   "execution_count": 1,
   "metadata": {},
   "outputs": [
    {
     "name": "stdout",
     "output_type": "stream",
     "text": [
      "Imported <class 'test.solver1'> from /home/tmek/QHyper/custom/test.py as solver1\n",
      "Imported <class 'test.test'> from /home/tmek/QHyper/custom/test.py as test\n"
     ]
    }
   ],
   "source": [
    "# Create a VQA instance with HQAOA as PQC and scipy optimizer\n",
    "# This can be done in two various way\n",
    "# 1. Providing dict with config (usefull to save experiment confing in e.g JSON)\n",
    "from QHyper.solvers import solver_from_config\n",
    "from numpy import pi\n",
    "\n",
    "# While we could use problem instace to create solver, the better approach\n",
    "# is to use config, because it is easier to save it in JSON file and load it later\n",
    "\n",
    "# solver_config = {\n",
    "#     \"solver\": {\n",
    "#         \"type\": \"vqa\",\n",
    "#         \"optimizer\": {\n",
    "#             \"type\": \"scipy\",\n",
    "#             \"maxfun\": 200,\n",
    "#             \"bounds\": [(0, 2 * pi)] * 10\n",
    "#         },\n",
    "#         \"pqc\": {\n",
    "#             \"type\": \"wfqaoa\",\n",
    "#             \"layers\": 5,\n",
    "#             \"limit_results\": 20,\n",
    "#             \"penalty\": penalty,\n",
    "#             \"backend\": \"default.qubit\",\n",
    "#         },\n",
    "#         \"params_inits\": params_config\n",
    "#     },\n",
    "#     \"problem\": problem_config\n",
    "# }\n",
    "\n",
    "# solver_config = {\n",
    "#     \"solver\": {\n",
    "#         \"type\": \"dqm\",\n",
    "#         \"time\": 5\n",
    "#     },\n",
    "#     \"problem\": problem_config\n",
    "# }\n",
    "problem_config = {  # This is going to be used later\n",
    "       'type': 'knapsack',\n",
    "        'max_weight': 2,\n",
    "        'item_values': [1, 1, 3],\n",
    "        'item_weights': [1, 1, 2],\n",
    "    }\n",
    "solver_config = {\n",
    "    'problem': problem_config,\n",
    "    # 'solver': {\n",
    "    #     'name': 'DQM',\n",
    "    #     'category': 'quantum_annealing',\n",
    "    #     'platform': 'dwave',\n",
    "    #     'time': 5,\n",
    "    #     # 'num_reads': 100,\n",
    "    #     \"token\": \"DEV-c89566dc7b9419a5ddbc714bf36557ee3dcf3a4a\"\n",
    "    # },\n",
    "    'solver': {\n",
    "        'name': 'Gurobi',\n",
    "        'category': 'classical',\n",
    "        'platform': 'gurobi',\n",
    "    }\n",
    "    # 'solver': {\n",
    "    #     'name': 'qaoa',\n",
    "    #     'category': 'gate_based',\n",
    "    #     'platform': 'pennylane',\n",
    "    #     'gamma': {\n",
    "    #         'min': [0] * 5,\n",
    "    #         'max': [2*pi] * 5,\n",
    "    #         'init': [0.5] * 5,\n",
    "    #     },\n",
    "    #     'beta': {\n",
    "    #         'min': [0] * 5,\n",
    "    #         'max': [2*pi] * 5,\n",
    "    #         'init': [1] * 5,\n",
    "    #     },\n",
    "    #     'layers': 5,\n",
    "    #     'penalty_weights': [1, 2, 2],\n",
    "    #     # 'penalty_weights': {\n",
    "    #     #     'min': [1, 1, 1],\n",
    "    #     #     'max': [3, 3, 3],\n",
    "    #     #     'init': [1, 2, 2],\n",
    "    #     # },\n",
    "    #     # 'penalty': 3,\n",
    "    #     'optimizer': {\n",
    "    #         \"type\": \"qml\",\n",
    "    #         \"name\": \"adam\"\n",
    "    #         # \"maxfun\": 200,\n",
    "    #     },\n",
    "    # },\n",
    "    # \"hyper_optimizer\": {\n",
    "    #     'optimizer': {\n",
    "    #         \"type\": \"random\",\n",
    "    #         \"processes\": 5,\n",
    "    #         \"number_of_samples\": 5,\n",
    "    #     },\n",
    "    #     'weights': {\n",
    "    #         'min': [1, 1, 1],\n",
    "    #         'max': [3, 3, 3],\n",
    "    #         # 'init': [2, 2, 2],\n",
    "    #         # 'step': [1, 1, 1]\n",
    "    #     },\n",
    "    #     # 'gamma': {\n",
    "    #     #     'min': [0] * 5,\n",
    "    #     #     'max': [2*pi] * 5,\n",
    "    #     #     'init': [0.5] * 5,\n",
    "    #     # },\n",
    "    #     # 'beta': {\n",
    "    #     #     'min': [0] * 5,\n",
    "    #     #     'max': [2*pi] * 5,\n",
    "    #     #     'init': [1] * 5,\n",
    "    #     # },\n",
    "    # }\n",
    "}\n",
    "vqa = solver_from_config(solver_config)\n",
    "\n",
    "# # 2. Providing actual isntance of each class like VQA and Optimizer\n",
    "# NOT RECOMMENDED\n",
    "\n",
    "# from QHyper.solvers.vqa import VQA\n",
    "# from QHyper.solvers.vqa.pqc import HQAOA\n",
    "# from QHyper.optimizers import ScipyOptimizer\n",
    "\n",
    "# vqa = VQA(problem, HQAOA(layers=5, penalty=penalty, backend='default.qubit'),\n",
    "#           ScipyOptimizer(maxfun=200))\n",
    "solver_results_1 = vqa.solve()"
   ]
  },
  {
   "cell_type": "code",
   "execution_count": 2,
   "metadata": {},
   "outputs": [
    {
     "data": {
      "text/plain": [
       "SolverResult(probabilities=rec.array([(0, 0, 0, 1, 1, 1.)],\n",
       "          dtype=[('x0', '<i4'), ('x1', '<i4'), ('x3', '<i4'), ('x2', '<i4'), ('x4', '<i4'), ('probability', '<f8')]), params={}, history=[])"
      ]
     },
     "execution_count": 2,
     "metadata": {},
     "output_type": "execute_result"
    }
   ],
   "source": [
    "solver_results_1"
   ]
  },
  {
   "cell_type": "code",
   "execution_count": 3,
   "metadata": {},
   "outputs": [],
   "source": [
    "best_res = solver_results_1"
   ]
  },
  {
   "cell_type": "code",
   "execution_count": 4,
   "metadata": {},
   "outputs": [
    {
     "ename": "AttributeError",
     "evalue": "'Gurobi' object has no attribute 'run_solver'",
     "output_type": "error",
     "traceback": [
      "\u001b[0;31m---------------------------------------------------------------------------\u001b[0m",
      "\u001b[0;31mAttributeError\u001b[0m                            Traceback (most recent call last)",
      "Cell \u001b[0;32mIn[4], line 1\u001b[0m\n\u001b[0;32m----> 1\u001b[0m best_res \u001b[38;5;241m=\u001b[39m \u001b[43mvqa\u001b[49m\u001b[38;5;241;43m.\u001b[39;49m\u001b[43mrun_solver\u001b[49m(solver_results_1\u001b[38;5;241m.\u001b[39mparams)\n",
      "\u001b[0;31mAttributeError\u001b[0m: 'Gurobi' object has no attribute 'run_solver'"
     ]
    }
   ],
   "source": [
    "best_res = vqa.run_solver(solver_results_1.params)"
   ]
  },
  {
   "cell_type": "code",
   "execution_count": 5,
   "metadata": {},
   "outputs": [
    {
     "name": "stdout",
     "output_type": "stream",
     "text": [
      "Evaluation:\n",
      "-3.0\n",
      "Sort results:\n",
      "Result: (0, 0, 1, 0, 1, 1., -3.), Prob: 1.0, Evaluation: -3.0\n"
     ]
    }
   ],
   "source": [
    "from QHyper.util import (\n",
    "    weighted_avg_evaluation, sort_solver_results, add_evaluation_to_results)\n",
    "\n",
    "# Evaluate results with weighted average evaluation\n",
    "\n",
    "# solver_results = solver_results_1\n",
    "\n",
    "print(\"Evaluation:\")\n",
    "print(weighted_avg_evaluation(\n",
    "    best_res.probabilities, vqa.problem.get_score,\n",
    "    penalty=0, limit_results=30, normalize=True\n",
    "))\n",
    "print(\"Sort results:\")\n",
    "sorted_results = sort_solver_results(\n",
    "    best_res.probabilities, limit_results=100)\n",
    "\n",
    "# Add evaluation to results\n",
    "results_with_evaluation = add_evaluation_to_results(\n",
    "    sorted_results, vqa.problem.get_score, penalty=0)\n",
    "\n",
    "for rec in results_with_evaluation:\n",
    "    print(f\"Result: {rec}, \"\n",
    "          f\"Prob: {rec['probability']:.5}, \"\n",
    "          f\"Evaluation: {rec['evaluation']:.5}\")"
   ]
  },
  {
   "attachments": {},
   "cell_type": "markdown",
   "metadata": {},
   "source": [
    "#### Using hyper optimizers"
   ]
  },
  {
   "cell_type": "code",
   "execution_count": null,
   "metadata": {},
   "outputs": [],
   "source": [
    "# Additionally other optimizer can be used to tune some parameters, in below\n",
    "# example, Random optimzier will change penalty_weights (hyper_args) and choose ones\n",
    "# that gives the best results after runnign 200 iteration of scipy minimizer\n",
    "\n",
    "solver_config = {\n",
    "    \"solver\": {\n",
    "        \"type\": \"vqa\",\n",
    "        \"optimizer\": {\n",
    "            \"type\": \"scipy\",\n",
    "            \"maxfun\": 200,\n",
    "            \"bounds\": [(0, 2 * pi)] * 10\n",
    "        },\n",
    "        \"pqc\": {\n",
    "            \"type\": \"wfqaoa\",\n",
    "            \"layers\": 5,\n",
    "            \"limit_results\": 20,\n",
    "            \"penalty\": penalty,\n",
    "        },\n",
    "        \"params_inits\": params_config,\n",
    "        \"hyper_optimizer\": {\n",
    "            \"type\": \"random\",\n",
    "            \"processes\": 5,\n",
    "            \"number_of_samples\": 100,\n",
    "            \"bounds\": hyper_optimizer_bounds,\n",
    "        }\n",
    "    },\n",
    "    \"problem\": problem_config\n",
    "}\n",
    "vqa = solver_from_config(solver_config)\n"
   ]
  },
  {
   "cell_type": "code",
   "execution_count": null,
   "metadata": {},
   "outputs": [
    {
     "name": "stdout",
     "output_type": "stream",
     "text": [
      "Solver results:\n",
      "Probabilities: {'00000': 0.036215643738056184, '00001': 0.009732461820058054, '00010': 0.01512752159177665, '00011': 0.004898970085671026, '00100': 0.009811070774507602, '00101': 0.009995230222961251, '00110': 0.17020709388664948, '00111': 0.009835147114974447, '01000': 0.009633808259437516, '01001': 6.551348341363583e-05, '01010': 0.06818393104282872, '01011': 0.0032310466245177418, '01100': 0.008494761842195329, '01101': 0.13505509463529042, '01110': 0.01678625146275098, '01111': 0.01106622875202749, '10000': 0.00963380825943751, '10001': 6.551348341363564e-05, '10010': 0.06818393104282863, '10011': 0.0032310466245177435, '10100': 0.00849476184219533, '10101': 0.13505509463529033, '10110': 0.01678625146275097, '10111': 0.011066228752027488, '11000': 0.018086704657015597, '11001': 0.14481572304362988, '11010': 0.005243829793381593, '11011': 0.013867749560177636, '11100': 0.009298811833917654, '11101': 0.0028672422311025393, '11110': 0.010112918453326875, '11111': 0.024850608987859454}\n",
      "Best params: {'angles': array([0.49277451, 0.49510459, 0.51749707, 0.52209666, 0.48609426,\n",
      "       1.00992149, 1.0088181 , 1.01201309, 0.99153701, 0.99787831]), 'hyper_args': array([6.02040093, 2.34412237, 9.16712003])}\n"
     ]
    }
   ],
   "source": [
    "solver_results = vqa.solve()\n",
    "\n",
    "print(\"Solver results:\")\n",
    "print(f\"Probabilities: {solver_results.probabilities}\")\n",
    "print(f\"Best params: {solver_results.params}\")\n"
   ]
  },
  {
   "cell_type": "code",
   "execution_count": null,
   "metadata": {},
   "outputs": [
    {
     "name": "stdout",
     "output_type": "stream",
     "text": [
      "Evaluation:\n",
      "-2.241798915063301\n",
      "Sort results:\n",
      "Result: 00110, Prob: 0.17021, Evaluation: -1\n",
      "Result: 11001, Prob: 0.14482, Evaluation: -4\n",
      "Result: 01101, Prob: 0.13506, Evaluation: -3\n",
      "Result: 10101, Prob: 0.13506, Evaluation: -3\n",
      "Result: 01010, Prob: 0.068184, Evaluation: -2\n",
      "Result: 10010, Prob: 0.068184, Evaluation: -2\n",
      "Result: 00000, Prob: 0.036216, Evaluation: 0\n",
      "Result: 11111, Prob: 0.024851, Evaluation: 2\n",
      "Result: 11000, Prob: 0.018087, Evaluation: 2\n",
      "Result: 01110, Prob: 0.016786, Evaluation: 2\n"
     ]
    }
   ],
   "source": [
    "print(\"Evaluation:\")\n",
    "print(weighted_avg_evaluation(\n",
    "    solver_results.probabilities, problem.get_score,\n",
    "    penalty=0, limit_results=10, normalize=True\n",
    "))\n",
    "print(\"Sort results:\")\n",
    "sorted_results = sort_solver_results(\n",
    "    solver_results.probabilities, limit_results=10)\n",
    "\n",
    "results_with_evaluation = add_evaluation_to_results(\n",
    "    sorted_results, problem.get_score, penalty=penalty)\n",
    "\n",
    "for result, (probability, evaluation) in results_with_evaluation.items():\n",
    "    print(f\"Result: {result}, \"\n",
    "          f\"Prob: {probability:.5}, \"\n",
    "          f\"Evaluation: {evaluation}\")\n"
   ]
  },
  {
   "cell_type": "code",
   "execution_count": null,
   "metadata": {},
   "outputs": [],
   "source": [
    "solver_config = {\n",
    "    'problem': {\n",
    "        'type': 'tsp',\n",
    "        'number_of_cities': 3,\n",
    "    },\n",
    "    'solver': {\n",
    "        'name': 'QAOA',\n",
    "        'category': 'gate_based',\n",
    "        'platform': 'pennylane',\n",
    "        'angles': {\n",
    "            'min': [[0]*5, [0]*5],\n",
    "            'max': [[2*pi]*5, [pi]*5],\n",
    "            'init': [[0.5]*5, [1]*5],\n",
    "        },\n",
    "        'layers': 5,\n",
    "        'penalty_weights': [1, 2, 2],\n",
    "        'optimizer': {\n",
    "            \"type\": \"scipy\",\n",
    "            \"maxfun\": 200,\n",
    "            \"bounds\": [(0, 2 * pi)] * 10\n",
    "        },\n",
    "    },\n",
    "    \"hyper_optimizer\": {\n",
    "        'optimizer': {\n",
    "            \"type\": \"random\",\n",
    "            \"processes\": 1,\n",
    "            \"number_of_samples\": 2,\n",
    "        },\n",
    "        'penalty_weights': {\n",
    "            'min': [1, 1, 1],\n",
    "            'max': [10, 10, 10],\n",
    "            'init': [2, 2, 2]\n",
    "        },\n",
    "        'angles': {\n",
    "            'min': [2] * 10,\n",
    "            'max': [4] * 10,\n",
    "            'init': [3] * 10,\n",
    "            # 'steps': []\n",
    "        }\n",
    "    }\n",
    "}"
   ]
  }
 ],
 "metadata": {
  "kernelspec": {
   "display_name": "venv",
   "language": "python",
   "name": "python3"
  },
  "language_info": {
   "codemirror_mode": {
    "name": "ipython",
    "version": 3
   },
   "file_extension": ".py",
   "mimetype": "text/x-python",
   "name": "python",
   "nbconvert_exporter": "python",
   "pygments_lexer": "ipython3",
   "version": "3.12.7"
  },
  "orig_nbformat": 4
 },
 "nbformat": 4,
 "nbformat_minor": 2
}
